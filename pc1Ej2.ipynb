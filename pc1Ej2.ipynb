{
  "nbformat": 4,
  "nbformat_minor": 0,
  "metadata": {
    "colab": {
      "name": "pc1Ej2.ipynb",
      "provenance": [],
      "authorship_tag": "ABX9TyPCwvSxrW6ohOhu4XG9dRlt",
      "include_colab_link": true
    },
    "kernelspec": {
      "name": "python3",
      "display_name": "Python 3"
    }
  },
  "cells": [
    {
      "cell_type": "markdown",
      "metadata": {
        "id": "view-in-github",
        "colab_type": "text"
      },
      "source": [
        "<a href=\"https://colab.research.google.com/github/pcsilcan/ca/blob/master/pc1Ej2.ipynb\" target=\"_parent\"><img src=\"https://colab.research.google.com/assets/colab-badge.svg\" alt=\"Open In Colab\"/></a>"
      ]
    },
    {
      "cell_type": "code",
      "metadata": {
        "id": "q5ChkGY-y0yh",
        "colab_type": "code",
        "colab": {
          "base_uri": "https://localhost:8080/",
          "height": 101
        },
        "outputId": "98c1abba-9a55-44e5-e213-000b9e4332ef"
      },
      "source": [
        "with open('ej2.in') as file:\n",
        "    line = file.readline()\n",
        "    case = 1\n",
        "    while line != \"0 0\":\n",
        "        N, Q = (int(x) for x in line.split(' ')) # \"4 5 6\" -> [\"4\", \"5\", \"6\"]\n",
        "\n",
        "        numbers = {}\n",
        "        for i in range(N):\n",
        "            nro = int(file.readline())\n",
        "            if not nro in numbers:\n",
        "                numbers[nro] = i + 1\n",
        "\n",
        "        print(\"CASE# \", case)\n",
        "        case = case + 1\n",
        "        \n",
        "        for i in range(Q):\n",
        "            nro = int(file.readline())\n",
        "            if nro in numbers:\n",
        "                print(nro, \"found at\", numbers[nro])\n",
        "            else:\n",
        "                print(nro, \"not found\")\n",
        "\n",
        "        line = file.readline()        "
      ],
      "execution_count": 11,
      "outputs": [
        {
          "output_type": "stream",
          "text": [
            "CASE#  1\n",
            "5 found at 3\n",
            "CASE#  2\n",
            "2 not found\n",
            "3 found at 2\n"
          ],
          "name": "stdout"
        }
      ]
    },
    {
      "cell_type": "code",
      "metadata": {
        "id": "4pukn2RQzhu0",
        "colab_type": "code",
        "colab": {}
      },
      "source": [
        ""
      ],
      "execution_count": 0,
      "outputs": []
    }
  ]
}