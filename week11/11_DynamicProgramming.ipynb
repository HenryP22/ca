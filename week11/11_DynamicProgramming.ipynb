{
  "nbformat": 4,
  "nbformat_minor": 0,
  "metadata": {
    "colab": {
      "name": "11-DynamicProgramming.ipynb",
      "provenance": [],
      "authorship_tag": "ABX9TyNhZBceyZEk2cjKhJwVYitS",
      "include_colab_link": true
    },
    "kernelspec": {
      "name": "python3",
      "display_name": "Python 3"
    }
  },
  "cells": [
    {
      "cell_type": "markdown",
      "metadata": {
        "id": "view-in-github",
        "colab_type": "text"
      },
      "source": [
        "<a href=\"https://colab.research.google.com/github/pcsilcan/ca/blob/master/week11/11_DynamicProgramming.ipynb\" target=\"_parent\"><img src=\"https://colab.research.google.com/assets/colab-badge.svg\" alt=\"Open In Colab\"/></a>"
      ]
    },
    {
      "cell_type": "markdown",
      "metadata": {
        "id": "g8w8xv4L-uQx",
        "colab_type": "text"
      },
      "source": [
        "# Programación Dinámica\n",
        "\n",
        "## Fibonacci con programación dinámica"
      ]
    },
    {
      "cell_type": "code",
      "metadata": {
        "id": "75RT9dfR-iof",
        "colab_type": "code",
        "colab": {}
      },
      "source": [
        "def fibonacci(n):\n",
        "    table = [-1]*(n+1)\n",
        "\n",
        "    def fibo(n):\n",
        "        if n < 2:\n",
        "            table[0] = 0\n",
        "            table[1] = 1\n",
        "        else:\n",
        "            fibo(n - 1)\n",
        "            table[n] = table[n-1] + table[n-2]\n",
        "        #print(table)\n",
        "    \n",
        "    fibo(n)\n",
        "\n",
        "    return table[n]"
      ],
      "execution_count": 0,
      "outputs": []
    },
    {
      "cell_type": "code",
      "metadata": {
        "id": "8_Xf_Uz7_Rsm",
        "colab_type": "code",
        "outputId": "598e39b0-a215-409a-dc36-2e802ce41bf2",
        "colab": {
          "base_uri": "https://localhost:8080/",
          "height": 34
        }
      },
      "source": [
        "fibonacci(10)"
      ],
      "execution_count": 0,
      "outputs": [
        {
          "output_type": "execute_result",
          "data": {
            "text/plain": [
              "55"
            ]
          },
          "metadata": {
            "tags": []
          },
          "execution_count": 8
        }
      ]
    },
    {
      "cell_type": "markdown",
      "metadata": {
        "id": "N5uqNmjpBur_",
        "colab_type": "text"
      },
      "source": [
        "# Monedas con algoritmo codicioso"
      ]
    },
    {
      "cell_type": "code",
      "metadata": {
        "id": "Pj2DK3fZ_TOp",
        "colab_type": "code",
        "colab": {}
      },
      "source": [
        "def greedycoins(n, d): # denominaciones\n",
        "    c = 0\n",
        "    while n > 0:\n",
        "        for v in reversed(d):\n",
        "            if n >= v:\n",
        "                n = n - v\n",
        "                print(\"Usando una moneda de \", v, \",\", n, \"left\")\n",
        "                c += 1\n",
        "                break\n",
        "    print(\"total de moneda usadas: \", c)"
      ],
      "execution_count": 0,
      "outputs": []
    },
    {
      "cell_type": "code",
      "metadata": {
        "id": "JCYwvfD4CFcQ",
        "colab_type": "code",
        "outputId": "1fe56e94-a911-4c06-f178-6aacf80d5c02",
        "colab": {
          "base_uri": "https://localhost:8080/",
          "height": 218
        }
      },
      "source": [
        "d = [1, 5, 10, 20, 50]\n",
        "greedycoins(85, d)\n",
        "greedycoins(35, d)\n",
        "greedycoins(40, d)"
      ],
      "execution_count": 0,
      "outputs": [
        {
          "output_type": "stream",
          "text": [
            "Usando una moneda de  50 , 35 left\n",
            "Usando una moneda de  20 , 15 left\n",
            "Usando una moneda de  10 , 5 left\n",
            "Usando una moneda de  5 , 0 left\n",
            "total de moneda usadas:  4\n",
            "Usando una moneda de  20 , 15 left\n",
            "Usando una moneda de  10 , 5 left\n",
            "Usando una moneda de  5 , 0 left\n",
            "total de moneda usadas:  3\n",
            "Usando una moneda de  20 , 20 left\n",
            "Usando una moneda de  20 , 0 left\n",
            "total de moneda usadas:  2\n"
          ],
          "name": "stdout"
        }
      ]
    },
    {
      "cell_type": "code",
      "metadata": {
        "id": "Yx-PJ8h5DTX9",
        "colab_type": "code",
        "outputId": "04fc0d3b-dac2-4c0d-eccc-dd7e8fb2ed71",
        "colab": {
          "base_uri": "https://localhost:8080/",
          "height": 202
        }
      },
      "source": [
        "d = [1, 5, 10, 20, 25, 50]\n",
        "greedycoins(85, d)\n",
        "greedycoins(35, d)\n",
        "greedycoins(40, d)"
      ],
      "execution_count": 0,
      "outputs": [
        {
          "output_type": "stream",
          "text": [
            "Usando una moneda de  50 , 35 left\n",
            "Usando una moneda de  25 , 10 left\n",
            "Usando una moneda de  10 , 0 left\n",
            "total de moneda usadas:  3\n",
            "Usando una moneda de  25 , 10 left\n",
            "Usando una moneda de  10 , 0 left\n",
            "total de moneda usadas:  2\n",
            "Usando una moneda de  25 , 15 left\n",
            "Usando una moneda de  10 , 5 left\n",
            "Usando una moneda de  5 , 0 left\n",
            "total de moneda usadas:  3\n"
          ],
          "name": "stdout"
        }
      ]
    },
    {
      "cell_type": "markdown",
      "metadata": {
        "id": "JVpvxq-qLDyU",
        "colab_type": "text"
      },
      "source": [
        "## Moneditas con DP"
      ]
    },
    {
      "cell_type": "code",
      "metadata": {
        "id": "1y__3q86EZJx",
        "colab_type": "code",
        "colab": {}
      },
      "source": [
        "import math\n",
        "\n",
        "def dynamiccoins(n, d):\n",
        "    k = len(d)\n",
        "    C = [math.inf]*(n+1)\n",
        "    Sol = [None]*(n+1)\n",
        "    C[0] = 0\n",
        "    for p in range(1, n+1):\n",
        "        # C[p] = min_i..di(C[p - di]) + 1\n",
        "        mini = math.inf\n",
        "        coin = None\n",
        "        for di in d:\n",
        "            if di > p:\n",
        "                break\n",
        "            if C[p - di] < mini:\n",
        "                mini = C[p - di]\n",
        "                coin = di\n",
        "        C[p] = mini + 1\n",
        "        Sol[p] = coin\n",
        "        # print(C)\n",
        "    print(Sol)\n",
        "    print(\"Cantidad total de monedas: \", C[n])\n",
        "    return C[n]"
      ],
      "execution_count": 0,
      "outputs": []
    },
    {
      "cell_type": "code",
      "metadata": {
        "id": "ITuqhO2nLgR9",
        "colab_type": "code",
        "outputId": "85bfa00d-992d-4aec-d909-92c9139cab23",
        "colab": {
          "base_uri": "https://localhost:8080/",
          "height": 154
        }
      },
      "source": [
        "d = [1, 5, 10, 20, 25, 50]\n",
        "dynamiccoins(85, d)\n",
        "dynamiccoins(35, d)\n",
        "dynamiccoins(40, d)"
      ],
      "execution_count": 0,
      "outputs": [
        {
          "output_type": "stream",
          "text": [
            "[None, 1, 1, 1, 1, 5, 1, 1, 1, 1, 10, 1, 1, 1, 1, 5, 1, 1, 1, 1, 20, 1, 1, 1, 1, 25, 1, 1, 1, 1, 5, 1, 1, 1, 1, 10, 1, 1, 1, 1, 20, 1, 1, 1, 1, 20, 1, 1, 1, 1, 50, 1, 1, 1, 1, 5, 1, 1, 1, 1, 10, 1, 1, 1, 1, 5, 1, 1, 1, 1, 20, 1, 1, 1, 1, 25, 1, 1, 1, 1, 5, 1, 1, 1, 1, 10]\n",
            "Cantidad total de monedas:  3\n",
            "[None, 1, 1, 1, 1, 5, 1, 1, 1, 1, 10, 1, 1, 1, 1, 5, 1, 1, 1, 1, 20, 1, 1, 1, 1, 25, 1, 1, 1, 1, 5, 1, 1, 1, 1, 10]\n",
            "Cantidad total de monedas:  2\n",
            "[None, 1, 1, 1, 1, 5, 1, 1, 1, 1, 10, 1, 1, 1, 1, 5, 1, 1, 1, 1, 20, 1, 1, 1, 1, 25, 1, 1, 1, 1, 5, 1, 1, 1, 1, 10, 1, 1, 1, 1, 20]\n",
            "Cantidad total de monedas:  2\n"
          ],
          "name": "stdout"
        },
        {
          "output_type": "execute_result",
          "data": {
            "text/plain": [
              "2"
            ]
          },
          "metadata": {
            "tags": []
          },
          "execution_count": 32
        }
      ]
    },
    {
      "cell_type": "code",
      "metadata": {
        "id": "JWXjzXKNM1Gp",
        "colab_type": "code",
        "colab": {}
      },
      "source": [
        ""
      ],
      "execution_count": 0,
      "outputs": []
    }
  ]
}