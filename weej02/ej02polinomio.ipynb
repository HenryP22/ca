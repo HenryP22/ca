{
  "nbformat": 4,
  "nbformat_minor": 0,
  "metadata": {
    "colab": {
      "name": "ej02polinomio.ipynb",
      "provenance": [],
      "authorship_tag": "ABX9TyO4WcIoHYTrHuhhcUrSbyju",
      "include_colab_link": true
    },
    "kernelspec": {
      "name": "python3",
      "display_name": "Python 3"
    }
  },
  "cells": [
    {
      "cell_type": "markdown",
      "metadata": {
        "id": "view-in-github",
        "colab_type": "text"
      },
      "source": [
        "<a href=\"https://colab.research.google.com/github/pcsilcan/ca/blob/master/weej02/ej02polinomio.ipynb\" target=\"_parent\"><img src=\"https://colab.research.google.com/assets/colab-badge.svg\" alt=\"Open In Colab\"/></a>"
      ]
    },
    {
      "cell_type": "code",
      "metadata": {
        "id": "cYjM-iMesjli",
        "colab_type": "code",
        "colab": {}
      },
      "source": [
        "def solve(coef, x0):\n",
        "  sol = 0\n",
        "  expo = 0\n",
        "  for e in reversed(coef):\n",
        "    sol += e * x0**expo\n",
        "    expo = expo + 1\n",
        "  return sol"
      ],
      "execution_count": 0,
      "outputs": []
    },
    {
      "cell_type": "code",
      "metadata": {
        "id": "JI2PYhxjthiv",
        "colab_type": "code",
        "colab": {
          "base_uri": "https://localhost:8080/",
          "height": 34
        },
        "outputId": "8443fdef-6f78-4dd3-8dcf-478c809ff661"
      },
      "source": [
        "poli = [5, 3, 0, 2, 4] # 5x^4 + 3x^3 + 0x^2 + 2x + 4\n",
        "print(solve(poli, 2))"
      ],
      "execution_count": 11,
      "outputs": [
        {
          "output_type": "stream",
          "text": [
            "112\n"
          ],
          "name": "stdout"
        }
      ]
    },
    {
      "cell_type": "code",
      "metadata": {
        "id": "N_PYg4Bc0a6Y",
        "colab_type": "code",
        "colab": {}
      },
      "source": [
        "def criptoarimo(palabra1, palabra2, palabra3):\n",
        "  str1 = [ch for ch in palabra1]\n",
        "  str2 = [ch for ch in palabra2]\n",
        "  str3 = [ch for ch in palabra3]\n",
        "\n",
        "  lst = list(set(str1 + str2 + str3))\n",
        "  n = len(lst)\n",
        "  digits = [i for i in range(10)]\n",
        "  def combinations(lst, n, w, comb):\n",
        "    if w == n:\n",
        "      check(comb)\n",
        "    else:\n",
        "      for i in range(len(lst)):\n",
        "        e = lst[i]\n",
        "        combinations(lst[:i] + lst[i+1:], n, w + 1, comb + [e])\n",
        "\n",
        "  def check(comb):\n",
        "    strnum1 = palabra1\n",
        "    strnum2 = palabra2\n",
        "    strnum3 = palabra3\n",
        "    for i in range(len(lst)):\n",
        "      strnum1 = strnum1.replace(lst[i], str(comb[i]))\n",
        "      strnum2 = strnum2.replace(lst[i], str(comb[i]))\n",
        "      strnum3 = strnum3.replace(lst[i], str(comb[i]))\n",
        "    if int(strnum1) + int(strnum2) == int(strnum3):\n",
        "      print(palabra1, strnum1, palabra2, strnum2, palabra3, strnum3)\n",
        "\n",
        "  combinations(digits, n, 0, [])"
      ],
      "execution_count": 0,
      "outputs": []
    },
    {
      "cell_type": "code",
      "metadata": {
        "id": "OD8GxtKO7nVY",
        "colab_type": "code",
        "colab": {
          "base_uri": "https://localhost:8080/",
          "height": 437
        },
        "outputId": "45542174-9fd8-4e47-ee86-2a0378b40749"
      },
      "source": [
        "criptoarimo('SEND', 'MORE', 'MONEY')"
      ],
      "execution_count": 31,
      "outputs": [
        {
          "output_type": "stream",
          "text": [
            "SEND 3712 MORE 0467 MONEY 04179\n",
            "SEND 6415 MORE 0734 MONEY 07149\n",
            "SEND 7316 MORE 0823 MONEY 08139\n",
            "SEND 2817 MORE 0368 MONEY 03185\n",
            "SEND 6419 MORE 0724 MONEY 07143\n",
            "SEND 3719 MORE 0457 MONEY 04176\n",
            "SEND 2819 MORE 0368 MONEY 03187\n",
            "SEND 3821 MORE 0468 MONEY 04289\n",
            "SEND 8324 MORE 0913 MONEY 09237\n",
            "SEND 6524 MORE 0735 MONEY 07259\n",
            "SEND 7429 MORE 0814 MONEY 08243\n",
            "SEND 3829 MORE 0458 MONEY 04287\n",
            "SEND 7531 MORE 0825 MONEY 08356\n",
            "SEND 5731 MORE 0647 MONEY 06378\n",
            "SEND 8432 MORE 0914 MONEY 09346\n",
            "SEND 5732 MORE 0647 MONEY 06379\n",
            "SEND 7534 MORE 0825 MONEY 08359\n",
            "SEND 7539 MORE 0815 MONEY 08354\n",
            "SEND 8542 MORE 0915 MONEY 09457\n",
            "SEND 7643 MORE 0826 MONEY 08469\n",
            "SEND 7649 MORE 0816 MONEY 08465\n",
            "SEND 5849 MORE 0638 MONEY 06487\n",
            "SEND 6851 MORE 0738 MONEY 07589\n",
            "SEND 6853 MORE 0728 MONEY 07581\n",
            "SEND 9567 MORE 1085 MONEY 10652\n"
          ],
          "name": "stdout"
        }
      ]
    },
    {
      "cell_type": "code",
      "metadata": {
        "id": "W46YHpge8h0j",
        "colab_type": "code",
        "colab": {
          "base_uri": "https://localhost:8080/",
          "height": 34
        },
        "outputId": "f9d5e165-93ab-4b75-90d8-0f452a921f09"
      },
      "source": [
        "'SEND'.replace('E', '7')"
      ],
      "execution_count": 32,
      "outputs": [
        {
          "output_type": "execute_result",
          "data": {
            "text/plain": [
              "'S7ND'"
            ]
          },
          "metadata": {
            "tags": []
          },
          "execution_count": 32
        }
      ]
    },
    {
      "cell_type": "code",
      "metadata": {
        "id": "uVU-_Pty8ls5",
        "colab_type": "code",
        "colab": {}
      },
      "source": [
        ""
      ],
      "execution_count": 0,
      "outputs": []
    }
  ]
}