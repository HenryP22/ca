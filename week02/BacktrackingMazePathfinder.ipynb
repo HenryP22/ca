{
  "nbformat": 4,
  "nbformat_minor": 0,
  "metadata": {
    "colab": {
      "name": "BacktrackingMazePathfinder.ipynb",
      "provenance": [],
      "collapsed_sections": [],
      "authorship_tag": "ABX9TyN1xHwwjWa1L2gxSG+lLiw3",
      "include_colab_link": true
    },
    "kernelspec": {
      "name": "python3",
      "display_name": "Python 3"
    }
  },
  "cells": [
    {
      "cell_type": "markdown",
      "metadata": {
        "id": "view-in-github",
        "colab_type": "text"
      },
      "source": [
        "<a href=\"https://colab.research.google.com/github/pcsilcan/ca/blob/master/week02/BacktrackingMazePathfinder.ipynb\" target=\"_parent\"><img src=\"https://colab.research.google.com/assets/colab-badge.svg\" alt=\"Open In Colab\"/></a>"
      ]
    },
    {
      "cell_type": "code",
      "metadata": {
        "id": "5gxtSMsY9jj-",
        "colab_type": "code",
        "colab": {}
      },
      "source": [
        "def newMaze():\n",
        "  return [[0,0,0,0,0,0,0,0,0,0,0,0,0,0,0,0,0,0,0],\n",
        "         [0,0,0,0,1,1,1,1,1,1,1,0,1,1,1,1,1,1,1],\n",
        "         [0,0,0,0,1,0,0,0,1,0,0,0,1,0,1,0,0,0,0],\n",
        "         [0,0,0,0,1,1,1,0,1,1,1,0,1,0,1,1,1,1,0],\n",
        "         [0,0,0,0,0,0,1,0,0,0,0,0,1,0,0,1,0,0,0],\n",
        "         [0,0,0,0,0,0,1,1,1,1,1,1,1,0,0,1,0,1,0],\n",
        "         [0,0,0,0,0,0,1,0,0,0,0,0,0,0,0,1,0,1,0],\n",
        "         [0,0,0,0,0,0,1,0,1,1,1,1,1,1,0,1,1,1,0],\n",
        "         [0,0,0,0,0,0,1,0,0,0,0,0,0,1,0,1,0,0,0],\n",
        "         [0,0,0,0,0,0,1,0,1,1,1,1,0,1,0,1,0,1,0],\n",
        "         [0,0,0,0,0,0,1,0,1,0,1,0,0,1,0,1,0,1,0],\n",
        "         [0,0,0,0,0,0,1,0,1,0,1,0,0,1,0,0,0,1,0],\n",
        "         [0,0,0,0,0,0,1,0,1,1,1,0,0,1,1,1,1,1,0],\n",
        "         [0,0,0,0,0,0,1,0,1,0,1,0,0,0,0,0,0,1,0],\n",
        "         [0,0,0,0,0,0,1,0,1,0,1,1,1,1,1,1,1,1,0],\n",
        "         [0,0,0,0,0,0,1,0,0,0,0,0,0,0,0,0,0,1,0],\n",
        "         [1,1,1,1,1,1,1,1,1,1,1,1,1,1,1,1,1,1,0],\n",
        "         [0,0,0,0,0,0,0,0,0,0,0,0,0,0,0,0,0,0,0]]"
      ],
      "execution_count": 0,
      "outputs": []
    },
    {
      "cell_type": "code",
      "metadata": {
        "id": "RPl04crq-Pe2",
        "colab_type": "code",
        "colab": {}
      },
      "source": [
        "import matplotlib.pyplot as plt"
      ],
      "execution_count": 0,
      "outputs": []
    },
    {
      "cell_type": "code",
      "metadata": {
        "id": "8CBi0HQ4-bmr",
        "colab_type": "code",
        "colab": {}
      },
      "source": [
        "def backtracking(lab, i, j):\n",
        "  def valido(x, y):\n",
        "    rows = len(lab)\n",
        "    cols = len(lab[0])\n",
        "    if x < 0 or x >= rows or y < 0 or y >= cols:\n",
        "      return False\n",
        "\n",
        "    return lab[x][y] == 1\n",
        "    \n",
        "\n",
        "  if i == 1 and j == len(lab[0]) - 1:\n",
        "    print(\"We got out\")\n",
        "    plt.imshow(lab)\n",
        "    plt.show()\n",
        "    return True\n",
        "  else:\n",
        "    # movimientos arriba, abajo, izquierda, derecha\n",
        "    if  valido(i - 1, j):\n",
        "      lab[i-1][j] = 2\n",
        "      if backtracking(lab, i - 1, j):\n",
        "        return True\n",
        "      else:\n",
        "        lab[i-1][j] = 3\n",
        "\n",
        "    if valido(i + 1, j):\n",
        "      lab[i+1][j] = 2\n",
        "      if backtracking(lab, i + 1, j):\n",
        "        return True\n",
        "      else:\n",
        "        lab[i+1][j] = 3\n",
        "\n",
        "    if valido(i, j - 1):\n",
        "      lab[i][j-1] = 2\n",
        "      if backtracking(lab, i, j - 1):\n",
        "        return True\n",
        "      else:\n",
        "        lab[i][j-1] = 3\n",
        "    \n",
        "    if valido(i, j + 1):\n",
        "      lab[i][j+1] = 2\n",
        "      if backtracking(lab, i, j + 1):\n",
        "        return True\n",
        "      else:\n",
        "        lab[i][j+1] = 3\n",
        "\n",
        "\n",
        "    return False"
      ],
      "execution_count": 0,
      "outputs": []
    },
    {
      "cell_type": "code",
      "metadata": {
        "id": "PkWtg55LAQN2",
        "colab_type": "code",
        "colab": {
          "base_uri": "https://localhost:8080/",
          "height": 298
        },
        "outputId": "5d6c3c55-15e9-4c8d-9f25-11e652448b5e"
      },
      "source": [
        "laberinto = newMaze()\n",
        "backtracking(laberinto, len(laberinto) - 2, -1)"
      ],
      "execution_count": 43,
      "outputs": [
        {
          "output_type": "stream",
          "text": [
            "We got out\n"
          ],
          "name": "stdout"
        },
        {
          "output_type": "display_data",
          "data": {
            "image/png": "[encoded data removed]",
            "text/plain": [
              "<Figure size 432x288 with 1 Axes>"
            ]
          },
          "metadata": {
            "tags": [],
            "needs_background": "light"
          }
        },
        {
          "output_type": "execute_result",
          "data": {
            "text/plain": [
              "True"
            ]
          },
          "metadata": {
            "tags": []
          },
          "execution_count": 43
        }
      ]
    },
    {
      "cell_type": "code",
      "metadata": {
        "id": "iUziVoTyAsJ3",
        "colab_type": "code",
        "colab": {
          "base_uri": "https://localhost:8080/",
          "height": 54
        },
        "outputId": "5e2c6b23-ef91-4212-b505-d31f45395431"
      },
      "source": [
        "print(laberinto)"
      ],
      "execution_count": 10,
      "outputs": [
        {
          "output_type": "stream",
          "text": [
            "[[0, 0, 0, 0, 0, 0, 0, 0, 0, 0, 0, 0, 0, 0, 0, 0, 0, 0, 0], [0, 0, 0, 0, 1, 1, 1, 1, 1, 1, 1, 0, 1, 1, 1, 1, 1, 1, 1], [0, 0, 0, 0, 1, 0, 0, 0, 1, 0, 0, 0, 1, 0, 1, 0, 0, 0, 0], [0, 0, 0, 0, 1, 1, 1, 0, 1, 1, 1, 0, 1, 0, 1, 1, 1, 1, 0], [0, 0, 0, 0, 0, 0, 1, 0, 0, 0, 0, 0, 1, 0, 0, 1, 0, 0, 0], [0, 0, 0, 0, 0, 0, 1, 1, 1, 1, 1, 1, 1, 0, 0, 1, 0, 1, 0], [0, 0, 0, 0, 0, 0, 1, 0, 0, 0, 0, 0, 0, 0, 0, 1, 0, 1, 0], [0, 0, 0, 0, 0, 0, 1, 0, 0, 0, 0, 0, 0, 0, 0, 1, 1, 1, 0], [0, 0, 0, 0, 0, 0, 1, 0, 0, 0, 0, 0, 0, 0, 0, 1, 0, 0, 0], [0, 0, 0, 0, 0, 0, 1, 0, 0, 0, 0, 0, 0, 0, 0, 0, 0, 0, 0], [0, 0, 0, 0, 0, 0, 1, 0, 0, 0, 0, 0, 0, 0, 0, 0, 0, 0, 0], [0, 0, 0, 0, 0, 0, 1, 0, 0, 0, 0, 0, 0, 0, 0, 0, 0, 0, 0], [0, 0, 0, 0, 0, 0, 1, 0, 0, 0, 0, 0, 0, 0, 0, 0, 0, 0, 0], [0, 0, 0, 0, 0, 0, 1, 0, 0, 0, 0, 0, 0, 0, 0, 0, 0, 0, 0], [0, 0, 0, 0, 0, 0, 1, 0, 0, 0, 0, 0, 0, 0, 0, 0, 0, 0, 0], [0, 0, 0, 0, 0, 0, 1, 0, 0, 0, 0, 0, 0, 0, 0, 0, 0, 0, 0], [1, 1, 1, 1, 1, 1, 1, 1, 1, 1, 1, 1, 1, 1, 1, 1, 1, 1, 0], [0, 0, 0, 0, 0, 0, 0, 0, 0, 0, 0, 0, 0, 0, 0, 0, 0, 0, 0]]\n"
          ],
          "name": "stdout"
        }
      ]
    },
    {
      "cell_type": "code",
      "metadata": {
        "id": "M7EMFTtxD8kn",
        "colab_type": "code",
        "colab": {}
      },
      "source": [
        ""
      ],
      "execution_count": 0,
      "outputs": []
    }
  ]
}