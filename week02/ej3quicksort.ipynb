{
  "nbformat": 4,
  "nbformat_minor": 0,
  "metadata": {
    "colab": {
      "name": "ej3quicksort.ipynb",
      "provenance": [],
      "authorship_tag": "ABX9TyMBsdHUB1EcIHls2Jg3BIbi",
      "include_colab_link": true
    },
    "kernelspec": {
      "name": "python3",
      "display_name": "Python 3"
    }
  },
  "cells": [
    {
      "cell_type": "markdown",
      "metadata": {
        "id": "view-in-github",
        "colab_type": "text"
      },
      "source": [
        "<a href=\"https://colab.research.google.com/github/pcsilcan/ca/blob/master/week/ej3quicksort.ipynb\" target=\"_parent\"><img src=\"https://colab.research.google.com/assets/colab-badge.svg\" alt=\"Open In Colab\"/></a>"
      ]
    },
    {
      "cell_type": "code",
      "metadata": {
        "id": "OLN_R35y2TIO",
        "colab_type": "code",
        "colab": {}
      },
      "source": [
        "def quicksort(a):\n",
        "  n = len(a)\n",
        "\n",
        "  def partition(i, f):\n",
        "    piv = a[i]\n",
        "    l = i + 1\n",
        "    r = f\n",
        "    while l <= r:\n",
        "      if a[l] <= piv:\n",
        "        l += 1\n",
        "      elif a[r] >= piv:\n",
        "        r -= 1\n",
        "      else:\n",
        "        a[l], a[r] = a[r], a[l]\n",
        "        l += 1\n",
        "        r -= 1\n",
        "\n",
        "    if r != i:\n",
        "      a[i], a[r] = a[r], a[i]\n",
        "    \n",
        "    return r\n",
        "\n",
        "  def qs(i, f):\n",
        "    if f > i:\n",
        "      p = partition(i, f)\n",
        "      qs(i, p - 1)\n",
        "      qs(p + 1, f)\n",
        "\n",
        "  qs(0, n - 1)"
      ],
      "execution_count": 0,
      "outputs": []
    },
    {
      "cell_type": "code",
      "metadata": {
        "id": "ELSrzCeT4JwI",
        "colab_type": "code",
        "colab": {
          "base_uri": "https://localhost:8080/",
          "height": 70
        },
        "outputId": "caee4b7b-4873-44dd-fdf1-b9b8fa042fab"
      },
      "source": [
        "import random as rnd\n",
        "\n",
        "arreglo = [rnd.randint(1, 100) for _ in range(50)]\n",
        "print(arreglo)\n",
        "quicksort(arreglo)\n",
        "print(arreglo)"
      ],
      "execution_count": 2,
      "outputs": [
        {
          "output_type": "stream",
          "text": [
            "[4, 73, 72, 76, 15, 10, 2, 98, 19, 14, 69, 81, 41, 44, 90, 86, 27, 45, 43, 21, 44, 19, 9, 27, 44, 93, 13, 34, 77, 79, 49, 85, 98, 58, 22, 18, 37, 22, 53, 53, 43, 88, 83, 68, 23, 73, 48, 91, 40, 62]\n",
            "[2, 4, 9, 10, 13, 14, 15, 18, 19, 19, 21, 22, 22, 23, 27, 27, 34, 37, 40, 41, 43, 43, 44, 44, 44, 45, 48, 49, 53, 53, 58, 62, 68, 69, 72, 73, 73, 76, 77, 79, 81, 83, 85, 86, 88, 90, 91, 93, 98, 98]\n"
          ],
          "name": "stdout"
        }
      ]
    },
    {
      "cell_type": "code",
      "metadata": {
        "id": "GjC9-cAU4X9S",
        "colab_type": "code",
        "colab": {}
      },
      "source": [
        ""
      ],
      "execution_count": 0,
      "outputs": []
    }
  ]
}