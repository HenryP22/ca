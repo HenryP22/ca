{
  "nbformat": 4,
  "nbformat_minor": 0,
  "metadata": {
    "colab": {
      "name": "03divide-venceras-1.ipynb",
      "provenance": [],
      "authorship_tag": "ABX9TyPJxJ1nB2ISgSjl5N1+c351",
      "include_colab_link": true
    },
    "kernelspec": {
      "name": "python3",
      "display_name": "Python 3"
    }
  },
  "cells": [
    {
      "cell_type": "markdown",
      "metadata": {
        "id": "view-in-github",
        "colab_type": "text"
      },
      "source": [
        "<a href=\"https://colab.research.google.com/github/pcsilcan/ca/blob/master/week02/03divide_venceras_1.ipynb\" target=\"_parent\"><img src=\"https://colab.research.google.com/assets/colab-badge.svg\" alt=\"Open In Colab\"/></a>"
      ]
    },
    {
      "cell_type": "markdown",
      "metadata": {
        "id": "j0gBsxyFmo6m",
        "colab_type": "text"
      },
      "source": [
        "# Encontrar el máximo elemento de un arreglo desordenado"
      ]
    },
    {
      "cell_type": "markdown",
      "metadata": {
        "id": "C9EeYOW8mwG4",
        "colab_type": "text"
      },
      "source": [
        "## Método clásico"
      ]
    },
    {
      "cell_type": "code",
      "metadata": {
        "id": "I0Dj37k1mfvX",
        "colab_type": "code",
        "colab": {}
      },
      "source": [
        "def findmax(a):\n",
        "  n = len(a)\n",
        "  if n <= 0: return\n",
        "\n",
        "  m = a[0]\n",
        "  for i in range(1, n):\n",
        "    if a[i] > m:\n",
        "      m = a[i]\n",
        "\n",
        "  return m"
      ],
      "execution_count": 0,
      "outputs": []
    },
    {
      "cell_type": "markdown",
      "metadata": {
        "id": "MzkcsNnSnGeO",
        "colab_type": "text"
      },
      "source": [
        "## Con Divide y vencerás"
      ]
    },
    {
      "cell_type": "code",
      "metadata": {
        "id": "QF1snDepnFNk",
        "colab_type": "code",
        "colab": {}
      },
      "source": [
        "def findmaxdvINEFICIENTE(a):\n",
        "  n = len(a)\n",
        "  if n == 1:\n",
        "    return a[0]\n",
        "  else:\n",
        "    m = len(a) // 2\n",
        "    max1 = findmaxdvINEFICIENTE(a[:m])\n",
        "    max2 = findmaxdvINEFICIENTE(a[m:])\n",
        "    return max1 if max1 > max2 else max2 # cond ? op1 : op2"
      ],
      "execution_count": 0,
      "outputs": []
    },
    {
      "cell_type": "code",
      "metadata": {
        "id": "DdGoPiQIpKA0",
        "colab_type": "code",
        "colab": {}
      },
      "source": [
        "def findmaxdv(a, i, f):\n",
        "  n = f - i + 1\n",
        "  if n == 1:\n",
        "    return a[i]\n",
        "  else:\n",
        "    m = (i + f) // 2\n",
        "    max1 = findmaxdv(a, i, m)\n",
        "    max2 = findmaxdv(a, m + 1, f)\n",
        "    return max1 if max1 > max2 else max2 # cond ? op1 : op2"
      ],
      "execution_count": 0,
      "outputs": []
    },
    {
      "cell_type": "code",
      "metadata": {
        "id": "E9hHmoSsoIIi",
        "colab_type": "code",
        "colab": {
          "base_uri": "https://localhost:8080/",
          "height": 34
        },
        "outputId": "37cfa921-2906-4e60-9f7a-b50887f2b6ed"
      },
      "source": [
        "a = [1, 8, 2, 6, 3, 4, 5, 9, 7, 10]\n",
        "print(findmax(a), findmaxdv(a, 0, len(a) - 1), max(a))"
      ],
      "execution_count": 10,
      "outputs": [
        {
          "output_type": "stream",
          "text": [
            "10 10 10\n"
          ],
          "name": "stdout"
        }
      ]
    },
    {
      "cell_type": "code",
      "metadata": {
        "id": "tO04mEBRoSco",
        "colab_type": "code",
        "colab": {
          "base_uri": "https://localhost:8080/",
          "height": 50
        },
        "outputId": "daee1f52-3e10-4e13-f57a-7811d431a315"
      },
      "source": [
        "a = [ 1, 2, 3, 4, 5, 6, 7, 8, 9, 10 ]\n",
        "b = a[3:6] \n",
        "print(a, b)\n",
        "b[1] = 20\n",
        "print(a, b)"
      ],
      "execution_count": 7,
      "outputs": [
        {
          "output_type": "stream",
          "text": [
            "[1, 2, 3, 4, 5, 6, 7, 8, 9, 10] [4, 5, 6]\n",
            "[1, 2, 3, 4, 5, 6, 7, 8, 9, 10] [4, 20, 6]\n"
          ],
          "name": "stdout"
        }
      ]
    },
    {
      "cell_type": "markdown",
      "metadata": {
        "id": "Mg-TquvquBf9",
        "colab_type": "text"
      },
      "source": [
        "# Multiplicación"
      ]
    },
    {
      "cell_type": "code",
      "metadata": {
        "id": "P5DlPpnlot7c",
        "colab_type": "code",
        "colab": {}
      },
      "source": [
        "def mult(a, b, n):\n",
        "  if n == 1:\n",
        "    return a * b\n",
        "  else:\n",
        "    ai = a // 10**(n//2)\n",
        "    ad = a % 10**(n//2)\n",
        "    bi = b // 10**(n//2)\n",
        "    bd = b % 10**(n//2)\n",
        "\n",
        "    z1 = mult(ai, bi, n//2) * 10**n\n",
        "    z2 = (mult(ai, bd, n//2) + mult(ad, bi, n//2)) * 10**(n//2)\n",
        "    z3 = mult(ad, bd, n//2)\n",
        "    return z1 + z2 + z3"
      ],
      "execution_count": 0,
      "outputs": []
    },
    {
      "cell_type": "code",
      "metadata": {
        "id": "XRp3-6Vnu7y8",
        "colab_type": "code",
        "colab": {
          "base_uri": "https://localhost:8080/",
          "height": 50
        },
        "outputId": "5dcdd6e9-c9f5-4e2f-d9c8-9486baafbfd7"
      },
      "source": [
        "print(1234*5678, mult(1234, 5678, 4))\n",
        "print(12341234*43214321, mult(12341234, 43214321, 8))"
      ],
      "execution_count": 15,
      "outputs": [
        {
          "output_type": "stream",
          "text": [
            "7006652 7006652\n",
            "533318047612114 533318047612114\n"
          ],
          "name": "stdout"
        }
      ]
    },
    {
      "cell_type": "code",
      "metadata": {
        "id": "WANpEirivJUA",
        "colab_type": "code",
        "colab": {}
      },
      "source": [
        ""
      ],
      "execution_count": 0,
      "outputs": []
    }
  ]
}