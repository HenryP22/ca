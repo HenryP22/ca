{
  "nbformat": 4,
  "nbformat_minor": 0,
  "metadata": {
    "colab": {
      "name": "05-DFS-all-forms.ipynb",
      "provenance": [],
      "authorship_tag": "ABX9TyMh8WFfjUvG5ujhQmXz7HrJ",
      "include_colab_link": true
    },
    "kernelspec": {
      "name": "python3",
      "display_name": "Python 3"
    }
  },
  "cells": [
    {
      "cell_type": "markdown",
      "metadata": {
        "id": "view-in-github",
        "colab_type": "text"
      },
      "source": [
        "<a href=\"https://colab.research.google.com/github/pcsilcan/ca/blob/master/week05/05_DFS_all_forms.ipynb\" target=\"_parent\"><img src=\"https://colab.research.google.com/assets/colab-badge.svg\" alt=\"Open In Colab\"/></a>"
      ]
    },
    {
      "cell_type": "markdown",
      "metadata": {
        "id": "hgNCcww91usu",
        "colab_type": "text"
      },
      "source": [
        "# Depth First Search (DFS)\n",
        "Implementación recursiva"
      ]
    },
    {
      "cell_type": "code",
      "metadata": {
        "id": "2eS85_TD1rAK",
        "colab_type": "code",
        "colab": {}
      },
      "source": [
        "def dfsRecursive(G, s):\n",
        "    n = len(G)\n",
        "    visited = [False]*n\n",
        "    path = [None]*n\n",
        "    \n",
        "    def dfs1(u):\n",
        "        if not visited[u]:\n",
        "            visited[u] = True\n",
        "            for v in G[u]:\n",
        "                if not visited[v]:\n",
        "                    path[v] = u\n",
        "                    dfs1(v)\n",
        "\n",
        "    dfs1(s)\n",
        "    return path\n"
      ],
      "execution_count": 0,
      "outputs": []
    },
    {
      "cell_type": "markdown",
      "metadata": {
        "id": "JQnfYuI94Vir",
        "colab_type": "text"
      },
      "source": [
        "Implementación repetitiva"
      ]
    },
    {
      "cell_type": "code",
      "metadata": {
        "id": "u9J2hXQf4ZFM",
        "colab_type": "code",
        "colab": {}
      },
      "source": [
        "def dfsRep(G, s):\n",
        "    n = len(G)\n",
        "    visited = [False]*n\n",
        "    path = [None]*n\n",
        "    stack = [s]\n",
        "    while len(stack) > 0:\n",
        "        u = stack.pop()\n",
        "        if not visited[u]:\n",
        "            visited[u] = True\n",
        "            for v in reversed(G[u]):\n",
        "                if not visited[v]:\n",
        "                    path[v] = u\n",
        "                    stack.append(v)\n",
        "\n",
        "    return path\n"
      ],
      "execution_count": 0,
      "outputs": []
    },
    {
      "cell_type": "code",
      "metadata": {
        "id": "qzsqyI2o4_Ow",
        "colab_type": "code",
        "colab": {}
      },
      "source": [
        "G = [[4],                  # (0, 4)\n",
        "     [5, 6],               # (1, 5), (1, 6)\n",
        "     [4],                  # (2, 4)\n",
        "     [7],                  # (3, 7)\n",
        "     [0, 2, 6, 7],         # (4, 0), (4, 2), (4, 6), (4, 7)\n",
        "     [1, 6, 7],            # (5, 1), (5, 6), (5, 7)\n",
        "     [1, 4, 5],\n",
        "     [3, 4, 5]]"
      ],
      "execution_count": 0,
      "outputs": []
    },
    {
      "cell_type": "code",
      "metadata": {
        "id": "wahKLRle5HBB",
        "colab_type": "code",
        "colab": {}
      },
      "source": [
        "path1 = dfsRecursive(G, 4)\n",
        "path2 = dfsRep(G, 4)"
      ],
      "execution_count": 0,
      "outputs": []
    },
    {
      "cell_type": "code",
      "metadata": {
        "id": "AHLb4d915NCs",
        "colab_type": "code",
        "colab": {
          "base_uri": "https://localhost:8080/",
          "height": 50
        },
        "outputId": "320d36ab-0a51-4587-e05d-9a4af7d98ae9"
      },
      "source": [
        "print(path1)\n",
        "print(path2)"
      ],
      "execution_count": 9,
      "outputs": [
        {
          "output_type": "stream",
          "text": [
            "[4, 6, 4, 7, None, 1, 4, 5]\n",
            "[4, 6, 4, 7, None, 1, 4, 5]\n"
          ],
          "name": "stdout"
        }
      ]
    },
    {
      "cell_type": "code",
      "metadata": {
        "id": "GSzw5vZO5Vjf",
        "colab_type": "code",
        "colab": {}
      },
      "source": [
        ""
      ],
      "execution_count": 0,
      "outputs": []
    }
  ]
}