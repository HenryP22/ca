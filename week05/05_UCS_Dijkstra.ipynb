{
  "nbformat": 4,
  "nbformat_minor": 0,
  "metadata": {
    "colab": {
      "name": "05-UCS-Dijkstra.ipynb",
      "provenance": [],
      "authorship_tag": "ABX9TyPLdy3SVbS9F5yaSLvMrQdr",
      "include_colab_link": true
    },
    "kernelspec": {
      "name": "python3",
      "display_name": "Python 3"
    }
  },
  "cells": [
    {
      "cell_type": "markdown",
      "metadata": {
        "id": "view-in-github",
        "colab_type": "text"
      },
      "source": [
        "<a href=\"https://colab.research.google.com/github/pcsilcan/ca/blob/master/week05/05_UCS_Dijkstra.ipynb\" target=\"_parent\"><img src=\"https://colab.research.google.com/assets/colab-badge.svg\" alt=\"Open In Colab\"/></a>"
      ]
    },
    {
      "cell_type": "code",
      "metadata": {
        "id": "z__9WH3wD_iw",
        "colab_type": "code",
        "colab": {}
      },
      "source": [
        "from heapq import heappush, heappop\n",
        "import math"
      ],
      "execution_count": 0,
      "outputs": []
    },
    {
      "cell_type": "code",
      "metadata": {
        "id": "9B12EXX9Cmk2",
        "colab_type": "code",
        "colab": {}
      },
      "source": [
        "def dijkstra(G, s): # o UCS\n",
        "    n = len(G)\n",
        "    visited = [False]*n\n",
        "    path = [None]*n\n",
        "    cost = [math.inf]*n\n",
        "    queue = []\n",
        "    heappush(queue, (0, s))\n",
        "    cost[s] = 0\n",
        "\n",
        "    while len(queue) > 0:\n",
        "        g, u = heappop(queue)\n",
        "        visited[u]\n",
        "        for v, w in G[u]:\n",
        "            if not visited[v]:\n",
        "                f = g + w\n",
        "                if f < cost[v]:\n",
        "                    cost[v] = f\n",
        "                    path[v] = u\n",
        "                    heappush(queue, (f, v))\n",
        "\n",
        "    return path, cost"
      ],
      "execution_count": 0,
      "outputs": []
    },
    {
      "cell_type": "code",
      "metadata": {
        "id": "hTgjAXalEttO",
        "colab_type": "code",
        "colab": {}
      },
      "source": [
        "G = [[(2, 5), (3, 2)], # (0, 2, w=5), (0, 3, w=2)\n",
        "     [(0, 1), (2, 3)],\n",
        "     [(4, 1)],\n",
        "     [(4, 2)],\n",
        "     [(1, 10)],]"
      ],
      "execution_count": 0,
      "outputs": []
    },
    {
      "cell_type": "code",
      "metadata": {
        "id": "BeVkA1NmFoB8",
        "colab_type": "code",
        "colab": {
          "base_uri": "https://localhost:8080/",
          "height": 34
        },
        "outputId": "0cb746d6-b5d7-4556-f3e2-84399e9d1f50"
      },
      "source": [
        "print(dijkstra(G, 0))"
      ],
      "execution_count": 11,
      "outputs": [
        {
          "output_type": "stream",
          "text": [
            "([None, 4, 0, 0, 3], [0, 14, 5, 2, 4])\n"
          ],
          "name": "stdout"
        }
      ]
    },
    {
      "cell_type": "code",
      "metadata": {
        "id": "XVHZOwHXD4dm",
        "colab_type": "code",
        "colab": {
          "base_uri": "https://localhost:8080/",
          "height": 34
        },
        "outputId": "b0c85c97-8c5a-4698-ba4f-097fefb8a57b"
      },
      "source": [
        "print(math.inf)"
      ],
      "execution_count": 2,
      "outputs": [
        {
          "output_type": "stream",
          "text": [
            "inf\n"
          ],
          "name": "stdout"
        }
      ]
    },
    {
      "cell_type": "code",
      "metadata": {
        "id": "_Nv7OI7OECiD",
        "colab_type": "code",
        "colab": {
          "base_uri": "https://localhost:8080/",
          "height": 134
        },
        "outputId": "b4b69afa-456c-4e06-a6a2-45ee01037ae8"
      },
      "source": [
        "q = []\n",
        "heappush(q, (5, 'hola'))\n",
        "heappush(q, (9, 'chgao'))\n",
        "heappush(q, (2, 'what'))\n",
        "heappush(q, (7, 'jalados'))\n",
        "heappush(q, (3, 'hola'))\n",
        "heappush(q, (8, 'hmm'))\n",
        "print(q)\n",
        "while len(q) > 0:\n",
        "    print(heappop(q))"
      ],
      "execution_count": 5,
      "outputs": [
        {
          "output_type": "stream",
          "text": [
            "[(2, 'what'), (3, 'hola'), (5, 'hola'), (9, 'chgao'), (7, 'jalados'), (8, 'hmm')]\n",
            "(2, 'what')\n",
            "(3, 'hola')\n",
            "(5, 'hola')\n",
            "(7, 'jalados')\n",
            "(8, 'hmm')\n",
            "(9, 'chgao')\n"
          ],
          "name": "stdout"
        }
      ]
    },
    {
      "cell_type": "code",
      "metadata": {
        "id": "PJolJr2wEThK",
        "colab_type": "code",
        "colab": {}
      },
      "source": [
        ""
      ],
      "execution_count": 0,
      "outputs": []
    }
  ]
}