{
  "nbformat": 4,
  "nbformat_minor": 0,
  "metadata": {
    "colab": {
      "name": "ca 20202 0203 nqueens.ipynb",
      "provenance": [],
      "authorship_tag": "ABX9TyMM8fUoS2GG2zIcGXOOUiJm",
      "include_colab_link": true
    },
    "kernelspec": {
      "name": "python3",
      "display_name": "Python 3"
    }
  },
  "cells": [
    {
      "cell_type": "markdown",
      "metadata": {
        "id": "view-in-github",
        "colab_type": "text"
      },
      "source": [
        "<a href=\"https://colab.research.google.com/github/pcsilcan/ca/blob/master/20202/ca_20202_0203_nqueens.ipynb\" target=\"_parent\"><img src=\"https://colab.research.google.com/assets/colab-badge.svg\" alt=\"Open In Colab\"/></a>"
      ]
    },
    {
      "cell_type": "code",
      "metadata": {
        "id": "FpEZTyM5lDpA",
        "colab_type": "code",
        "colab": {}
      },
      "source": [
        "import matplotlib.pyplot as plt\n",
        "import numpy as np"
      ],
      "execution_count": 1,
      "outputs": []
    },
    {
      "cell_type": "code",
      "metadata": {
        "id": "eGl2ncxXlL8-",
        "colab_type": "code",
        "colab": {}
      },
      "source": [
        "def drawBoard(board):\n",
        "    n = len(board)\n",
        "    tablero = np.zeros((n, n, 3))\n",
        "    tablero += 0.8\n",
        "    tablero[ ::2,  ::2] = 1\n",
        "    tablero[1::2, 1::2] = 1\n",
        "\n",
        "    fig, ax = plt.subplots()\n",
        "    ax.imshow(tablero, interpolation='nearest')\n",
        "\n",
        "    for y, x in enumerate(board):\n",
        "        ax.text(x, y, u'\\u2655', size=30, ha='center', va='center')\n",
        "\n",
        "    ax.set(xticks=[], yticks=[])\n",
        "    ax.axis('image')\n",
        "\n",
        "    plt.show()"
      ],
      "execution_count": 12,
      "outputs": []
    },
    {
      "cell_type": "code",
      "metadata": {
        "id": "WpF-VKQXmUg7",
        "colab_type": "code",
        "colab": {
          "base_uri": "https://localhost:8080/",
          "height": 253
        },
        "outputId": "bc96adfe-0cdf-440f-fc99-0f9b3c24a551"
      },
      "source": [
        "board = [2, 4, 1, 3, -1, -1, -1, -1]\n",
        "drawBoard(board)"
      ],
      "execution_count": 13,
      "outputs": [
        {
          "output_type": "display_data",
          "data": {
            "image/png": "[encoded data removed]",
            "text/plain": [
              "<Figure size 432x288 with 1 Axes>"
            ]
          },
          "metadata": {
            "tags": []
          }
        }
      ]
    },
    {
      "cell_type": "code",
      "metadata": {
        "id": "nvyMzbQImoRS",
        "colab_type": "code",
        "colab": {}
      },
      "source": [
        "def valid(board, row, col):\n",
        "    n = len(board)\n",
        "    for i in range(row):\n",
        "        if board[i] == col:\n",
        "            return False\n",
        "        d = row - i\n",
        "        if board[i] + d == col or board[i] - d == col:\n",
        "            return False\n",
        "    return True"
      ],
      "execution_count": 4,
      "outputs": []
    },
    {
      "cell_type": "code",
      "metadata": {
        "id": "kCEZJW3Kmuvl",
        "colab_type": "code",
        "colab": {}
      },
      "source": [
        "def nqueensbt(board, row):\n",
        "    n = len(board)\n",
        "    if row < n:\n",
        "        for col in range(n):\n",
        "            if valid(board, row, col):\n",
        "                board[row] = col\n",
        "                if nqueensbt(board, row + 1):\n",
        "                    return True\n",
        "    else:\n",
        "        drawBoard(board)\n",
        "        return True"
      ],
      "execution_count": 9,
      "outputs": []
    },
    {
      "cell_type": "code",
      "metadata": {
        "id": "UVarDq6hri4B",
        "colab_type": "code",
        "colab": {
          "base_uri": "https://localhost:8080/",
          "height": 270
        },
        "outputId": "ed4c4b99-dfaa-4257-e4f7-03e737fa8baf"
      },
      "source": [
        "nqueensbt([-1]*8, 0)"
      ],
      "execution_count": 11,
      "outputs": [
        {
          "output_type": "execute_result",
          "data": {
            "text/plain": [
              "True"
            ]
          },
          "metadata": {
            "tags": []
          },
          "execution_count": 11
        },
        {
          "output_type": "display_data",
          "data": {
            "image/png": "[encoded data removed]",
            "text/plain": [
              "<Figure size 432x288 with 1 Axes>"
            ]
          },
          "metadata": {
            "tags": []
          }
        }
      ]
    },
    {
      "cell_type": "code",
      "metadata": {
        "id": "0o8Jj7PmrmlL",
        "colab_type": "code",
        "colab": {}
      },
      "source": [
        ""
      ],
      "execution_count": 6,
      "outputs": []
    }
  ]
}