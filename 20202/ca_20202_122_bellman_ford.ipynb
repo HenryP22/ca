{
  "nbformat": 4,
  "nbformat_minor": 0,
  "metadata": {
    "colab": {
      "name": "ca 20202 122 bellman ford.ipynb",
      "provenance": [],
      "collapsed_sections": [],
      "authorship_tag": "ABX9TyOSm3RyrmS+kNUPpGhjsS3Q",
      "include_colab_link": true
    },
    "kernelspec": {
      "name": "python3",
      "display_name": "Python 3"
    }
  },
  "cells": [
    {
      "cell_type": "markdown",
      "metadata": {
        "id": "view-in-github",
        "colab_type": "text"
      },
      "source": [
        "<a href=\"https://colab.research.google.com/github/pcsilcan/ca/blob/master/20202/ca_20202_122_bellman_ford.ipynb\" target=\"_parent\"><img src=\"https://colab.research.google.com/assets/colab-badge.svg\" alt=\"Open In Colab\"/></a>"
      ]
    },
    {
      "cell_type": "markdown",
      "metadata": {
        "id": "1JScyjdlToZS"
      },
      "source": [
        "# Bellman Ford"
      ]
    },
    {
      "cell_type": "code",
      "metadata": {
        "id": "NSzYNc4VTv53"
      },
      "source": [
        "import math"
      ],
      "execution_count": 1,
      "outputs": []
    },
    {
      "cell_type": "code",
      "metadata": {
        "id": "3YsVHfnj-cxN"
      },
      "source": [
        "def initSingleSource(G, s):\n",
        "    n = len(G)\n",
        "    dist = [math.inf]*n\n",
        "    path = [None]*n\n",
        "    dist[s] = 0\n",
        "\n",
        "    return dist, path"
      ],
      "execution_count": 2,
      "outputs": []
    },
    {
      "cell_type": "code",
      "metadata": {
        "id": "ko3PgPLm-fwg"
      },
      "source": [
        "def relax(u, v, w, dist, path):\n",
        "    f = dist[u] + w\n",
        "    if dist[v] > f:\n",
        "        dist[v] = f\n",
        "        path[v] = u"
      ],
      "execution_count": 3,
      "outputs": []
    },
    {
      "cell_type": "code",
      "metadata": {
        "id": "NjX1k2chTj_M"
      },
      "source": [
        "def bellmanFord(G, s):\n",
        "    n = len(G)\n",
        "    dist, path = initSingleSource(G, s)\n",
        "    for _ in range(n-1):\n",
        "        for u in range(n):\n",
        "            for v, w in G[u]:\n",
        "                relax(u, v, w, dist, path)\n",
        "\n",
        "    for u in range(n):\n",
        "        for v, w in G[u]:\n",
        "            if dist[u] + w < dist[v]:\n",
        "                return None, None, False\n",
        "\n",
        "    return dist, path, True\n",
        "    "
      ],
      "execution_count": 4,
      "outputs": []
    },
    {
      "cell_type": "code",
      "metadata": {
        "id": "iaOQqYS4Ud7i"
      },
      "source": [
        "G = [[(3, 8)],\n",
        "     [(2, 9)],\n",
        "     [(0, 1), (4, -5), (6, 4)],\n",
        "     [(5, 3)],\n",
        "     [(0, 2)],\n",
        "     [(3, 3)],\n",
        "     [(4, 7), (7, -1)],\n",
        "     []]"
      ],
      "execution_count": 5,
      "outputs": []
    },
    {
      "cell_type": "code",
      "metadata": {
        "id": "zgR9gqNRUqaR",
        "outputId": "dc82a5db-5e2c-4513-a2d1-937ca689436f",
        "colab": {
          "base_uri": "https://localhost:8080/"
        }
      },
      "source": [
        "bellmanFord(G, 1)"
      ],
      "execution_count": 6,
      "outputs": [
        {
          "output_type": "execute_result",
          "data": {
            "text/plain": [
              "([6, 0, 9, 14, 4, 17, 13, 12], [4, None, 1, 0, 2, 3, 2, 6], True)"
            ]
          },
          "metadata": {
            "tags": []
          },
          "execution_count": 6
        }
      ]
    },
    {
      "cell_type": "code",
      "metadata": {
        "id": "X4O-oqFgUtph",
        "outputId": "dfc6a2b1-6ca8-4bd5-993e-e0a1b6530420",
        "colab": {
          "base_uri": "https://localhost:8080/"
        }
      },
      "source": [
        "%timeit bellmanFord(G, 1)"
      ],
      "execution_count": 7,
      "outputs": [
        {
          "output_type": "stream",
          "text": [
            "10000 loops, best of 3: 20.3 µs per loop\n"
          ],
          "name": "stdout"
        }
      ]
    },
    {
      "cell_type": "code",
      "metadata": {
        "id": "6KOaEki-VQCB"
      },
      "source": [
        "import graphviz as gv\n",
        "\n",
        "def drawAdjListGraph(G):\n",
        "    dot = gv.Digraph(strict=True)\n",
        "    n = len(G)\n",
        "    for u in range(n):\n",
        "        for v, w in G[u]:\n",
        "            dot.edge(str(u), str(v), label=str(w))\n",
        "    \n",
        "    dot.graph_attr['rankdir'] = 'LR'\n",
        "    return dot"
      ],
      "execution_count": null,
      "outputs": []
    },
    {
      "cell_type": "code",
      "metadata": {
        "id": "goaEc7BoV53B",
        "outputId": "574add02-a6c0-4768-dda7-d65bf7e06a8a",
        "colab": {
          "base_uri": "https://localhost:8080/",
          "height": 202
        }
      },
      "source": [
        "drawAdjListGraph(G)"
      ],
      "execution_count": null,
      "outputs": [
        {
          "output_type": "execute_result",
          "data": {
            "text/plain": [
              "<graphviz.dot.Digraph at 0x7fb7c280c898>"
            ],
            "image/svg+xml": "<?xml version=\"1.0\" encoding=\"UTF-8\" standalone=\"no\"?>\n<!DOCTYPE svg PUBLIC \"-//W3C//DTD SVG 1.1//EN\"\n \"http://www.w3.org/Graphics/SVG/1.1/DTD/svg11.dtd\">\n<!-- Generated by graphviz version 2.40.1 (20161225.0304)\n -->\n<!-- Title: %3 Pages: 1 -->\n<svg width=\"655pt\" height=\"136pt\"\n viewBox=\"0.00 0.00 655.00 136.00\" xmlns=\"http://www.w3.org/2000/svg\" xmlns:xlink=\"http://www.w3.org/1999/xlink\">\n<g id=\"graph0\" class=\"graph\" transform=\"scale(1 1) rotate(0) translate(4 132)\">\n<title>%3</title>\n<polygon fill=\"#ffffff\" stroke=\"transparent\" points=\"-4,4 -4,-132 651,-132 651,4 -4,4\"/>\n<!-- 0 -->\n<g id=\"node1\" class=\"node\">\n<title>0</title>\n<ellipse fill=\"none\" stroke=\"#000000\" cx=\"424\" cy=\"-110\" rx=\"27\" ry=\"18\"/>\n<text text-anchor=\"middle\" x=\"424\" y=\"-106.3\" font-family=\"Times,serif\" font-size=\"14.00\" fill=\"#000000\">0</text>\n</g>\n<!-- 3 -->\n<g id=\"node2\" class=\"node\">\n<title>3</title>\n<ellipse fill=\"none\" stroke=\"#000000\" cx=\"522\" cy=\"-110\" rx=\"27\" ry=\"18\"/>\n<text text-anchor=\"middle\" x=\"522\" y=\"-106.3\" font-family=\"Times,serif\" font-size=\"14.00\" fill=\"#000000\">3</text>\n</g>\n<!-- 0&#45;&gt;3 -->\n<g id=\"edge1\" class=\"edge\">\n<title>0&#45;&gt;3</title>\n<path fill=\"none\" stroke=\"#000000\" d=\"M451.0384,-110C461.3425,-110 473.2803,-110 484.391,-110\"/>\n<polygon fill=\"#000000\" stroke=\"#000000\" points=\"484.7097,-113.5001 494.7097,-110 484.7096,-106.5001 484.7097,-113.5001\"/>\n<text text-anchor=\"middle\" x=\"473\" y=\"-113.8\" font-family=\"Times,serif\" font-size=\"14.00\" fill=\"#000000\">8</text>\n</g>\n<!-- 5 -->\n<g id=\"node7\" class=\"node\">\n<title>5</title>\n<ellipse fill=\"none\" stroke=\"#000000\" cx=\"620\" cy=\"-110\" rx=\"27\" ry=\"18\"/>\n<text text-anchor=\"middle\" x=\"620\" y=\"-106.3\" font-family=\"Times,serif\" font-size=\"14.00\" fill=\"#000000\">5</text>\n</g>\n<!-- 3&#45;&gt;5 -->\n<g id=\"edge6\" class=\"edge\">\n<title>3&#45;&gt;5</title>\n<path fill=\"none\" stroke=\"#000000\" d=\"M549.0384,-110C559.3425,-110 571.2803,-110 582.391,-110\"/>\n<polygon fill=\"#000000\" stroke=\"#000000\" points=\"582.7097,-113.5001 592.7097,-110 582.7096,-106.5001 582.7097,-113.5001\"/>\n<text text-anchor=\"middle\" x=\"571\" y=\"-113.8\" font-family=\"Times,serif\" font-size=\"14.00\" fill=\"#000000\">3</text>\n</g>\n<!-- 1 -->\n<g id=\"node3\" class=\"node\">\n<title>1</title>\n<ellipse fill=\"none\" stroke=\"#000000\" cx=\"27\" cy=\"-86\" rx=\"27\" ry=\"18\"/>\n<text text-anchor=\"middle\" x=\"27\" y=\"-82.3\" font-family=\"Times,serif\" font-size=\"14.00\" fill=\"#000000\">1</text>\n</g>\n<!-- 2 -->\n<g id=\"node4\" class=\"node\">\n<title>2</title>\n<ellipse fill=\"none\" stroke=\"#000000\" cx=\"125\" cy=\"-86\" rx=\"27\" ry=\"18\"/>\n<text text-anchor=\"middle\" x=\"125\" y=\"-82.3\" font-family=\"Times,serif\" font-size=\"14.00\" fill=\"#000000\">2</text>\n</g>\n<!-- 1&#45;&gt;2 -->\n<g id=\"edge2\" class=\"edge\">\n<title>1&#45;&gt;2</title>\n<path fill=\"none\" stroke=\"#000000\" d=\"M54.0384,-86C64.3425,-86 76.2803,-86 87.391,-86\"/>\n<polygon fill=\"#000000\" stroke=\"#000000\" points=\"87.7097,-89.5001 97.7097,-86 87.7096,-82.5001 87.7097,-89.5001\"/>\n<text text-anchor=\"middle\" x=\"76\" y=\"-89.8\" font-family=\"Times,serif\" font-size=\"14.00\" fill=\"#000000\">9</text>\n</g>\n<!-- 2&#45;&gt;0 -->\n<g id=\"edge3\" class=\"edge\">\n<title>2&#45;&gt;0</title>\n<path fill=\"none\" stroke=\"#000000\" d=\"M149.1072,-94.2255C155.8164,-96.3156 163.1443,-98.4155 170,-100 181.3912,-102.6328 184.3762,-102.7431 196,-104 273.4796,-112.3779 293.1071,-112.5544 371,-115 376.2352,-115.1644 381.7498,-115.0109 387.1637,-114.6723\"/>\n<polygon fill=\"#000000\" stroke=\"#000000\" points=\"387.6738,-118.1422 397.3505,-113.8279 387.0955,-111.1661 387.6738,-118.1422\"/>\n<text text-anchor=\"middle\" x=\"274.5\" y=\"-115.8\" font-family=\"Times,serif\" font-size=\"14.00\" fill=\"#000000\">1</text>\n</g>\n<!-- 4 -->\n<g id=\"node5\" class=\"node\">\n<title>4</title>\n<ellipse fill=\"none\" stroke=\"#000000\" cx=\"326\" cy=\"-83\" rx=\"27\" ry=\"18\"/>\n<text text-anchor=\"middle\" x=\"326\" y=\"-79.3\" font-family=\"Times,serif\" font-size=\"14.00\" fill=\"#000000\">4</text>\n</g>\n<!-- 2&#45;&gt;4 -->\n<g id=\"edge4\" class=\"edge\">\n<title>2&#45;&gt;4</title>\n<path fill=\"none\" stroke=\"#000000\" d=\"M152.1078,-85.5954C187.4214,-85.0683 249.3174,-84.1445 288.946,-83.553\"/>\n<polygon fill=\"#000000\" stroke=\"#000000\" points=\"289.0549,-87.0519 299.0015,-83.403 288.9503,-80.0527 289.0549,-87.0519\"/>\n<text text-anchor=\"middle\" x=\"223\" y=\"-88.8\" font-family=\"Times,serif\" font-size=\"14.00\" fill=\"#000000\">&#45;5</text>\n</g>\n<!-- 6 -->\n<g id=\"node6\" class=\"node\">\n<title>6</title>\n<ellipse fill=\"none\" stroke=\"#000000\" cx=\"223\" cy=\"-32\" rx=\"27\" ry=\"18\"/>\n<text text-anchor=\"middle\" x=\"223\" y=\"-28.3\" font-family=\"Times,serif\" font-size=\"14.00\" fill=\"#000000\">6</text>\n</g>\n<!-- 2&#45;&gt;6 -->\n<g id=\"edge5\" class=\"edge\">\n<title>2&#45;&gt;6</title>\n<path fill=\"none\" stroke=\"#000000\" d=\"M143.9299,-73.0128C151.8425,-67.7929 161.223,-61.8705 170,-57 176.6663,-53.3008 183.9713,-49.6251 190.9698,-46.2761\"/>\n<polygon fill=\"#000000\" stroke=\"#000000\" points=\"192.6608,-49.3491 200.2345,-41.9403 189.6937,-43.009 192.6608,-49.3491\"/>\n<text text-anchor=\"middle\" x=\"174\" y=\"-60.8\" font-family=\"Times,serif\" font-size=\"14.00\" fill=\"#000000\">4</text>\n</g>\n<!-- 4&#45;&gt;0 -->\n<g id=\"edge7\" class=\"edge\">\n<title>4&#45;&gt;0</title>\n<path fill=\"none\" stroke=\"#000000\" d=\"M350.9831,-89.8831C362.5278,-93.0638 376.4356,-96.8955 389.002,-100.3577\"/>\n<polygon fill=\"#000000\" stroke=\"#000000\" points=\"388.1513,-103.7537 398.7218,-103.0356 390.0106,-97.0051 388.1513,-103.7537\"/>\n<text text-anchor=\"middle\" x=\"375\" y=\"-101.8\" font-family=\"Times,serif\" font-size=\"14.00\" fill=\"#000000\">2</text>\n</g>\n<!-- 6&#45;&gt;4 -->\n<g id=\"edge9\" class=\"edge\">\n<title>6&#45;&gt;4</title>\n<path fill=\"none\" stroke=\"#000000\" d=\"M246.4282,-41.3641C257.1063,-45.8185 269.8296,-51.3897 281,-57 286.1401,-59.5816 291.5108,-62.4898 296.6784,-65.4018\"/>\n<polygon fill=\"#000000\" stroke=\"#000000\" points=\"295.2548,-68.6208 305.6673,-70.5778 298.7479,-62.5546 295.2548,-68.6208\"/>\n<text text-anchor=\"middle\" x=\"274.5\" y=\"-60.8\" font-family=\"Times,serif\" font-size=\"14.00\" fill=\"#000000\">7</text>\n</g>\n<!-- 7 -->\n<g id=\"node8\" class=\"node\">\n<title>7</title>\n<ellipse fill=\"none\" stroke=\"#000000\" cx=\"326\" cy=\"-18\" rx=\"27\" ry=\"18\"/>\n<text text-anchor=\"middle\" x=\"326\" y=\"-14.3\" font-family=\"Times,serif\" font-size=\"14.00\" fill=\"#000000\">7</text>\n</g>\n<!-- 6&#45;&gt;7 -->\n<g id=\"edge10\" class=\"edge\">\n<title>6&#45;&gt;7</title>\n<path fill=\"none\" stroke=\"#000000\" d=\"M247.4967,-23.6559C254.0781,-21.7644 261.2451,-20.0156 268,-19 274.7581,-17.9839 282.0088,-17.4362 289.016,-17.18\"/>\n<polygon fill=\"#000000\" stroke=\"#000000\" points=\"289.0898,-20.6793 299.0225,-16.9926 288.9587,-13.6806 289.0898,-20.6793\"/>\n<text text-anchor=\"middle\" x=\"274.5\" y=\"-22.8\" font-family=\"Times,serif\" font-size=\"14.00\" fill=\"#000000\">&#45;1</text>\n</g>\n<!-- 5&#45;&gt;3 -->\n<g id=\"edge8\" class=\"edge\">\n<title>5&#45;&gt;3</title>\n<path fill=\"none\" stroke=\"#000000\" d=\"M600.5049,-97.5166C590.6545,-92.6351 578.4007,-88.6918 567,-91 562.2623,-91.9592 557.4035,-93.4332 552.7123,-95.1452\"/>\n<polygon fill=\"#000000\" stroke=\"#000000\" points=\"551.3706,-91.9123 543.4111,-98.9048 553.994,-98.4022 551.3706,-91.9123\"/>\n<text text-anchor=\"middle\" x=\"571\" y=\"-94.8\" font-family=\"Times,serif\" font-size=\"14.00\" fill=\"#000000\">3</text>\n</g>\n</g>\n</svg>\n"
          },
          "metadata": {
            "tags": []
          },
          "execution_count": 45
        }
      ]
    },
    {
      "cell_type": "code",
      "metadata": {
        "id": "MbyEixcjV65Y"
      },
      "source": [
        ""
      ],
      "execution_count": null,
      "outputs": []
    }
  ]
}