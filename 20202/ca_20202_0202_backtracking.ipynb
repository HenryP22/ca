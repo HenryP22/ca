{
  "nbformat": 4,
  "nbformat_minor": 0,
  "metadata": {
    "colab": {
      "name": "ca 20202 0202 backtracking.ipynb",
      "provenance": [],
      "authorship_tag": "ABX9TyOqWjHbSGAM69Hzqdl+lwIJ",
      "include_colab_link": true
    },
    "kernelspec": {
      "name": "python3",
      "display_name": "Python 3"
    }
  },
  "cells": [
    {
      "cell_type": "markdown",
      "metadata": {
        "id": "view-in-github",
        "colab_type": "text"
      },
      "source": [
        "<a href=\"https://colab.research.google.com/github/pcsilcan/ca/blob/master/20202/ca_20202_0202_backtracking.ipynb\" target=\"_parent\"><img src=\"https://colab.research.google.com/assets/colab-badge.svg\" alt=\"Open In Colab\"/></a>"
      ]
    },
    {
      "cell_type": "markdown",
      "metadata": {
        "id": "fZ1IlWPf64_4",
        "colab_type": "text"
      },
      "source": [
        "# Backtracking"
      ]
    },
    {
      "cell_type": "code",
      "metadata": {
        "id": "SZXvMTTr6lj5",
        "colab_type": "code",
        "colab": {}
      },
      "source": [
        "import matplotlib.pyplot as plt\n",
        "import numpy as np"
      ],
      "execution_count": 1,
      "outputs": []
    },
    {
      "cell_type": "markdown",
      "metadata": {
        "id": "97QlWAhQ6_g0",
        "colab_type": "text"
      },
      "source": [
        "## Labyrinth\n"
      ]
    },
    {
      "cell_type": "code",
      "metadata": {
        "id": "b2G62cTy6-G4",
        "colab_type": "code",
        "colab": {}
      },
      "source": [
        "strmaze = \"\"\"\n",
        "000000000000000000000000000000\n",
        "011111111111111111111101111111\n",
        "010000000000001000000001000000\n",
        "010111111100001000000001000000\n",
        "010100000000001000000001000000\n",
        "010111111111111111111111000000\n",
        "010000000000000000000000000000\n",
        "011111111111111111111111111110\n",
        "000000000000000000000100001010\n",
        "000000000000000000000111101010\n",
        "000000000000000000000000001010\n",
        "000000000011111111111111111010\n",
        "000000000000000000000000000010\n",
        "111111111111111111111111111110\n",
        "000000000000000000000000000002\n",
        "\"\"\"\n",
        "maze = [[int(c) for c in line] for line in strmaze.strip().split('\\n')]"
      ],
      "execution_count": 57,
      "outputs": []
    },
    {
      "cell_type": "code",
      "metadata": {
        "id": "qCCODlnN8xhY",
        "colab_type": "code",
        "colab": {}
      },
      "source": [
        "def solveMaze(maze, endrow, endcol, row, col):\n",
        "    nrows = len(maze)\n",
        "    ncols = len(maze[0])\n",
        "    if row < 0 or row >= nrows or col < 0 or col >= ncols or maze[row][col] != 1:\n",
        "        return False\n",
        "\n",
        "    maze[row][col] = 2 # camino visitado\n",
        "\n",
        "    if endrow == row and endcol == col:\n",
        "        return True\n",
        "\n",
        "    if solveMaze(maze, endrow, endcol, row + 1, col): return True\n",
        "    if solveMaze(maze, endrow, endcol, row, col - 1): return True\n",
        "    if solveMaze(maze, endrow, endcol, row, col + 1): return True\n",
        "    if solveMaze(maze, endrow, endcol, row - 1, col): return True\n",
        "\n",
        "    return False\n"
      ],
      "execution_count": 55,
      "outputs": []
    },
    {
      "cell_type": "code",
      "metadata": {
        "id": "1wV0tKDz8YjR",
        "colab_type": "code",
        "colab": {
          "base_uri": "https://localhost:8080/",
          "height": 232
        },
        "outputId": "504f7f02-0847-4eba-d1da-d520bef40df5"
      },
      "source": [
        "plt.imshow(maze)"
      ],
      "execution_count": 58,
      "outputs": [
        {
          "output_type": "execute_result",
          "data": {
            "text/plain": [
              "<matplotlib.image.AxesImage at 0x7fda2732b780>"
            ]
          },
          "metadata": {
            "tags": []
          },
          "execution_count": 58
        },
        {
          "output_type": "display_data",
          "data": {
            "image/png": "[encoded data removed]",
            "text/plain": [
              "<Figure size 432x288 with 1 Axes>"
            ]
          },
          "metadata": {
            "tags": [],
            "needs_background": "light"
          }
        }
      ]
    },
    {
      "cell_type": "code",
      "metadata": {
        "id": "DJCqHsxc-0gk",
        "colab_type": "code",
        "colab": {}
      },
      "source": [
        "x = solveMaze(maze, 1, 29, 13, 0)"
      ],
      "execution_count": 59,
      "outputs": []
    },
    {
      "cell_type": "code",
      "metadata": {
        "id": "ZYKz7DZR_DoU",
        "colab_type": "code",
        "colab": {
          "base_uri": "https://localhost:8080/",
          "height": 232
        },
        "outputId": "707f2ee9-203b-4df6-ec36-8091c085cb82"
      },
      "source": [
        "plt.imshow(maze)"
      ],
      "execution_count": 60,
      "outputs": [
        {
          "output_type": "execute_result",
          "data": {
            "text/plain": [
              "<matplotlib.image.AxesImage at 0x7fda271ab080>"
            ]
          },
          "metadata": {
            "tags": []
          },
          "execution_count": 60
        },
        {
          "output_type": "display_data",
          "data": {
            "image/png": "[encoded data removed]",
            "text/plain": [
              "<Figure size 432x288 with 1 Axes>"
            ]
          },
          "metadata": {
            "tags": [],
            "needs_background": "light"
          }
        }
      ]
    },
    {
      "cell_type": "code",
      "metadata": {
        "id": "7VQeIu0J_JIC",
        "colab_type": "code",
        "colab": {}
      },
      "source": [
        ""
      ],
      "execution_count": 43,
      "outputs": []
    }
  ]
}