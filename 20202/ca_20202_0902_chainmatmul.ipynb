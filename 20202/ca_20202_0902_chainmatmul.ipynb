{
 "metadata": {
  "language_info": {
   "codemirror_mode": {
    "name": "ipython",
    "version": 3
   },
   "file_extension": ".py",
   "mimetype": "text/x-python",
   "name": "python",
   "nbconvert_exporter": "python",
   "pygments_lexer": "ipython3",
   "version": "3.8.3-final"
  },
  "orig_nbformat": 2,
  "kernelspec": {
   "name": "Python 3.8.3 64-bit",
   "display_name": "Python 3.8.3 64-bit",
   "metadata": {
    "interpreter": {
     "hash": "d9af2e32a5ad6e5c5f98229481d7f4ca3d60c1f6ad52fd9ba4da285d14500705"
    }
   }
  }
 },
 "nbformat": 4,
 "nbformat_minor": 2,
 "cells": [
  {
   "source": [
    "# Chain Matrix Multiplication Optimal Sequence"
   ],
   "cell_type": "markdown",
   "metadata": {}
  },
  {
   "cell_type": "code",
   "execution_count": null,
   "metadata": {},
   "outputs": [],
   "source": [
    "!python -m pip install numpy"
   ]
  },
  {
   "cell_type": "code",
   "execution_count": 7,
   "metadata": {},
   "outputs": [
    {
     "output_type": "stream",
     "name": "stdout",
     "text": [
      "3400.0\n[[    0.     0.     0.     0.     0.]\n [    0.     0. 12000.  9200.  3400.]\n [    0.     0.     0.  1200.  1400.]\n [    0.     0.     0.     0.  3000.]\n [    0.     0.     0.     0.     0.]]\n[[0. 0. 0. 0. 0.]\n [0. 0. 1. 1. 1.]\n [0. 0. 0. 2. 3.]\n [0. 0. 0. 0. 3.]\n [0. 0. 0. 0. 0.]]\n"
     ]
    }
   ],
   "source": [
    "import math\n",
    "import numpy as np\n",
    "\n",
    "n = 4\n",
    "b = [200, 2, 30, 20, 5]\n",
    "m = np.zeros((n+1, n+1))\n",
    "s = np.zeros((n+1, n+1))\n",
    "\n",
    "def minMultRec(b, i, j):\n",
    "    if i == j:\n",
    "        m[i][j] = 0\n",
    "    else:\n",
    "        m[i][j] = math.inf\n",
    "        for k in range(i, j):\n",
    "            q = minMultRec(b, i, k) + minMultRec(b, k+1, j) + b[i - 1] * b[k] * b[j]\n",
    "            if m[i][j] > q:\n",
    "                m[i][j] = q\n",
    "                s[i][j] = k\n",
    "\n",
    "    return m[i][j]\n",
    "\n",
    "print(minMultRec(b, 1, n))\n",
    "print(m)\n",
    "print(s)"
   ]
  },
  {
   "cell_type": "code",
   "execution_count": 13,
   "metadata": {},
   "outputs": [
    {
     "output_type": "stream",
     "name": "stdout",
     "text": [
      "2 3 2 30 20\nNone 4 2 20 5\n1 None 200 2 5\n"
     ]
    }
   ],
   "source": [
    "def matmul(M, s, i, j):\n",
    "    if i == j:\n",
    "        return i\n",
    "    else:\n",
    "        X = matmul(M, s, i, s[i, j])\n",
    "        Y = matmul(M, s, s[i,j] + 1, j)\n",
    "        print(X, Y, b[i - 1], b[s[i, j]], b[j])\n",
    "\n",
    "s = s.astype(np.int64)\n",
    "matmul([1, 2, 3, 4], s, 1, n)"
   ]
  },
  {
   "cell_type": "code",
   "execution_count": null,
   "metadata": {},
   "outputs": [],
   "source": []
  }
 ]
}