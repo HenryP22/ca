{
  "nbformat": 4,
  "nbformat_minor": 0,
  "metadata": {
    "colab": {
      "name": "ca 20202 pc1a.ipynb",
      "provenance": [],
      "authorship_tag": "ABX9TyMIAsm1xuk+mhrHjyuv632a",
      "include_colab_link": true
    },
    "kernelspec": {
      "name": "python3",
      "display_name": "Python 3"
    }
  },
  "cells": [
    {
      "cell_type": "markdown",
      "metadata": {
        "id": "view-in-github",
        "colab_type": "text"
      },
      "source": [
        "<a href=\"https://colab.research.google.com/github/pcsilcan/ca/blob/master/20202/ca_20202_pc1a.ipynb\" target=\"_parent\"><img src=\"https://colab.research.google.com/assets/colab-badge.svg\" alt=\"Open In Colab\"/></a>"
      ]
    },
    {
      "cell_type": "code",
      "metadata": {
        "id": "dGEtiGGgyOtm"
      },
      "source": [
        "import math\n",
        "from queue import Queue\n",
        "\n",
        "def bfs(G, s):\n",
        "    n = len(G)\n",
        "    color = ['white']*n\n",
        "    d = [math.inf]*n\n",
        "    π = [None]*n\n",
        "    Q = Queue()\n",
        "\n",
        "    color[s] = 'gray'\n",
        "    d[s] = 0\n",
        "    Q.put((s, 1))\n",
        "    boom = [0]\n",
        "    while not Q.empty():\n",
        "        u, day = Q.get()\n",
        "        cont = 0\n",
        "        for v in G[u]:\n",
        "            if color[v] == 'white':\n",
        "                cont += 1\n",
        "                color[v] = 'gray'\n",
        "                d[v] = d[u] + 1\n",
        "                π[v] = u\n",
        "                Q.put((v, day + 1))\n",
        "        if (len(boom) <= day):\n",
        "            boom.append(0)\n",
        "        boom[day] += cont\n",
        "        color[u] = 'black'\n",
        "\n",
        "    print(d, π)\n",
        "    return boom"
      ],
      "execution_count": 37,
      "outputs": []
    },
    {
      "cell_type": "code",
      "metadata": {
        "id": "-2y2JRtSyezu",
        "outputId": "1f21cb6d-60a1-4def-84a6-caa2a519917d",
        "colab": {
          "base_uri": "https://localhost:8080/",
          "height": 34
        }
      },
      "source": [
        "%%writefile 1.al1\n",
        "1 2\n",
        "3 4\n",
        "0 4 5\n",
        "4\n",
        "\n",
        "0 2"
      ],
      "execution_count": 27,
      "outputs": [
        {
          "output_type": "stream",
          "text": [
            "Overwriting 1.al1\n"
          ],
          "name": "stdout"
        }
      ]
    },
    {
      "cell_type": "code",
      "metadata": {
        "id": "p-8Cv2OCyqlK",
        "outputId": "cc99fe21-a8a1-4c23-b83a-0ccdbd9d6eba",
        "colab": {
          "base_uri": "https://localhost:8080/",
          "height": 35
        }
      },
      "source": [
        "\"\"\"\n",
        "3\n",
        "0\n",
        "4\n",
        "5\n",
        "\"\"\""
      ],
      "execution_count": 28,
      "outputs": [
        {
          "output_type": "execute_result",
          "data": {
            "application/vnd.google.colaboratory.intrinsic+json": {
              "type": "string"
            },
            "text/plain": [
              "'\\n3\\n0\\n4\\n5\\n'"
            ]
          },
          "metadata": {
            "tags": []
          },
          "execution_count": 28
        }
      ]
    },
    {
      "cell_type": "code",
      "metadata": {
        "id": "7XGTki8lyzfm"
      },
      "source": [
        "def readAL1(filename):\n",
        "    G = []\n",
        "    with open(filename) as f:\n",
        "        for line in f:\n",
        "            G.append([int(u) for u in line.strip().split()])\n",
        "    return G"
      ],
      "execution_count": 29,
      "outputs": []
    },
    {
      "cell_type": "code",
      "metadata": {
        "id": "e8LlUfDmy3P8",
        "outputId": "57513b0b-3dda-4031-d14e-f0a6fe2e8081",
        "colab": {
          "base_uri": "https://localhost:8080/",
          "height": 118
        }
      },
      "source": [
        "G = readAL1('1.al1')\n",
        "tests = [0, 4, 5]\n",
        "for s in tests:\n",
        "    boom = bfs(G, s)\n",
        "    day = 0\n",
        "    maxi = -1\n",
        "    for i in range(len(boom)):\n",
        "        if boom[i] > maxi:\n",
        "            day = i\n",
        "            maxi = boom[i]\n",
        "    if maxi == 0:\n",
        "        print(0)\n",
        "    else:\n",
        "        print(maxi, day)"
      ],
      "execution_count": 38,
      "outputs": [
        {
          "output_type": "stream",
          "text": [
            "[0, 1, 1, 2, 2, 2] [None, 0, 0, 1, 1, 2]\n",
            "3 2\n",
            "[inf, inf, inf, inf, 0, inf] [None, None, None, None, None, None]\n",
            "0\n",
            "[1, 2, 1, 3, 2, 0] [5, 0, 5, 1, 2, None]\n",
            "2 1\n"
          ],
          "name": "stdout"
        }
      ]
    },
    {
      "cell_type": "code",
      "metadata": {
        "id": "jPzzbJjZ0nEz",
        "outputId": "544f8a91-b624-4f01-b6ca-49de5298ee73",
        "colab": {
          "base_uri": "https://localhost:8080/",
          "height": 34
        }
      },
      "source": [
        "%%writefile 1.in\n",
        "1 1\n",
        "*\n",
        "3 5\n",
        "*@*@*\n",
        "**@**\n",
        "*@*@*\n",
        "1 8\n",
        "@@****@*\n",
        "5 5\n",
        "****@\n",
        "*@@*@\n",
        "*@**@\n",
        "@@@*@\n",
        "@@**@\n",
        "0 0"
      ],
      "execution_count": 48,
      "outputs": [
        {
          "output_type": "stream",
          "text": [
            "Overwriting 1.in\n"
          ],
          "name": "stdout"
        }
      ]
    },
    {
      "cell_type": "code",
      "metadata": {
        "id": "2k7TC01__-pi"
      },
      "source": [
        "def dfs(G):\n",
        "    M, N = len(G), len(G[0])\n",
        "    visited = [False]*(M*N)\n",
        "    path = [None]*(M*N)\n",
        "\n",
        "    def fidx(i, j):\n",
        "        return i * N + j\n",
        "\n",
        "    def valid(i, j):\n",
        "        if i < 0 or i >= M or j < 0 or j >= N:\n",
        "            return False\n",
        "        return G[i][j] == '@'\n",
        "\n",
        "    def makeGen(i, j):\n",
        "        return [(i-1, j-1), (i-1, j), (i-1, j+1),\n",
        "                (i,   j-1), (i,   j+1),\n",
        "                (i+1, j-1), (i+1, j), (i+1, j+1)]\n",
        "\n",
        "    def dfsVisit(G, i, j):\n",
        "        idx = fidx(i, j)\n",
        "        if visited[idx]: return\n",
        "        visited[idx] = True\n",
        "        for ni, nj in makeGen(i, j):\n",
        "            if valid(ni, nj):\n",
        "                path[fidx(ni, nj)] = idx\n",
        "                dfsVisit(G, ni, nj)\n",
        "\n",
        "    groups = 0\n",
        "    for i in range(M):\n",
        "        for j in range(N):\n",
        "            if G[i][j] == '@' and not visited[fidx(i, j)]:\n",
        "                groups += 1\n",
        "                dfsVisit(G, i, j)\n",
        "\n",
        "    return groups"
      ],
      "execution_count": 51,
      "outputs": []
    },
    {
      "cell_type": "code",
      "metadata": {
        "id": "G4z0qG37-MQ2",
        "outputId": "31974021-d14e-463f-dc17-1a98f7142061",
        "colab": {
          "base_uri": "https://localhost:8080/",
          "height": 84
        }
      },
      "source": [
        "with open('1.in') as f:\n",
        "    while True:\n",
        "        M, N = [int(a) for a in f.readline().strip().split()]\n",
        "        if M == 0:\n",
        "            break\n",
        "        m = [None for _ in range(M)]\n",
        "        for i in range(M):\n",
        "            line = f.readline()\n",
        "            m[i] = [c for c in line.strip()]\n",
        "        print(dfs(m))"
      ],
      "execution_count": 52,
      "outputs": [
        {
          "output_type": "stream",
          "text": [
            "0\n",
            "1\n",
            "2\n",
            "2\n"
          ],
          "name": "stdout"
        }
      ]
    },
    {
      "cell_type": "code",
      "metadata": {
        "id": "R7zPZ2y8_Iw0"
      },
      "source": [
        ""
      ],
      "execution_count": null,
      "outputs": []
    }
  ]
}