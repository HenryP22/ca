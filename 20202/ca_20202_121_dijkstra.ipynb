{
  "nbformat": 4,
  "nbformat_minor": 0,
  "metadata": {
    "colab": {
      "name": "ca 20202 121 dijkstra.ipynb",
      "provenance": [],
      "collapsed_sections": [],
      "authorship_tag": "ABX9TyP8U3fNWu6HXN+tZJkuh/GE",
      "include_colab_link": true
    },
    "kernelspec": {
      "name": "python3",
      "display_name": "Python 3"
    }
  },
  "cells": [
    {
      "cell_type": "markdown",
      "metadata": {
        "id": "view-in-github",
        "colab_type": "text"
      },
      "source": [
        "<a href=\"https://colab.research.google.com/github/pcsilcan/ca/blob/master/20202/ca_20202_121_dijkstra.ipynb\" target=\"_parent\"><img src=\"https://colab.research.google.com/assets/colab-badge.svg\" alt=\"Open In Colab\"/></a>"
      ]
    },
    {
      "cell_type": "markdown",
      "metadata": {
        "id": "L52sr3WYHvou"
      },
      "source": [
        "# Dijkstra Algorithm"
      ]
    },
    {
      "cell_type": "code",
      "metadata": {
        "id": "EsF2E4OPH4MC"
      },
      "source": [
        "import math\n",
        "import heapq as hq"
      ],
      "execution_count": 1,
      "outputs": []
    },
    {
      "cell_type": "code",
      "metadata": {
        "id": "UIDJQC0T5-ww"
      },
      "source": [
        "def initSingleSource(G, s):\n",
        "    n = len(G)\n",
        "    dist = [math.inf]*n\n",
        "    path = [None]*n\n",
        "    dist[s] = 0\n",
        "\n",
        "    return dist, path"
      ],
      "execution_count": 2,
      "outputs": []
    },
    {
      "cell_type": "code",
      "metadata": {
        "id": "3nItm3YX6J5n"
      },
      "source": [
        "def relax(u, v, w, dist, path):\n",
        "    f = dist[u] + w\n",
        "    if dist[v] > f:\n",
        "        dist[v] = f\n",
        "        path[v] = u\n",
        "        return True\n",
        "    return False"
      ],
      "execution_count": 3,
      "outputs": []
    },
    {
      "cell_type": "code",
      "metadata": {
        "id": "F-Jw0q0IHrBi"
      },
      "source": [
        "def dijkstra(G, s):\n",
        "    n = len(G)\n",
        "    dist, path = initSingleSource(G, s)\n",
        "    visited = [False]*n             # Quitar si no queremos arreglo de visitados\n",
        "    queue = []\n",
        "    hq.heappush(queue, (0, s))\n",
        "    while len(queue) > 0:\n",
        "        _, u = hq.heappop(queue)\n",
        "        if visited[u]: continue     # Quitar si no queremos arreglo de visitados\n",
        "        visited[u] = True           # Quitar si no queremos arreglo de visitados\n",
        "        for v, w in G[u]:\n",
        "            if visited[v]: continue # Quitar si no queremos arreglo de visitados\n",
        "            if relax(u, v, w, dist, path):\n",
        "                hq.heappush(queue, (dist[u]+w, v))\n",
        "\n",
        "    return dist, path"
      ],
      "execution_count": 4,
      "outputs": []
    },
    {
      "cell_type": "code",
      "metadata": {
        "id": "oE3QyHEzKtqI"
      },
      "source": [
        "G = [[(2, 1), (3, 8), (4, 2)],\n",
        "     [(2, 9)],\n",
        "     [(0, 1), (1, 9), (4, 5), (5, 9), (6, 4)],\n",
        "     [(0, 8), (5, 3)],\n",
        "     [(0, 2), (2, 5), (6, 7)],\n",
        "     [(2, 9), (3, 3)],\n",
        "     [(2, 4), (4, 7), (7, 1)],\n",
        "     [(6, 1)]]"
      ],
      "execution_count": 5,
      "outputs": []
    },
    {
      "cell_type": "code",
      "metadata": {
        "id": "1Ws47Dj5LV1d",
        "outputId": "940184fc-9d10-4cbe-ca0e-85e425f4a572",
        "colab": {
          "base_uri": "https://localhost:8080/"
        }
      },
      "source": [
        "%timeit dijkstra(G, 1) # Sin arreglo de visitados"
      ],
      "execution_count": null,
      "outputs": [
        {
          "output_type": "stream",
          "text": [
            "100000 loops, best of 3: 6.81 µs per loop\n"
          ],
          "name": "stdout"
        }
      ]
    },
    {
      "cell_type": "code",
      "metadata": {
        "id": "Vbx7UDgVLvoV",
        "outputId": "10040453-7134-456e-d209-f978f90e21b1",
        "colab": {
          "base_uri": "https://localhost:8080/"
        }
      },
      "source": [
        "%timeit dijkstra(G, 1) # Con arreglo de visitados"
      ],
      "execution_count": null,
      "outputs": [
        {
          "output_type": "stream",
          "text": [
            "100000 loops, best of 3: 6.64 µs per loop\n"
          ],
          "name": "stdout"
        }
      ]
    },
    {
      "cell_type": "code",
      "metadata": {
        "id": "8jnZgBG6O9tN",
        "outputId": "9d9a2c33-5641-4462-dc31-bab30084f7a9",
        "colab": {
          "base_uri": "https://localhost:8080/"
        }
      },
      "source": [
        "dijkstra(G, 1)"
      ],
      "execution_count": null,
      "outputs": [
        {
          "output_type": "execute_result",
          "data": {
            "text/plain": [
              "([10, 0, 9, 18, 12, 18, 13, 14], [2, None, 1, 0, 0, 2, 2, 6])"
            ]
          },
          "metadata": {
            "tags": []
          },
          "execution_count": 9
        }
      ]
    },
    {
      "cell_type": "code",
      "metadata": {
        "id": "W6SYUmCSVHw0"
      },
      "source": [
        ""
      ],
      "execution_count": null,
      "outputs": []
    }
  ]
}