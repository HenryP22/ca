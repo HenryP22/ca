{
  "nbformat": 4,
  "nbformat_minor": 0,
  "metadata": {
    "colab": {
      "name": "ca 20202 122 558 - Wormholes.ipynb",
      "provenance": [],
      "collapsed_sections": [],
      "authorship_tag": "ABX9TyNLW5sTA31YD2WB5OFOXnVV",
      "include_colab_link": true
    },
    "kernelspec": {
      "name": "python3",
      "display_name": "Python 3"
    }
  },
  "cells": [
    {
      "cell_type": "markdown",
      "metadata": {
        "id": "view-in-github",
        "colab_type": "text"
      },
      "source": [
        "<a href=\"https://colab.research.google.com/github/pcsilcan/ca/blob/master/20202/ca_20202_122_558_Wormholes.ipynb\" target=\"_parent\"><img src=\"https://colab.research.google.com/assets/colab-badge.svg\" alt=\"Open In Colab\"/></a>"
      ]
    },
    {
      "cell_type": "markdown",
      "metadata": {
        "id": "1JScyjdlToZS"
      },
      "source": [
        "# [558 - Wormholes](https://onlinejudge.org/index.php?option=onlinejudge&Itemid=8&category=382&page=show_problem&problem=499)"
      ]
    },
    {
      "cell_type": "code",
      "metadata": {
        "id": "MbyEixcjV65Y",
        "outputId": "70d3a86d-de5b-4b99-a9c5-6d8972cbdc05",
        "colab": {
          "base_uri": "https://localhost:8080/"
        }
      },
      "source": [
        "%%writefile 1.in\n",
        "2\n",
        "3 3\n",
        "0 1 1000\n",
        "1 2 15\n",
        "2 1 -42\n",
        "4 4\n",
        "0 1 10\n",
        "1 2 20\n",
        "2 3 30\n",
        "3 0 -60"
      ],
      "execution_count": null,
      "outputs": [
        {
          "output_type": "stream",
          "text": [
            "Writing 1.in\n"
          ],
          "name": "stdout"
        }
      ]
    },
    {
      "cell_type": "code",
      "metadata": {
        "id": "AhnsHDaRSa2S",
        "outputId": "b4409c0d-4b9f-4c7d-b0de-43e7cca74f82",
        "colab": {
          "base_uri": "https://localhost:8080/"
        }
      },
      "source": [
        "%%writefile 1.py\n",
        "import math\n",
        "\n",
        "def initSingleSource(G, s):\n",
        "    n = len(G)\n",
        "    dist = [math.inf]*n\n",
        "    path = [None]*n\n",
        "    dist[s] = 0\n",
        "\n",
        "    return dist, path\n",
        "\n",
        "def relax(u, v, w, dist, path):\n",
        "    f = dist[u] + w\n",
        "    if dist[v] > f:\n",
        "        dist[v] = f\n",
        "        path[v] = u\n",
        "\n",
        "def bellmanFord(G, s):\n",
        "    n = len(G)\n",
        "    dist, path = initSingleSource(G, s)\n",
        "    for _ in range(n-1):\n",
        "        for u in range(n):\n",
        "            for v, w in G[u]:\n",
        "                relax(u, v, w, dist, path)\n",
        "\n",
        "    for u in range(n):\n",
        "        for v, w in G[u]:\n",
        "            if dist[u] + w < dist[v]:\n",
        "                return None, None, False\n",
        "\n",
        "    return dist, path, True\n",
        "\n",
        "\n",
        "c = int(input())\n",
        "while c > 0:\n",
        "    c -= 1\n",
        "    n, m = [int(x) for x in input().strip().split()]\n",
        "    G = [[] for _ in range(n)]\n",
        "    for _ in range(m):\n",
        "        u, v, w = [int(x) for x in input().strip().split()]\n",
        "        G[u].append((v, w))\n",
        "\n",
        "    _, _, ok = bellmanFord(G, 0)\n",
        "\n",
        "    print(f'{\"not \" if ok else \"\"}possible')"
      ],
      "execution_count": null,
      "outputs": [
        {
          "output_type": "stream",
          "text": [
            "Overwriting 1.py\n"
          ],
          "name": "stdout"
        }
      ]
    },
    {
      "cell_type": "code",
      "metadata": {
        "id": "D0BMMylJT1Pn",
        "outputId": "f2903254-f3b0-4020-c95d-d84521cc134a",
        "colab": {
          "base_uri": "https://localhost:8080/"
        }
      },
      "source": [
        "!python 1.py < 1.in"
      ],
      "execution_count": null,
      "outputs": [
        {
          "output_type": "stream",
          "text": [
            "possible\n",
            "not possible\n"
          ],
          "name": "stdout"
        }
      ]
    },
    {
      "cell_type": "code",
      "metadata": {
        "id": "qSMl2TKfT3rS"
      },
      "source": [
        ""
      ],
      "execution_count": null,
      "outputs": []
    }
  ]
}