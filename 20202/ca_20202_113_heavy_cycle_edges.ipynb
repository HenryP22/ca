{
  "nbformat": 4,
  "nbformat_minor": 0,
  "metadata": {
    "colab": {
      "name": "ca 20202 113 heavy cycle edges.ipynb",
      "provenance": [],
      "authorship_tag": "ABX9TyM7iTBaBuKTnt4C0SNKB/ky",
      "include_colab_link": true
    },
    "kernelspec": {
      "name": "python3",
      "display_name": "Python 3"
    }
  },
  "cells": [
    {
      "cell_type": "markdown",
      "metadata": {
        "id": "view-in-github",
        "colab_type": "text"
      },
      "source": [
        "<a href=\"https://colab.research.google.com/github/pcsilcan/ca/blob/master/20202/ca_20202_113_heavy_cycle_edges.ipynb\" target=\"_parent\"><img src=\"https://colab.research.google.com/assets/colab-badge.svg\" alt=\"Open In Colab\"/></a>"
      ]
    },
    {
      "cell_type": "markdown",
      "metadata": {
        "id": "bzLvoNuBQ8js"
      },
      "source": [
        "# Simple Disjoint Set"
      ]
    },
    {
      "cell_type": "code",
      "metadata": {
        "id": "ArrXMQALQxpi"
      },
      "source": [
        "class DisjointSet:\n",
        "    def __init__(self, n):\n",
        "        self.n  = n\n",
        "        self.id = [-1]*n\n",
        "\n",
        "    def find(self, a):\n",
        "        if self.id[a] >= 0:\n",
        "            rep = self.find(self.id[a])\n",
        "            self.id[a] = rep\n",
        "            return rep\n",
        "        else:\n",
        "            return a\n",
        "\n",
        "    def union(self, a, b):\n",
        "        parentA = self.find(a)\n",
        "        parentB = self.find(b)\n",
        "        if parentA == parentB:\n",
        "            return\n",
        "\n",
        "        if -self.id[parentA] < -self.id[parentB]:\n",
        "            self.id[parentB] += self.id[parentA]\n",
        "            self.id[parentA] = parentB\n",
        "        else:\n",
        "            self.id[parentA] += self.id[parentB]\n",
        "            self.id[parentB] = parentA"
      ],
      "execution_count": 1,
      "outputs": []
    },
    {
      "cell_type": "code",
      "metadata": {
        "id": "OYOqs3E7a9mP"
      },
      "source": [
        "import heapq as hq\n",
        "\n",
        "def FauxKruskal(G, n):\n",
        "    Tneg = []\n",
        "    \n",
        "    ds = DisjointSet(n)\n",
        "    while len(G) > 0:\n",
        "        w, u, v = hq.heappop(G)\n",
        "        if ds.find(u) != ds.find(v):\n",
        "            ds.union(u, v)\n",
        "        else:\n",
        "            hq.heappush(Tneg, w)\n",
        "        \n",
        "    return Tneg\n"
      ],
      "execution_count": 2,
      "outputs": []
    },
    {
      "cell_type": "code",
      "metadata": {
        "id": "5-mSFF71fV8j",
        "outputId": "8a0cb633-fa1d-4a12-b128-140e17f5077f",
        "colab": {
          "base_uri": "https://localhost:8080/"
        }
      },
      "source": [
        "%%writefile 1.in\n",
        "3 3\n",
        "0 1 1\n",
        "1 2 2\n",
        "2 0 3\n",
        "4 5\n",
        "0 1 1\n",
        "1 2 2\n",
        "2 3 3\n",
        "3 1 4\n",
        "0 2 0\n",
        "3 1\n",
        "0 1 1\n",
        "0 0"
      ],
      "execution_count": 3,
      "outputs": [
        {
          "output_type": "stream",
          "text": [
            "Overwriting 1.in\n"
          ],
          "name": "stdout"
        }
      ]
    },
    {
      "cell_type": "code",
      "metadata": {
        "id": "iz-ARLtBfQp-",
        "outputId": "3b293a96-b25e-4f31-e19b-0701a0c73469",
        "colab": {
          "base_uri": "https://localhost:8080/"
        }
      },
      "source": [
        "with open(\"1.in\") as f:\n",
        "    while True:\n",
        "        n, m = [int(x) for x in f.readline().strip().split()]\n",
        "        if n == 0 and m == 0:\n",
        "            break\n",
        "\n",
        "        G = []\n",
        "        for i in range(m):\n",
        "            u, v, w = [int(x) for x in f.readline().strip().split()]\n",
        "            hq.heappush(G, (w, u, v))\n",
        "\n",
        "        T = FauxKruskal(G, n)\n",
        "        if len(T) == 0:\n",
        "            print(\"forest\")\n",
        "        else:\n",
        "            while len(T) > 0:\n",
        "                print(hq.heappop(T), end=' ')\n",
        "            print()"
      ],
      "execution_count": 4,
      "outputs": [
        {
          "output_type": "stream",
          "text": [
            "3 \n",
            "2 4 \n",
            "forest\n"
          ],
          "name": "stdout"
        }
      ]
    },
    {
      "cell_type": "code",
      "metadata": {
        "id": "56Esh1aXkVQj"
      },
      "source": [
        ""
      ],
      "execution_count": 4,
      "outputs": []
    }
  ]
}