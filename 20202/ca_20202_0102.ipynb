{
  "nbformat": 4,
  "nbformat_minor": 0,
  "metadata": {
    "colab": {
      "name": "ca 20202 0102.ipynb",
      "provenance": [],
      "authorship_tag": "ABX9TyMWyGrWq9bt3RRdqYEea03x",
      "include_colab_link": true
    },
    "kernelspec": {
      "name": "python3",
      "display_name": "Python 3"
    }
  },
  "cells": [
    {
      "cell_type": "markdown",
      "metadata": {
        "id": "view-in-github",
        "colab_type": "text"
      },
      "source": [
        "<a href=\"https://colab.research.google.com/github/pcsilcan/ca/blob/master/20202/ca_20202_0102.ipynb\" target=\"_parent\"><img src=\"https://colab.research.google.com/assets/colab-badge.svg\" alt=\"Open In Colab\"/></a>"
      ]
    },
    {
      "cell_type": "code",
      "metadata": {
        "id": "60J2minEM7u2",
        "colab_type": "code",
        "colab": {}
      },
      "source": [
        "import random as rnd\n",
        "import numpy as np\n",
        "import math"
      ],
      "execution_count": 21,
      "outputs": []
    },
    {
      "cell_type": "code",
      "metadata": {
        "id": "3zexjAyfNYry",
        "colab_type": "code",
        "colab": {
          "base_uri": "https://localhost:8080/",
          "height": 67
        },
        "outputId": "2823a4c7-5b83-4e09-dc21-85f36f65e499"
      },
      "source": [
        "print([0 for _ in range(10)])\n",
        "print([i for i in range(10)])\n",
        "print([i*i for i in range(10)])"
      ],
      "execution_count": 6,
      "outputs": [
        {
          "output_type": "stream",
          "text": [
            "[0, 0, 0, 0, 0, 0, 0, 0, 0, 0]\n",
            "[0, 1, 2, 3, 4, 5, 6, 7, 8, 9]\n",
            "[0, 1, 4, 9, 16, 25, 36, 49, 64, 81]\n"
          ],
          "name": "stdout"
        }
      ]
    },
    {
      "cell_type": "code",
      "metadata": {
        "id": "2rTf5MgQNLO6",
        "colab_type": "code",
        "colab": {}
      },
      "source": [
        "def generate(n):\n",
        "    return [rnd.randint(1, 100) for _ in range(n)]"
      ],
      "execution_count": 2,
      "outputs": []
    },
    {
      "cell_type": "code",
      "metadata": {
        "id": "InsltGCCNUPq",
        "colab_type": "code",
        "colab": {
          "base_uri": "https://localhost:8080/",
          "height": 34
        },
        "outputId": "398cc7a1-6048-4661-c839-0507e29b5483"
      },
      "source": [
        "generate(10)"
      ],
      "execution_count": 3,
      "outputs": [
        {
          "output_type": "execute_result",
          "data": {
            "text/plain": [
              "[44, 74, 31, 41, 38, 76, 83, 53, 46, 85]"
            ]
          },
          "metadata": {
            "tags": []
          },
          "execution_count": 3
        }
      ]
    },
    {
      "cell_type": "code",
      "metadata": {
        "id": "hH7eLnuBWmKH",
        "colab_type": "code",
        "colab": {
          "base_uri": "https://localhost:8080/",
          "height": 34
        },
        "outputId": "0472781f-33a9-4a54-bf92-c1b3f83ecfba"
      },
      "source": [
        "print([0]*5)"
      ],
      "execution_count": 10,
      "outputs": [
        {
          "output_type": "stream",
          "text": [
            "[0, 0, 0, 0, 0]\n"
          ],
          "name": "stdout"
        }
      ]
    },
    {
      "cell_type": "code",
      "metadata": {
        "id": "gc74rP2LNVYD",
        "colab_type": "code",
        "colab": {}
      },
      "source": [
        "def freq(t):\n",
        "    n = len(t)\n",
        "    m = max(t)\n",
        "    s = [0]*(m+1)\n",
        "\n",
        "    for e in t:\n",
        "        s[e] += 1\n",
        "\n",
        "    return s"
      ],
      "execution_count": 7,
      "outputs": []
    },
    {
      "cell_type": "code",
      "metadata": {
        "id": "N45mWVlOWGX-",
        "colab_type": "code",
        "colab": {
          "base_uri": "https://localhost:8080/",
          "height": 370
        },
        "outputId": "cf5041a1-89fb-4937-9061-fb9024b425d0"
      },
      "source": [
        "freq([rnd.randint(1, 20) for _ in range(1000)])"
      ],
      "execution_count": 8,
      "outputs": [
        {
          "output_type": "execute_result",
          "data": {
            "text/plain": [
              "[0,\n",
              " 58,\n",
              " 48,\n",
              " 54,\n",
              " 40,\n",
              " 47,\n",
              " 35,\n",
              " 59,\n",
              " 38,\n",
              " 56,\n",
              " 52,\n",
              " 45,\n",
              " 62,\n",
              " 43,\n",
              " 55,\n",
              " 60,\n",
              " 50,\n",
              " 58,\n",
              " 58,\n",
              " 55,\n",
              " 27]"
            ]
          },
          "metadata": {
            "tags": []
          },
          "execution_count": 8
        }
      ]
    },
    {
      "cell_type": "code",
      "metadata": {
        "id": "2wdCmC1TWODX",
        "colab_type": "code",
        "colab": {
          "base_uri": "https://localhost:8080/",
          "height": 54
        },
        "outputId": "e7c1927e-68f3-4d27-8b13-71b12aa31619"
      },
      "source": [
        "print([i for i in range(100)])"
      ],
      "execution_count": 11,
      "outputs": [
        {
          "output_type": "stream",
          "text": [
            "[0, 1, 2, 3, 4, 5, 6, 7, 8, 9, 10, 11, 12, 13, 14, 15, 16, 17, 18, 19, 20, 21, 22, 23, 24, 25, 26, 27, 28, 29, 30, 31, 32, 33, 34, 35, 36, 37, 38, 39, 40, 41, 42, 43, 44, 45, 46, 47, 48, 49, 50, 51, 52, 53, 54, 55, 56, 57, 58, 59, 60, 61, 62, 63, 64, 65, 66, 67, 68, 69, 70, 71, 72, 73, 74, 75, 76, 77, 78, 79, 80, 81, 82, 83, 84, 85, 86, 87, 88, 89, 90, 91, 92, 93, 94, 95, 96, 97, 98, 99]\n"
          ],
          "name": "stdout"
        }
      ]
    },
    {
      "cell_type": "code",
      "metadata": {
        "id": "xYPcSY3pZZn_",
        "colab_type": "code",
        "colab": {
          "base_uri": "https://localhost:8080/",
          "height": 101
        },
        "outputId": "8d860070-9f41-4e7e-d373-ce819c10b7d2"
      },
      "source": [
        "a = [i*i for i in range(20)]\n",
        "print(a)\n",
        "print(a[:])\n",
        "print(a[10:])\n",
        "print(a[:10])\n",
        "print(a[6:15])"
      ],
      "execution_count": 17,
      "outputs": [
        {
          "output_type": "stream",
          "text": [
            "[0, 1, 4, 9, 16, 25, 36, 49, 64, 81, 100, 121, 144, 169, 196, 225, 256, 289, 324, 361]\n",
            "[0, 1, 4, 9, 16, 25, 36, 49, 64, 81, 100, 121, 144, 169, 196, 225, 256, 289, 324, 361]\n",
            "[100, 121, 144, 169, 196, 225, 256, 289, 324, 361]\n",
            "[0, 1, 4, 9, 16, 25, 36, 49, 64, 81]\n",
            "[36, 49, 64, 81, 100, 121, 144, 169, 196]\n"
          ],
          "name": "stdout"
        }
      ]
    },
    {
      "cell_type": "code",
      "metadata": {
        "id": "umhB6pzZXfqF",
        "colab_type": "code",
        "colab": {}
      },
      "source": [
        "def checkSudoku(t):\n",
        "    n = len(t)\n",
        "    tab = np.array(t)\n",
        "\n",
        "    for i in range(n):\n",
        "        row = set(tab[i])\n",
        "        if len(row) < n:\n",
        "            return False\n",
        "\n",
        "        column = set(tab[:, i])\n",
        "        if len(column) < n:\n",
        "            return False\n",
        "\n",
        "    m = int(math.sqrt(n))\n",
        "    for i in range(m):\n",
        "        for j in range(m):\n",
        "            block = set(tab[i*m:(i+1)*m,j*m:(j+1)*m].reshape((n)))\n",
        "            if len(block) < n:\n",
        "                return False\n",
        "\n",
        "    return True"
      ],
      "execution_count": 36,
      "outputs": []
    },
    {
      "cell_type": "code",
      "metadata": {
        "id": "l-kab-eoYSBP",
        "colab_type": "code",
        "colab": {
          "base_uri": "https://localhost:8080/",
          "height": 34
        },
        "outputId": "8702d70e-7c7e-4d28-ed86-2f0e4201ab24"
      },
      "source": [
        "t = [[1, 2, 3, 4],\n",
        "     [3, 4, 1, 2],\n",
        "     [2, 3, 4, 1],\n",
        "     [4, 2, 2, 3]]\n",
        "print(checkSudoku(t))"
      ],
      "execution_count": 37,
      "outputs": [
        {
          "output_type": "stream",
          "text": [
            "False\n"
          ],
          "name": "stdout"
        }
      ]
    },
    {
      "cell_type": "code",
      "metadata": {
        "id": "JJv-lmkFZ2bf",
        "colab_type": "code",
        "colab": {
          "base_uri": "https://localhost:8080/",
          "height": 202
        },
        "outputId": "9a5eb764-86e6-494e-bb25-2fe7c5239178"
      },
      "source": [
        "tab = np.array(t)\n",
        "print(tab)\n",
        "print(tab[2])\n",
        "print(tab[:, 3])\n",
        "print(tab[1:3,2:4])\n",
        "print(tab[1:3,2:4].shape)\n",
        "print(tab[1:3,2:4].reshape((4)))\n",
        "print(tab.shape)"
      ],
      "execution_count": 45,
      "outputs": [
        {
          "output_type": "stream",
          "text": [
            "[[1 2 3 4]\n",
            " [3 4 1 2]\n",
            " [2 3 4 1]\n",
            " [4 2 2 3]]\n",
            "[2 3 4 1]\n",
            "[4 2 1 3]\n",
            "[[1 2]\n",
            " [4 1]]\n",
            "(2, 2)\n",
            "[1 2 4 1]\n",
            "(4, 4)\n"
          ],
          "name": "stdout"
        }
      ]
    },
    {
      "cell_type": "code",
      "metadata": {
        "id": "EFsQAPIwb21S",
        "colab_type": "code",
        "colab": {}
      },
      "source": [
        ""
      ],
      "execution_count": null,
      "outputs": []
    }
  ]
}