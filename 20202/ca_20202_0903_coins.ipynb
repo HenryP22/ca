{
  "nbformat": 4,
  "nbformat_minor": 0,
  "metadata": {
    "colab": {
      "name": "ca 20202 0903 coins.ipynb",
      "provenance": [],
      "authorship_tag": "ABX9TyNsCO1BoFx7M2V1eYvVStv5",
      "include_colab_link": true
    },
    "kernelspec": {
      "name": "python3",
      "display_name": "Python 3"
    }
  },
  "cells": [
    {
      "cell_type": "markdown",
      "metadata": {
        "id": "view-in-github",
        "colab_type": "text"
      },
      "source": [
        "<a href=\"https://colab.research.google.com/github/pcsilcan/ca/blob/master/20202/ca_20202_0903_coins.ipynb\" target=\"_parent\"><img src=\"https://colab.research.google.com/assets/colab-badge.svg\" alt=\"Open In Colab\"/></a>"
      ]
    },
    {
      "cell_type": "markdown",
      "metadata": {
        "id": "DIHcu4g0tit_"
      },
      "source": [
        "# Coins"
      ]
    },
    {
      "cell_type": "code",
      "metadata": {
        "id": "Bl2ZnRZdw0il"
      },
      "source": [
        "import math"
      ],
      "execution_count": 23,
      "outputs": []
    },
    {
      "cell_type": "code",
      "metadata": {
        "id": "ms6Z7u8Jthaf"
      },
      "source": [
        "def coins(p: int, d):\n",
        "    n = len(d)\n",
        "    c = [ 0]*(p+1)\n",
        "    s = [-1]*(p+1)\n",
        "    for i in range(1, p+1):\n",
        "        c[i], s[i] = min([(1+c[i - di], di) for di in d if i - di >= 0])\n",
        "    \n",
        "    usedCoins = {}\n",
        "    cant = c[p]\n",
        "    while p > 0:\n",
        "        if not s[p] in usedCoins:\n",
        "            usedCoins[s[p]] = 0\n",
        "        usedCoins[s[p]] += 1\n",
        "        p -= s[p]\n",
        "\n",
        "    return cant, usedCoins"
      ],
      "execution_count": 54,
      "outputs": []
    },
    {
      "cell_type": "code",
      "metadata": {
        "id": "ICvyfPbOutJk",
        "outputId": "094a9b24-df1d-413f-c506-b3ac3fbd6a2b",
        "colab": {
          "base_uri": "https://localhost:8080/",
          "height": 34
        }
      },
      "source": [
        "d = [1, 5, 10, 20, 25, 50]\n",
        "coins(40, d)"
      ],
      "execution_count": 55,
      "outputs": [
        {
          "output_type": "execute_result",
          "data": {
            "text/plain": [
              "(2, {-1: 1, 1: 32, 5: 3, 10: 2, 20: 2, 25: 1})"
            ]
          },
          "metadata": {
            "tags": []
          },
          "execution_count": 55
        }
      ]
    },
    {
      "cell_type": "code",
      "metadata": {
        "id": "616P58s9uyez",
        "outputId": "46f5ee7b-b0e5-4edc-ff15-8c9feeb11112",
        "colab": {
          "base_uri": "https://localhost:8080/",
          "height": 34
        }
      },
      "source": [
        "coins(85, d)"
      ],
      "execution_count": 44,
      "outputs": [
        {
          "output_type": "execute_result",
          "data": {
            "text/plain": [
              "(3, {10: 1, 25: 1, 50: 1})"
            ]
          },
          "metadata": {
            "tags": []
          },
          "execution_count": 44
        }
      ]
    },
    {
      "cell_type": "code",
      "metadata": {
        "id": "szuLbn5MxwLJ",
        "outputId": "1cba0d99-ddc7-491f-da5e-4d91d255b6ac",
        "colab": {
          "base_uri": "https://localhost:8080/",
          "height": 34
        }
      },
      "source": [
        "coins(144, d)"
      ],
      "execution_count": 45,
      "outputs": [
        {
          "output_type": "execute_result",
          "data": {
            "text/plain": [
              "(8, {1: 4, 20: 2, 50: 2})"
            ]
          },
          "metadata": {
            "tags": []
          },
          "execution_count": 45
        }
      ]
    },
    {
      "cell_type": "code",
      "metadata": {
        "id": "AfAFMZIKzqDC",
        "outputId": "76601473-c34f-4861-da88-299e833292c5",
        "colab": {
          "base_uri": "https://localhost:8080/",
          "height": 34
        }
      },
      "source": [
        "min([(3, 5), (4, 2)])"
      ],
      "execution_count": 51,
      "outputs": [
        {
          "output_type": "execute_result",
          "data": {
            "text/plain": [
              "(3, 5)"
            ]
          },
          "metadata": {
            "tags": []
          },
          "execution_count": 51
        }
      ]
    },
    {
      "cell_type": "code",
      "metadata": {
        "id": "qGH6eEdo0JQN"
      },
      "source": [
        ""
      ],
      "execution_count": null,
      "outputs": []
    }
  ]
}