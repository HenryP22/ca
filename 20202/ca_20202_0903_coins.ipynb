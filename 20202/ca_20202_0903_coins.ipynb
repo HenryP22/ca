{
  "nbformat": 4,
  "nbformat_minor": 0,
  "metadata": {
    "colab": {
      "name": "ca 20202 0903 coins.ipynb",
      "provenance": [],
      "authorship_tag": "ABX9TyPr8yl/bKATeUXAydEnDYeR",
      "include_colab_link": true
    },
    "kernelspec": {
      "name": "python3",
      "display_name": "Python 3"
    }
  },
  "cells": [
    {
      "cell_type": "markdown",
      "metadata": {
        "id": "view-in-github",
        "colab_type": "text"
      },
      "source": [
        "<a href=\"https://colab.research.google.com/github/pcsilcan/ca/blob/master/20202/ca_20202_0903_coins.ipynb\" target=\"_parent\"><img src=\"https://colab.research.google.com/assets/colab-badge.svg\" alt=\"Open In Colab\"/></a>"
      ]
    },
    {
      "cell_type": "markdown",
      "metadata": {
        "id": "DIHcu4g0tit_"
      },
      "source": [
        "# Coins"
      ]
    },
    {
      "cell_type": "code",
      "metadata": {
        "id": "Bl2ZnRZdw0il"
      },
      "source": [
        "import math"
      ],
      "execution_count": 1,
      "outputs": []
    },
    {
      "cell_type": "code",
      "metadata": {
        "id": "ms6Z7u8Jthaf"
      },
      "source": [
        "def coins(P, d):\n",
        "    n = len(d)\n",
        "    Max = P + 1\n",
        "    p = P\n",
        "    c = [ 0]*(Max)\n",
        "    s = [-1]*(Max)\n",
        "    for P in range(1, Max):\n",
        "        c[P], s[P] = min([(1+c[P - di], di) for di in d if P - di >= 0])\n",
        "    \n",
        "    usedCoins = {}\n",
        "    cant = c[p]\n",
        "    while p > 0:\n",
        "        if not s[p] in usedCoins:\n",
        "            usedCoins[s[p]] = 0\n",
        "        usedCoins[s[p]] += 1\n",
        "        p -= s[p]\n",
        "\n",
        "    return cant, usedCoins"
      ],
      "execution_count": 17,
      "outputs": []
    },
    {
      "cell_type": "code",
      "metadata": {
        "id": "ICvyfPbOutJk",
        "outputId": "d3859be1-2acc-447c-a694-825a379168ca",
        "colab": {
          "base_uri": "https://localhost:8080/",
          "height": 34
        }
      },
      "source": [
        "d = [1, 5, 10, 20, 25, 50]\n",
        "coins(40, d)"
      ],
      "execution_count": 18,
      "outputs": [
        {
          "output_type": "execute_result",
          "data": {
            "text/plain": [
              "(2, {20: 2})"
            ]
          },
          "metadata": {
            "tags": []
          },
          "execution_count": 18
        }
      ]
    },
    {
      "cell_type": "code",
      "metadata": {
        "id": "616P58s9uyez",
        "outputId": "49a5c3c9-eaed-4338-9160-81c35a574e9c",
        "colab": {
          "base_uri": "https://localhost:8080/",
          "height": 34
        }
      },
      "source": [
        "coins(85, d)"
      ],
      "execution_count": 4,
      "outputs": [
        {
          "output_type": "execute_result",
          "data": {
            "text/plain": [
              "(3, {10: 1, 25: 1, 50: 1})"
            ]
          },
          "metadata": {
            "tags": []
          },
          "execution_count": 4
        }
      ]
    },
    {
      "cell_type": "code",
      "metadata": {
        "id": "szuLbn5MxwLJ",
        "outputId": "48843a56-6192-42ea-e89e-156849bcd4e3",
        "colab": {
          "base_uri": "https://localhost:8080/",
          "height": 34
        }
      },
      "source": [
        "coins(144, d)"
      ],
      "execution_count": 5,
      "outputs": [
        {
          "output_type": "execute_result",
          "data": {
            "text/plain": [
              "(8, {1: 4, 20: 2, 50: 2})"
            ]
          },
          "metadata": {
            "tags": []
          },
          "execution_count": 5
        }
      ]
    },
    {
      "cell_type": "code",
      "metadata": {
        "id": "AfAFMZIKzqDC",
        "outputId": "e8f71775-b18b-4966-aa28-d9ad1bb4744f",
        "colab": {
          "base_uri": "https://localhost:8080/",
          "height": 34
        }
      },
      "source": [
        "min([(3, 5), (4, 2)])"
      ],
      "execution_count": 6,
      "outputs": [
        {
          "output_type": "execute_result",
          "data": {
            "text/plain": [
              "(3, 5)"
            ]
          },
          "metadata": {
            "tags": []
          },
          "execution_count": 6
        }
      ]
    },
    {
      "cell_type": "code",
      "metadata": {
        "id": "qGH6eEdo0JQN",
        "outputId": "427432af-d07c-4aac-8dd8-72a8619301de",
        "colab": {
          "base_uri": "https://localhost:8080/",
          "height": 34
        }
      },
      "source": [
        "a = [i for i in range(10)]\n",
        "print(a)"
      ],
      "execution_count": 7,
      "outputs": [
        {
          "output_type": "stream",
          "text": [
            "[0, 1, 2, 3, 4, 5, 6, 7, 8, 9]\n"
          ],
          "name": "stdout"
        }
      ]
    },
    {
      "cell_type": "code",
      "metadata": {
        "id": "gUP7O16HXf7n",
        "outputId": "6abf0189-ad9e-4440-a870-8f1d9efbba07",
        "colab": {
          "base_uri": "https://localhost:8080/",
          "height": 34
        }
      },
      "source": [
        "[x for x in a]"
      ],
      "execution_count": 8,
      "outputs": [
        {
          "output_type": "execute_result",
          "data": {
            "text/plain": [
              "[0, 1, 2, 3, 4, 5, 6, 7, 8, 9]"
            ]
          },
          "metadata": {
            "tags": []
          },
          "execution_count": 8
        }
      ]
    },
    {
      "cell_type": "code",
      "metadata": {
        "id": "MlUs404MXlPQ",
        "outputId": "dfedf9ff-1def-4c28-a48e-d5366542f3e5",
        "colab": {
          "base_uri": "https://localhost:8080/",
          "height": 34
        }
      },
      "source": [
        "[x for x in a if x % 2 == 0]"
      ],
      "execution_count": 9,
      "outputs": [
        {
          "output_type": "execute_result",
          "data": {
            "text/plain": [
              "[0, 2, 4, 6, 8]"
            ]
          },
          "metadata": {
            "tags": []
          },
          "execution_count": 9
        }
      ]
    },
    {
      "cell_type": "code",
      "metadata": {
        "id": "gj6zf76eXoQb",
        "outputId": "def6efe4-3cba-47f1-dc04-687ec904e80a",
        "colab": {
          "base_uri": "https://localhost:8080/",
          "height": 52
        }
      },
      "source": [
        "d = [1, 5, 10, 20, 25, 50]\n",
        "P = 40\n",
        "posibles = [(P - di, di) for di in d if P - di >= 0]\n",
        "print(posibles)\n",
        "min(posibles)"
      ],
      "execution_count": 14,
      "outputs": [
        {
          "output_type": "stream",
          "text": [
            "[(39, 1), (35, 5), (30, 10), (20, 20), (15, 25)]\n"
          ],
          "name": "stdout"
        },
        {
          "output_type": "execute_result",
          "data": {
            "text/plain": [
              "(15, 25)"
            ]
          },
          "metadata": {
            "tags": []
          },
          "execution_count": 14
        }
      ]
    },
    {
      "cell_type": "code",
      "metadata": {
        "id": "yXsKRmXxX4Or"
      },
      "source": [
        ""
      ],
      "execution_count": null,
      "outputs": []
    }
  ]
}