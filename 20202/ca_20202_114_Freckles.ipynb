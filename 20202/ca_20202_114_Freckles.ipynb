{
  "nbformat": 4,
  "nbformat_minor": 0,
  "metadata": {
    "colab": {
      "name": "ca 20202 114 Freckles.ipynb",
      "provenance": [],
      "authorship_tag": "ABX9TyPtNco8Vi7Z3q/vLQWCA1Sn",
      "include_colab_link": true
    },
    "kernelspec": {
      "name": "python3",
      "display_name": "Python 3"
    }
  },
  "cells": [
    {
      "cell_type": "markdown",
      "metadata": {
        "id": "view-in-github",
        "colab_type": "text"
      },
      "source": [
        "<a href=\"https://colab.research.google.com/github/pcsilcan/ca/blob/master/20202/ca_20202_114_Freckles.ipynb\" target=\"_parent\"><img src=\"https://colab.research.google.com/assets/colab-badge.svg\" alt=\"Open In Colab\"/></a>"
      ]
    },
    {
      "cell_type": "code",
      "metadata": {
        "id": "IKMyYAUyzV61"
      },
      "source": [
        "import math\n",
        "import heapq as hq\n",
        "\n",
        "def prim(G):\n",
        "    n = len(G)\n",
        "    visited = [False]*n\n",
        "    path = [None]*n\n",
        "    dist = [math.inf]*n\n",
        "\n",
        "    q = []\n",
        "    dist[0] = 0\n",
        "    hq.heappush(q, (0, 0))\n",
        "    while len(q) > 0:\n",
        "        _, u = hq.heappop(q)\n",
        "        if visited[u]: continue\n",
        "        visited[u] = True\n",
        "        for v in range(n):\n",
        "            w = G[u][v]\n",
        "            if not visited[v] and w < dist[v]:\n",
        "                dist[v] = w\n",
        "                path[v] = u\n",
        "                hq.heappush(q, (w, v))\n",
        "\n",
        "    return sum(dist)"
      ],
      "execution_count": null,
      "outputs": []
    },
    {
      "cell_type": "code",
      "metadata": {
        "id": "oZ04BXDQ2nbn",
        "outputId": "f2a4a6fc-ad3a-4252-b756-0b857fc2ed16",
        "colab": {
          "base_uri": "https://localhost:8080/"
        }
      },
      "source": [
        "%%writefile 1.in\n",
        "1\n",
        "\n",
        "3\n",
        "1.0 1.0\n",
        "2.0 2.0\n",
        "2.0 4.0"
      ],
      "execution_count": null,
      "outputs": [
        {
          "output_type": "stream",
          "text": [
            "Writing 1.in\n"
          ],
          "name": "stdout"
        }
      ]
    },
    {
      "cell_type": "code",
      "metadata": {
        "id": "XKO48CEg2JMJ",
        "outputId": "d2209e13-4bbb-45ab-d0a9-0c602197ce86",
        "colab": {
          "base_uri": "https://localhost:8080/"
        }
      },
      "source": [
        "with open(\"1.in\") as f:\n",
        "    T = int(f.readline().strip())\n",
        "    f.readline()\n",
        "    while T > 0:\n",
        "        T -= 1\n",
        "        n = int(f.readline().strip())\n",
        "        G = [[0]*n for _ in range(n)]\n",
        "        p = [None]*n\n",
        "        for i in range(n):\n",
        "            p[i] = tuple(float(v) for v in f.readline().strip().split())\n",
        "\n",
        "        for u in range(n):\n",
        "            for v in range(n):\n",
        "                G[u][v] = math.sqrt((p[u][0]-p[v][0])**2 + (p[u][1]-p[v][1])**2)\n",
        "\n",
        "        print(\"%.2f\"%prim(G))"
      ],
      "execution_count": null,
      "outputs": [
        {
          "output_type": "stream",
          "text": [
            "3.41\n"
          ],
          "name": "stdout"
        }
      ]
    },
    {
      "cell_type": "code",
      "metadata": {
        "id": "PxojZ3V24a_O"
      },
      "source": [
        ""
      ],
      "execution_count": null,
      "outputs": []
    }
  ]
}