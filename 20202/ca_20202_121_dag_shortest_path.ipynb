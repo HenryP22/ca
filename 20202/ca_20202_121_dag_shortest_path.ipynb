{
  "nbformat": 4,
  "nbformat_minor": 0,
  "metadata": {
    "colab": {
      "name": "ca 20202 121 dag shortest path.ipynb",
      "provenance": [],
      "collapsed_sections": [],
      "authorship_tag": "ABX9TyOhU5tnuY7St6t36PjGmc8P",
      "include_colab_link": true
    },
    "kernelspec": {
      "name": "python3",
      "display_name": "Python 3"
    }
  },
  "cells": [
    {
      "cell_type": "markdown",
      "metadata": {
        "id": "view-in-github",
        "colab_type": "text"
      },
      "source": [
        "<a href=\"https://colab.research.google.com/github/pcsilcan/ca/blob/master/20202/ca_20202_121_dag_shortest_path.ipynb\" target=\"_parent\"><img src=\"https://colab.research.google.com/assets/colab-badge.svg\" alt=\"Open In Colab\"/></a>"
      ]
    },
    {
      "cell_type": "markdown",
      "metadata": {
        "id": "NCG64wE5xoh0"
      },
      "source": [
        "# DAG shortest path\n",
        "\n",
        "Basado en Toposort y solo sirve para DAGs"
      ]
    },
    {
      "cell_type": "code",
      "metadata": {
        "id": "1OU2bGtUx3bf"
      },
      "source": [
        "import math"
      ],
      "execution_count": 2,
      "outputs": []
    },
    {
      "cell_type": "code",
      "metadata": {
        "id": "AV3YLxZWxe1m"
      },
      "source": [
        "def initSingleSource(G, s):\n",
        "    n = len(G)\n",
        "    dist = [math.inf]*n\n",
        "    path = [None]*n\n",
        "    dist[s] = 0\n",
        "\n",
        "    return dist, path"
      ],
      "execution_count": 1,
      "outputs": []
    },
    {
      "cell_type": "code",
      "metadata": {
        "id": "QrLJeoUZyBK0"
      },
      "source": [
        "def topoSort(G):\n",
        "    def dfsVisit(u):\n",
        "        if visited[u]: return\n",
        "        visited[u] = True\n",
        "        for v, _ in G[u]:\n",
        "            if not visited[v]:\n",
        "                dfsVisit(v)\n",
        "        order.append(u)\n",
        "\n",
        "    n = len(G)\n",
        "    visited = [False]*n\n",
        "    order = []\n",
        "\n",
        "    for u in range(n):\n",
        "        if not visited[u]:\n",
        "            dfsVisit(u)\n",
        "\n",
        "    return list(reversed(order))"
      ],
      "execution_count": 3,
      "outputs": []
    },
    {
      "cell_type": "code",
      "metadata": {
        "id": "Xjhr5kTS16eS"
      },
      "source": [
        "def relax(u, v, w, dist, path):\n",
        "    f = dist[u] + w\n",
        "    if dist[v] > f:\n",
        "        dist[v] = f\n",
        "        path[v] = u"
      ],
      "execution_count": 10,
      "outputs": []
    },
    {
      "cell_type": "code",
      "metadata": {
        "id": "JiazzuhV1ghL"
      },
      "source": [
        "def dagShortestPath(G, s):\n",
        "    topoOrder = topoSort(G)\n",
        "    dist, path = initSingleSource(G, s)\n",
        "    for u in topoOrder:\n",
        "        for v, w in G[u]:\n",
        "            relax(u, v, w, dist, path)\n",
        "\n",
        "    return dist, path"
      ],
      "execution_count": 11,
      "outputs": []
    },
    {
      "cell_type": "code",
      "metadata": {
        "id": "BLyKnW6t0SHU"
      },
      "source": [
        "G = [[],\n",
        "     [(6, 3)],\n",
        "     [(0, 1)],\n",
        "     [(1, 8), (4, 3), (5, 2), (7, 7)],\n",
        "     [(2, 9), (7, 3)],\n",
        "     [(1, 2)],\n",
        "     [],\n",
        "     [(0, 2), (6, 6)]]"
      ],
      "execution_count": 18,
      "outputs": []
    },
    {
      "cell_type": "code",
      "metadata": {
        "id": "7mIHPC0y2Jyy",
        "outputId": "34fd8662-f10f-43fa-eeb6-116ada6ecae5",
        "colab": {
          "base_uri": "https://localhost:8080/"
        }
      },
      "source": [
        "dagShortestPath(G, 3)"
      ],
      "execution_count": 20,
      "outputs": [
        {
          "output_type": "execute_result",
          "data": {
            "text/plain": [
              "([8, 4, 12, 0, 3, 2, 7, 6], [7, 5, 4, None, 3, 3, 1, 4])"
            ]
          },
          "metadata": {
            "tags": []
          },
          "execution_count": 20
        }
      ]
    },
    {
      "cell_type": "code",
      "metadata": {
        "id": "CML4c1tS0mFH"
      },
      "source": [
        "import graphviz as gv\n",
        "\n",
        "def drawAdjListGraph(G):\n",
        "    dot = gv.Digraph(strict=True)\n",
        "    n = len(G)\n",
        "    for u in range(n):\n",
        "        for v, w in G[u]:\n",
        "            dot.edge(str(u), str(v), label=str(w))\n",
        "    \n",
        "    dot.graph_attr['rankdir'] = 'LR'\n",
        "    return dot"
      ],
      "execution_count": 5,
      "outputs": []
    },
    {
      "cell_type": "code",
      "metadata": {
        "id": "kWIx8bfZ06_Y",
        "outputId": "e3e6dae5-20fd-4f96-c19d-3242b362f03c",
        "colab": {
          "base_uri": "https://localhost:8080/",
          "height": 306
        }
      },
      "source": [
        "drawAdjListGraph(G)"
      ],
      "execution_count": 19,
      "outputs": [
        {
          "output_type": "execute_result",
          "data": {
            "text/plain": [
              "<graphviz.dot.Digraph at 0x7f49cd3fa6a0>"
            ],
            "image/svg+xml": "<?xml version=\"1.0\" encoding=\"UTF-8\" standalone=\"no\"?>\n<!DOCTYPE svg PUBLIC \"-//W3C//DTD SVG 1.1//EN\"\n \"http://www.w3.org/Graphics/SVG/1.1/DTD/svg11.dtd\">\n<!-- Generated by graphviz version 2.40.1 (20161225.0304)\n -->\n<!-- Title: %3 Pages: 1 -->\n<svg width=\"356pt\" height=\"214pt\"\n viewBox=\"0.00 0.00 356.00 214.00\" xmlns=\"http://www.w3.org/2000/svg\" xmlns:xlink=\"http://www.w3.org/1999/xlink\">\n<g id=\"graph0\" class=\"graph\" transform=\"scale(1 1) rotate(0) translate(4 210)\">\n<title>%3</title>\n<polygon fill=\"#ffffff\" stroke=\"transparent\" points=\"-4,4 -4,-210 352,-210 352,4 -4,4\"/>\n<!-- 1 -->\n<g id=\"node1\" class=\"node\">\n<title>1</title>\n<ellipse fill=\"none\" stroke=\"#000000\" cx=\"223\" cy=\"-137\" rx=\"27\" ry=\"18\"/>\n<text text-anchor=\"middle\" x=\"223\" y=\"-133.3\" font-family=\"Times,serif\" font-size=\"14.00\" fill=\"#000000\">1</text>\n</g>\n<!-- 6 -->\n<g id=\"node2\" class=\"node\">\n<title>6</title>\n<ellipse fill=\"none\" stroke=\"#000000\" cx=\"321\" cy=\"-111\" rx=\"27\" ry=\"18\"/>\n<text text-anchor=\"middle\" x=\"321\" y=\"-107.3\" font-family=\"Times,serif\" font-size=\"14.00\" fill=\"#000000\">6</text>\n</g>\n<!-- 1&#45;&gt;6 -->\n<g id=\"edge1\" class=\"edge\">\n<title>1&#45;&gt;6</title>\n<path fill=\"none\" stroke=\"#000000\" d=\"M248.2374,-130.3044C259.7828,-127.2413 273.6505,-123.5621 286.1685,-120.241\"/>\n<polygon fill=\"#000000\" stroke=\"#000000\" points=\"287.08,-123.6203 295.8481,-117.673 285.2849,-116.8544 287.08,-123.6203\"/>\n<text text-anchor=\"middle\" x=\"272\" y=\"-127.8\" font-family=\"Times,serif\" font-size=\"14.00\" fill=\"#000000\">3</text>\n</g>\n<!-- 2 -->\n<g id=\"node3\" class=\"node\">\n<title>2</title>\n<ellipse fill=\"none\" stroke=\"#000000\" cx=\"223\" cy=\"-18\" rx=\"27\" ry=\"18\"/>\n<text text-anchor=\"middle\" x=\"223\" y=\"-14.3\" font-family=\"Times,serif\" font-size=\"14.00\" fill=\"#000000\">2</text>\n</g>\n<!-- 0 -->\n<g id=\"node4\" class=\"node\">\n<title>0</title>\n<ellipse fill=\"none\" stroke=\"#000000\" cx=\"321\" cy=\"-46\" rx=\"27\" ry=\"18\"/>\n<text text-anchor=\"middle\" x=\"321\" y=\"-42.3\" font-family=\"Times,serif\" font-size=\"14.00\" fill=\"#000000\">0</text>\n</g>\n<!-- 2&#45;&gt;0 -->\n<g id=\"edge2\" class=\"edge\">\n<title>2&#45;&gt;0</title>\n<path fill=\"none\" stroke=\"#000000\" d=\"M250.0751,-17.889C258.5109,-18.4243 267.7589,-19.6066 276,-22 281.5269,-23.6051 287.1482,-25.9423 292.4597,-28.5365\"/>\n<polygon fill=\"#000000\" stroke=\"#000000\" points=\"291.1238,-31.7896 301.5985,-33.3807 294.4022,-25.6048 291.1238,-31.7896\"/>\n<text text-anchor=\"middle\" x=\"272\" y=\"-25.8\" font-family=\"Times,serif\" font-size=\"14.00\" fill=\"#000000\">1</text>\n</g>\n<!-- 3 -->\n<g id=\"node5\" class=\"node\">\n<title>3</title>\n<ellipse fill=\"none\" stroke=\"#000000\" cx=\"27\" cy=\"-111\" rx=\"27\" ry=\"18\"/>\n<text text-anchor=\"middle\" x=\"27\" y=\"-107.3\" font-family=\"Times,serif\" font-size=\"14.00\" fill=\"#000000\">3</text>\n</g>\n<!-- 3&#45;&gt;1 -->\n<g id=\"edge3\" class=\"edge\">\n<title>3&#45;&gt;1</title>\n<path fill=\"none\" stroke=\"#000000\" d=\"M53.842,-114.5607C88.1501,-119.1118 147.7024,-127.0115 186.2158,-132.1205\"/>\n<polygon fill=\"#000000\" stroke=\"#000000\" points=\"186.1087,-135.6368 196.4822,-133.4823 187.0293,-128.6976 186.1087,-135.6368\"/>\n<text text-anchor=\"middle\" x=\"125\" y=\"-130.8\" font-family=\"Times,serif\" font-size=\"14.00\" fill=\"#000000\">8</text>\n</g>\n<!-- 4 -->\n<g id=\"node6\" class=\"node\">\n<title>4</title>\n<ellipse fill=\"none\" stroke=\"#000000\" cx=\"125\" cy=\"-32\" rx=\"27\" ry=\"18\"/>\n<text text-anchor=\"middle\" x=\"125\" y=\"-28.3\" font-family=\"Times,serif\" font-size=\"14.00\" fill=\"#000000\">4</text>\n</g>\n<!-- 3&#45;&gt;4 -->\n<g id=\"edge4\" class=\"edge\">\n<title>3&#45;&gt;4</title>\n<path fill=\"none\" stroke=\"#000000\" d=\"M38.0212,-94.2248C46.295,-82.6234 58.4863,-67.4535 72,-57 77.9749,-52.3781 84.9425,-48.3342 91.8241,-44.9218\"/>\n<polygon fill=\"#000000\" stroke=\"#000000\" points=\"93.4389,-48.0314 101.0538,-40.665 90.5072,-41.6749 93.4389,-48.0314\"/>\n<text text-anchor=\"middle\" x=\"76\" y=\"-60.8\" font-family=\"Times,serif\" font-size=\"14.00\" fill=\"#000000\">3</text>\n</g>\n<!-- 5 -->\n<g id=\"node7\" class=\"node\">\n<title>5</title>\n<ellipse fill=\"none\" stroke=\"#000000\" cx=\"125\" cy=\"-188\" rx=\"27\" ry=\"18\"/>\n<text text-anchor=\"middle\" x=\"125\" y=\"-184.3\" font-family=\"Times,serif\" font-size=\"14.00\" fill=\"#000000\">5</text>\n</g>\n<!-- 3&#45;&gt;5 -->\n<g id=\"edge5\" class=\"edge\">\n<title>3&#45;&gt;5</title>\n<path fill=\"none\" stroke=\"#000000\" d=\"M42.8522,-125.9121C51.2997,-133.6457 61.989,-143.1005 72,-151 79.9767,-157.2943 88.9411,-163.7648 97.1967,-169.4995\"/>\n<polygon fill=\"#000000\" stroke=\"#000000\" points=\"95.2448,-172.4048 105.4721,-175.171 99.202,-166.6307 95.2448,-172.4048\"/>\n<text text-anchor=\"middle\" x=\"76\" y=\"-159.8\" font-family=\"Times,serif\" font-size=\"14.00\" fill=\"#000000\">2</text>\n</g>\n<!-- 7 -->\n<g id=\"node8\" class=\"node\">\n<title>7</title>\n<ellipse fill=\"none\" stroke=\"#000000\" cx=\"223\" cy=\"-78\" rx=\"27\" ry=\"18\"/>\n<text text-anchor=\"middle\" x=\"223\" y=\"-74.3\" font-family=\"Times,serif\" font-size=\"14.00\" fill=\"#000000\">7</text>\n</g>\n<!-- 3&#45;&gt;7 -->\n<g id=\"edge6\" class=\"edge\">\n<title>3&#45;&gt;7</title>\n<path fill=\"none\" stroke=\"#000000\" d=\"M53.4334,-106.5495C87.7221,-100.7764 147.7117,-90.6761 186.3732,-84.1668\"/>\n<polygon fill=\"#000000\" stroke=\"#000000\" points=\"187.393,-87.5444 196.6731,-82.4326 186.2308,-80.6416 187.393,-87.5444\"/>\n<text text-anchor=\"middle\" x=\"125\" y=\"-101.8\" font-family=\"Times,serif\" font-size=\"14.00\" fill=\"#000000\">7</text>\n</g>\n<!-- 4&#45;&gt;2 -->\n<g id=\"edge7\" class=\"edge\">\n<title>4&#45;&gt;2</title>\n<path fill=\"none\" stroke=\"#000000\" d=\"M149.4979,-23.6633C156.0792,-21.7718 163.2459,-20.0211 170,-19 175.1015,-18.2287 180.5104,-17.7473 185.8474,-17.4658\"/>\n<polygon fill=\"#000000\" stroke=\"#000000\" points=\"186.038,-20.9616 195.9223,-17.1471 185.8166,-13.9651 186.038,-20.9616\"/>\n<text text-anchor=\"middle\" x=\"174\" y=\"-22.8\" font-family=\"Times,serif\" font-size=\"14.00\" fill=\"#000000\">9</text>\n</g>\n<!-- 4&#45;&gt;7 -->\n<g id=\"edge8\" class=\"edge\">\n<title>4&#45;&gt;7</title>\n<path fill=\"none\" stroke=\"#000000\" d=\"M147.2377,-42.4381C160.3941,-48.6136 177.2636,-56.5319 191.7433,-63.3285\"/>\n<polygon fill=\"#000000\" stroke=\"#000000\" points=\"190.3107,-66.5224 200.8503,-67.6032 193.2851,-60.1857 190.3107,-66.5224\"/>\n<text text-anchor=\"middle\" x=\"174\" y=\"-59.8\" font-family=\"Times,serif\" font-size=\"14.00\" fill=\"#000000\">3</text>\n</g>\n<!-- 5&#45;&gt;1 -->\n<g id=\"edge9\" class=\"edge\">\n<title>5&#45;&gt;1</title>\n<path fill=\"none\" stroke=\"#000000\" d=\"M146.7494,-176.6814C160.164,-169.7004 177.574,-160.6401 192.3707,-152.9397\"/>\n<polygon fill=\"#000000\" stroke=\"#000000\" points=\"194.3937,-155.8326 201.6486,-148.1114 191.1622,-149.6231 194.3937,-155.8326\"/>\n<text text-anchor=\"middle\" x=\"174\" y=\"-167.8\" font-family=\"Times,serif\" font-size=\"14.00\" fill=\"#000000\">2</text>\n</g>\n<!-- 7&#45;&gt;6 -->\n<g id=\"edge11\" class=\"edge\">\n<title>7&#45;&gt;6</title>\n<path fill=\"none\" stroke=\"#000000\" d=\"M247.2247,-86.1573C259.2393,-90.203 273.9506,-95.1569 287.0666,-99.5734\"/>\n<polygon fill=\"#000000\" stroke=\"#000000\" points=\"286.1202,-102.9478 296.7143,-102.8222 288.3542,-96.3138 286.1202,-102.9478\"/>\n<text text-anchor=\"middle\" x=\"272\" y=\"-98.8\" font-family=\"Times,serif\" font-size=\"14.00\" fill=\"#000000\">6</text>\n</g>\n<!-- 7&#45;&gt;0 -->\n<g id=\"edge10\" class=\"edge\">\n<title>7&#45;&gt;0</title>\n<path fill=\"none\" stroke=\"#000000\" d=\"M246.2209,-68.795C253.1808,-66.1536 260.8618,-63.3537 268,-61 273.7599,-59.1008 279.9188,-57.222 285.9254,-55.47\"/>\n<polygon fill=\"#000000\" stroke=\"#000000\" points=\"287.1341,-58.765 295.7932,-52.6601 285.2169,-52.0327 287.1341,-58.765\"/>\n<text text-anchor=\"middle\" x=\"272\" y=\"-64.8\" font-family=\"Times,serif\" font-size=\"14.00\" fill=\"#000000\">2</text>\n</g>\n</g>\n</svg>\n"
          },
          "metadata": {
            "tags": []
          },
          "execution_count": 19
        }
      ]
    },
    {
      "cell_type": "code",
      "metadata": {
        "id": "_oRnyVJr1AJg",
        "outputId": "e6f296db-aa12-43ed-d737-67bdacd9c7db",
        "colab": {
          "base_uri": "https://localhost:8080/"
        }
      },
      "source": [
        "topoSort(G)"
      ],
      "execution_count": 21,
      "outputs": [
        {
          "output_type": "execute_result",
          "data": {
            "text/plain": [
              "[3, 5, 4, 7, 2, 1, 6, 0]"
            ]
          },
          "metadata": {
            "tags": []
          },
          "execution_count": 21
        }
      ]
    },
    {
      "cell_type": "code",
      "metadata": {
        "id": "L-gEe0KK1NbJ"
      },
      "source": [
        ""
      ],
      "execution_count": null,
      "outputs": []
    }
  ]
}