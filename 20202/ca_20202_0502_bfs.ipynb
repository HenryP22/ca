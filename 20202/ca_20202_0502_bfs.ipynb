{
  "nbformat": 4,
  "nbformat_minor": 0,
  "metadata": {
    "colab": {
      "name": "ca 20202 0502 bfs.ipynb",
      "provenance": [],
      "collapsed_sections": [],
      "authorship_tag": "ABX9TyOmvZjZ4Pz82d3266R2AO+E",
      "include_colab_link": true
    },
    "kernelspec": {
      "name": "python3",
      "display_name": "Python 3"
    }
  },
  "cells": [
    {
      "cell_type": "markdown",
      "metadata": {
        "id": "view-in-github",
        "colab_type": "text"
      },
      "source": [
        "<a href=\"https://colab.research.google.com/github/pcsilcan/ca/blob/master/20202/ca_20202_0502_bfs.ipynb\" target=\"_parent\"><img src=\"https://colab.research.google.com/assets/colab-badge.svg\" alt=\"Open In Colab\"/></a>"
      ]
    },
    {
      "cell_type": "code",
      "metadata": {
        "id": "OguCS8H97JPh",
        "colab_type": "code",
        "colab": {}
      },
      "source": [
        "import math\n",
        "import networkx as nx\n",
        "from queue import Queue"
      ],
      "execution_count": 1,
      "outputs": []
    },
    {
      "cell_type": "code",
      "metadata": {
        "id": "dRuLJ5Fa5zsh",
        "colab_type": "code",
        "colab": {}
      },
      "source": [
        "def bfs(G, s):\n",
        "    n = len(G)\n",
        "    color = ['white']*n\n",
        "    d = [math.inf]*n\n",
        "    π = [None]*n\n",
        "    Q = Queue()\n",
        "\n",
        "    color[s] = 'gray'\n",
        "    d[s] = 0\n",
        "    Q.put(s)\n",
        "    while not Q.empty():\n",
        "        u = Q.get()\n",
        "        for v in G[u]:\n",
        "            if color[v] == 'white':\n",
        "                color[v] = 'gray'\n",
        "                d[v] = d[u] + 1\n",
        "                π[v] = u\n",
        "                Q.put(v)\n",
        "        color[u] = 'black'\n",
        "\n",
        "    return π, d, color"
      ],
      "execution_count": 2,
      "outputs": []
    },
    {
      "cell_type": "markdown",
      "metadata": {
        "id": "o59oVISI9YEM",
        "colab_type": "text"
      },
      "source": [
        "## Algunas funciones útiles copiadas de otro ejeplo"
      ]
    },
    {
      "cell_type": "code",
      "metadata": {
        "id": "wR45eAJE8uRU",
        "colab_type": "code",
        "colab": {}
      },
      "source": [
        "def readAL2(filename):\n",
        "    V = []\n",
        "    Vx = {}\n",
        "    with open(filename) as f:\n",
        "        lines = f.readlines()\n",
        "    u = 0\n",
        "    for line in lines:\n",
        "        V.append(line.strip().split(':')[0])\n",
        "        Vx[V[-1]] = u\n",
        "        u += 1\n",
        "    G = [None for _ in range(len(V))]\n",
        "    u = 0\n",
        "    for line in lines:\n",
        "        G[u] = [Vx[a] for a in line.strip().split(':')[1].strip().split()]\n",
        "        u += 1\n",
        "\n",
        "    return V, G, Vx\n",
        "\n",
        "def drawAL2(V, G):\n",
        "    gx = nx.Graph()\n",
        "    nv = len(G)\n",
        "    gx.add_nodes_from(V)\n",
        "    for u in range(nv):\n",
        "        for v in G[u]:\n",
        "            gx.add_edge(V[u], V[v])\n",
        "    nx.draw(gx,\n",
        "            with_labels=True,\n",
        "            node_color='orange',\n",
        "            alpha=0.90,\n",
        "            node_size=1000,\n",
        "            node_shape='o',\n",
        "            pos=nx.circular_layout(gx))"
      ],
      "execution_count": 3,
      "outputs": []
    },
    {
      "cell_type": "code",
      "metadata": {
        "id": "1TsDDF9X9dAa",
        "colab_type": "code",
        "colab": {
          "base_uri": "https://localhost:8080/",
          "height": 34
        },
        "outputId": "8706ea8b-3717-417c-d03a-b439653800bc"
      },
      "source": [
        "%%writefile graph.al2\n",
        "r: s v\n",
        "s: r w\n",
        "t: u w x\n",
        "u: t x y\n",
        "v: r\n",
        "w: s t x\n",
        "x: t u w y\n",
        "y: u x"
      ],
      "execution_count": 4,
      "outputs": [
        {
          "output_type": "stream",
          "text": [
            "Overwriting graph.al2\n"
          ],
          "name": "stdout"
        }
      ]
    },
    {
      "cell_type": "code",
      "metadata": {
        "id": "-vq_vhSr995M",
        "colab_type": "code",
        "colab": {
          "base_uri": "https://localhost:8080/",
          "height": 319
        },
        "outputId": "46f32679-03aa-4e76-b972-6f6a33d82062"
      },
      "source": [
        "V, G, Vx = readAL2('graph.al2')\n",
        "drawAL2(V, G)"
      ],
      "execution_count": 5,
      "outputs": [
        {
          "output_type": "display_data",
          "data": {
            "image/png": "[encoded data removed]",
            "text/plain": [
              "<Figure size 432x288 with 1 Axes>"
            ]
          },
          "metadata": {
            "tags": []
          }
        }
      ]
    },
    {
      "cell_type": "markdown",
      "metadata": {
        "id": "x9DltaZz_1rG",
        "colab_type": "text"
      },
      "source": [
        "u  |  π  |  d  |  color  \n",
        "---|-----|-----|-------\n",
        "r  |  s  |  1  | NEGROS\n",
        "s  |  N  |  0  | GRIS\n",
        "t  |  N  |  ∞  | BLANCO\n",
        "u  |  N  |  ∞  | NEGRO\n",
        "v  |  r  |  2  | GRIS\n",
        "w  |  s  |  1  | GRIS\n",
        "x  |  N  |  ∞  | BLANCO\n",
        "y  |  N  |  ∞  | BLANCO\n",
        "\n",
        "\n",
        "Q = w, v\n",
        "\n",
        "u = r"
      ]
    },
    {
      "cell_type": "code",
      "metadata": {
        "id": "asvGzRYL-Gha",
        "colab_type": "code",
        "colab": {
          "base_uri": "https://localhost:8080/",
          "height": 67
        },
        "outputId": "711598e9-04b0-4119-da19-ae5c97a826df"
      },
      "source": [
        "π, d, color = bfs(G, Vx['s'])\n",
        "print({V[u]:V[v] if v != None else None for u,v in enumerate(π)})\n",
        "print(d)\n",
        "print(color)"
      ],
      "execution_count": 9,
      "outputs": [
        {
          "output_type": "stream",
          "text": [
            "{'r': 's', 's': None, 't': 'w', 'u': 't', 'v': 'r', 'w': 's', 'x': 'w', 'y': 'x'}\n",
            "[1, 0, 2, 3, 2, 1, 2, 3]\n",
            "['black', 'black', 'black', 'black', 'black', 'black', 'black', 'black']\n"
          ],
          "name": "stdout"
        }
      ]
    },
    {
      "cell_type": "code",
      "metadata": {
        "id": "zMnFhvccjdbP",
        "colab_type": "code",
        "colab": {}
      },
      "source": [
        ""
      ],
      "execution_count": null,
      "outputs": []
    }
  ]
}