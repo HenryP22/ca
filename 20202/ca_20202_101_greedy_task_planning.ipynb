{
  "nbformat": 4,
  "nbformat_minor": 0,
  "metadata": {
    "colab": {
      "name": "ca 20202 101 greedy task planning.ipynb",
      "provenance": [],
      "authorship_tag": "ABX9TyMFye0pF9yt0tYaNExP/Svn",
      "include_colab_link": true
    },
    "kernelspec": {
      "name": "python3",
      "display_name": "Python 3"
    }
  },
  "cells": [
    {
      "cell_type": "markdown",
      "metadata": {
        "id": "view-in-github",
        "colab_type": "text"
      },
      "source": [
        "<a href=\"https://colab.research.google.com/github/pcsilcan/ca/blob/master/20202/ca_20202_101_greedy_task_planning.ipynb\" target=\"_parent\"><img src=\"https://colab.research.google.com/assets/colab-badge.svg\" alt=\"Open In Colab\"/></a>"
      ]
    },
    {
      "cell_type": "markdown",
      "metadata": {
        "id": "VU5PzaDBD9qR"
      },
      "source": [
        "# Greedy algorithms\n",
        "\n",
        "## Activities planning"
      ]
    },
    {
      "cell_type": "code",
      "metadata": {
        "id": "LhysHnGkEKEf"
      },
      "source": [
        "import numpy as np\n",
        "from math import inf"
      ],
      "execution_count": 1,
      "outputs": []
    },
    {
      "cell_type": "code",
      "metadata": {
        "id": "CQ1O7Z2YD84E"
      },
      "source": [
        "#    0   1   2   3   4   5   6   7   8   9  10  11  12\n",
        "#    \n",
        "s = [0,  1,  3,  0,  5,  3,  5,  6,  8,  8,  2, 12, inf]\n",
        "f = [0,  4,  5,  6,  7,  9,  9, 10, 11, 12, 14, 16, 0]"
      ],
      "execution_count": 2,
      "outputs": []
    },
    {
      "cell_type": "code",
      "metadata": {
        "id": "b7gY6IJZEx7X"
      },
      "source": [
        "def solve(s, f, i, j):\n",
        "    m = i + 1\n",
        "    while s[m] < f[i]:\n",
        "        m = m + 1\n",
        "    if m <= j:\n",
        "        return [m] + solve(s, f, m, j)\n",
        "    else:\n",
        "        return []"
      ],
      "execution_count": 3,
      "outputs": []
    },
    {
      "cell_type": "code",
      "metadata": {
        "id": "Z63bEGrXGs5J",
        "outputId": "da85945e-80f9-4e58-9d9d-e3c54a8ff42b",
        "colab": {
          "base_uri": "https://localhost:8080/",
          "height": 35
        }
      },
      "source": [
        "solve(s, f, 0, 11)"
      ],
      "execution_count": 4,
      "outputs": [
        {
          "output_type": "execute_result",
          "data": {
            "text/plain": [
              "[1, 4, 8, 11]"
            ]
          },
          "metadata": {
            "tags": []
          },
          "execution_count": 4
        }
      ]
    },
    {
      "cell_type": "code",
      "metadata": {
        "id": "En7DlJRdGu1x"
      },
      "source": [
        "def solve(s, f):\n",
        "    i = 0\n",
        "    j = len(s) - 1\n",
        "    A = []\n",
        "    for m in range(1, j):\n",
        "        if s[m] < f[i]:\n",
        "            continue\n",
        "        A.append(m)\n",
        "        i = m\n",
        "    return A"
      ],
      "execution_count": 5,
      "outputs": []
    },
    {
      "cell_type": "code",
      "metadata": {
        "id": "qw-8DVxEJpfh",
        "outputId": "7746a2eb-506d-4e6d-e166-11c23263c42a",
        "colab": {
          "base_uri": "https://localhost:8080/",
          "height": 35
        }
      },
      "source": [
        "solve(s, f)"
      ],
      "execution_count": 6,
      "outputs": [
        {
          "output_type": "execute_result",
          "data": {
            "text/plain": [
              "[1, 4, 8, 11]"
            ]
          },
          "metadata": {
            "tags": []
          },
          "execution_count": 6
        }
      ]
    },
    {
      "cell_type": "code",
      "metadata": {
        "id": "kxx6f3liJr58"
      },
      "source": [
        ""
      ],
      "execution_count": 6,
      "outputs": []
    }
  ]
}