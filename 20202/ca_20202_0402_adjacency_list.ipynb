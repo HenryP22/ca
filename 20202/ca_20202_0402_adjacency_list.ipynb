{
  "nbformat": 4,
  "nbformat_minor": 0,
  "metadata": {
    "colab": {
      "name": "ca 20202 0402 adjacency list.ipynb",
      "provenance": [],
      "authorship_tag": "ABX9TyNEBLyL27MGp8w3DbUsk27s",
      "include_colab_link": true
    },
    "kernelspec": {
      "name": "python3",
      "display_name": "Python 3"
    }
  },
  "cells": [
    {
      "cell_type": "markdown",
      "metadata": {
        "id": "view-in-github",
        "colab_type": "text"
      },
      "source": [
        "<a href=\"https://colab.research.google.com/github/pcsilcan/ca/blob/master/20202/ca_20202_0402_adjacency_list.ipynb\" target=\"_parent\"><img src=\"https://colab.research.google.com/assets/colab-badge.svg\" alt=\"Open In Colab\"/></a>"
      ]
    },
    {
      "cell_type": "code",
      "metadata": {
        "id": "Dc13wIccyY7Z",
        "colab_type": "code",
        "colab": {}
      },
      "source": [
        "import networkx as nx"
      ],
      "execution_count": 1,
      "outputs": []
    },
    {
      "cell_type": "code",
      "metadata": {
        "id": "UB5b30xeyggy",
        "colab_type": "code",
        "colab": {}
      },
      "source": [
        "def drawAL1(G):\n",
        "    gx = nx.Graph()\n",
        "    nv = len(G)\n",
        "    gx.add_nodes_from([u for u in range(nv)])\n",
        "    for u in range(nv):\n",
        "        for v in G[u]:\n",
        "            gx.add_edge(u, v)\n",
        "    nx.draw(gx,\n",
        "            with_labels=True,\n",
        "            node_color='orange',\n",
        "            alpha=0.90,\n",
        "            node_size=1000,\n",
        "            node_shape='o')"
      ],
      "execution_count": 14,
      "outputs": []
    },
    {
      "cell_type": "code",
      "metadata": {
        "id": "5LvGvF1fynyM",
        "colab_type": "code",
        "colab": {}
      },
      "source": [
        "G = [[1, 3],\n",
        "     [0, 2, 4],\n",
        "     [1, 3],\n",
        "     [0, 2, 4],\n",
        "     [1, 3]]"
      ],
      "execution_count": 15,
      "outputs": []
    },
    {
      "cell_type": "code",
      "metadata": {
        "id": "PDr30ejTy_GO",
        "colab_type": "code",
        "colab": {
          "base_uri": "https://localhost:8080/",
          "height": 319
        },
        "outputId": "68fde02a-8980-4486-fec0-152edef51545"
      },
      "source": [
        "drawAL1(G)"
      ],
      "execution_count": 16,
      "outputs": [
        {
          "output_type": "display_data",
          "data": {
            "image/png": "[encoded data removed]",
            "text/plain": [
              "<Figure size 432x288 with 1 Axes>"
            ]
          },
          "metadata": {
            "tags": []
          }
        }
      ]
    },
    {
      "cell_type": "code",
      "metadata": {
        "id": "zLzNWv36zY5x",
        "colab_type": "code",
        "colab": {
          "base_uri": "https://localhost:8080/",
          "height": 34
        },
        "outputId": "68405e8b-ef2c-4864-f708-1f612533e386"
      },
      "source": [
        "%%writefile graph.al1\n",
        "1 3\n",
        "0 2 4\n",
        "1 3\n",
        "0 2 4\n",
        "1 3"
      ],
      "execution_count": 20,
      "outputs": [
        {
          "output_type": "stream",
          "text": [
            "Overwriting graph.al1\n"
          ],
          "name": "stdout"
        }
      ]
    },
    {
      "cell_type": "code",
      "metadata": {
        "id": "VxMHiFUwz1A-",
        "colab_type": "code",
        "colab": {}
      },
      "source": [
        "def readAL1(filename):\n",
        "    G = []\n",
        "    with open(filename) as f:\n",
        "        for line in f:\n",
        "            G.append([int(u) for u in line.strip().split()])\n",
        "    return G"
      ],
      "execution_count": 21,
      "outputs": []
    },
    {
      "cell_type": "code",
      "metadata": {
        "id": "HXrXtM9n0PSR",
        "colab_type": "code",
        "colab": {
          "base_uri": "https://localhost:8080/",
          "height": 34
        },
        "outputId": "4b4cf15d-12b9-4cdc-b9d8-8c566d3a68e1"
      },
      "source": [
        "readAL1('graph.al1')"
      ],
      "execution_count": 22,
      "outputs": [
        {
          "output_type": "execute_result",
          "data": {
            "text/plain": [
              "[[1, 3], [0, 2, 4], [], [0, 2, 4], [1, 3]]"
            ]
          },
          "metadata": {
            "tags": []
          },
          "execution_count": 22
        }
      ]
    },
    {
      "cell_type": "code",
      "metadata": {
        "id": "-tK52LmM0RHy",
        "colab_type": "code",
        "colab": {
          "base_uri": "https://localhost:8080/",
          "height": 34
        },
        "outputId": "4e70ac2d-418a-4606-ae80-6a7d987d1747"
      },
      "source": [
        "%%writefile graph.al2\n",
        "Amigo: Batman Dedo\n",
        "Batman: Amigo Casa Enano\n",
        "Casa: Batman Dedo\n",
        "Dedo: Amigo Casa Enano\n",
        "Enano: Batman Dedo"
      ],
      "execution_count": 51,
      "outputs": [
        {
          "output_type": "stream",
          "text": [
            "Overwriting graph.al2\n"
          ],
          "name": "stdout"
        }
      ]
    },
    {
      "cell_type": "code",
      "metadata": {
        "id": "chQgu-211Knj",
        "colab_type": "code",
        "colab": {}
      },
      "source": [
        "def readAL2(filename):\n",
        "    V = []\n",
        "    Vx = {}\n",
        "    with open(filename) as f:\n",
        "        lines = f.readlines()\n",
        "    u = 0\n",
        "    for line in lines:\n",
        "        V.append(line.strip().split(':')[0])\n",
        "        Vx[V[-1]] = u\n",
        "        u += 1\n",
        "    G = [None for _ in range(len(V))]\n",
        "    u = 0\n",
        "    for line in lines:\n",
        "        G[u] = [Vx[a] for a in line.strip().split(':')[1].strip().split()]\n",
        "        u += 1\n",
        "\n",
        "    return V, G, Vx"
      ],
      "execution_count": 48,
      "outputs": []
    },
    {
      "cell_type": "code",
      "metadata": {
        "id": "AmdSeuGj1srz",
        "colab_type": "code",
        "colab": {
          "base_uri": "https://localhost:8080/",
          "height": 67
        },
        "outputId": "eedc2f32-3a0a-4c0e-e41f-31bfe7b469b3"
      },
      "source": [
        "V, G, Vx = readAL2('graph.al2')\n",
        "print(V)\n",
        "print(Vx)\n",
        "G"
      ],
      "execution_count": 50,
      "outputs": [
        {
          "output_type": "stream",
          "text": [
            "['Aamigo', 'Batman', 'Casa', 'Dedo', 'Enano']\n",
            "{'Aamigo': 0, 'Batman': 1, 'Casa': 2, 'Dedo': 3, 'Enano': 4}\n"
          ],
          "name": "stdout"
        },
        {
          "output_type": "execute_result",
          "data": {
            "text/plain": [
              "[[1, 3], [0, 2, 4], [1, 3], [0, 2, 4], [1, 3]]"
            ]
          },
          "metadata": {
            "tags": []
          },
          "execution_count": 50
        }
      ]
    },
    {
      "cell_type": "code",
      "metadata": {
        "id": "qRBPVWCc1wAT",
        "colab_type": "code",
        "colab": {}
      },
      "source": [
        "def drawAL2(V, G):\n",
        "    gx = nx.Graph()\n",
        "    nv = len(G)\n",
        "    gx.add_nodes_from(V)\n",
        "    for u in range(nv):\n",
        "        for v in G[u]:\n",
        "            gx.add_edge(V[u], V[v])\n",
        "    nx.draw(gx,\n",
        "            with_labels=True,\n",
        "            node_color='orange',\n",
        "            alpha=0.90,\n",
        "            node_size=1000,\n",
        "            node_shape='o')"
      ],
      "execution_count": 52,
      "outputs": []
    },
    {
      "cell_type": "code",
      "metadata": {
        "id": "dqkGu6pX5PK-",
        "colab_type": "code",
        "colab": {
          "base_uri": "https://localhost:8080/",
          "height": 319
        },
        "outputId": "4e1cc73b-af09-47ca-ba39-fb060c9433e9"
      },
      "source": [
        "drawAL2(V, G)"
      ],
      "execution_count": 53,
      "outputs": [
        {
          "output_type": "display_data",
          "data": {
            "image/png": "[encoded data removed]",
            "text/plain": [
              "<Figure size 432x288 with 1 Axes>"
            ]
          },
          "metadata": {
            "tags": []
          }
        }
      ]
    },
    {
      "cell_type": "code",
      "metadata": {
        "id": "akedfMYG5Rwg",
        "colab_type": "code",
        "colab": {}
      },
      "source": [
        ""
      ],
      "execution_count": null,
      "outputs": []
    }
  ]
}