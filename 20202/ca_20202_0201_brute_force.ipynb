{
  "nbformat": 4,
  "nbformat_minor": 0,
  "metadata": {
    "colab": {
      "name": "ca 20202 0201 brute force.ipynb",
      "provenance": [],
      "authorship_tag": "ABX9TyNQ1u9hlePOiNc87I45tMJc",
      "include_colab_link": true
    },
    "kernelspec": {
      "name": "python3",
      "display_name": "Python 3"
    }
  },
  "cells": [
    {
      "cell_type": "markdown",
      "metadata": {
        "id": "view-in-github",
        "colab_type": "text"
      },
      "source": [
        "<a href=\"https://colab.research.google.com/github/pcsilcan/ca/blob/master/20202/ca_20202_0201_brute_force.ipynb\" target=\"_parent\"><img src=\"https://colab.research.google.com/assets/colab-badge.svg\" alt=\"Open In Colab\"/></a>"
      ]
    },
    {
      "cell_type": "markdown",
      "metadata": {
        "id": "UFIUColdsurb",
        "colab_type": "text"
      },
      "source": [
        "# Fuerza Bruta 💪"
      ]
    },
    {
      "cell_type": "code",
      "metadata": {
        "id": "4XnfOobLtL12",
        "colab_type": "code",
        "colab": {}
      },
      "source": [
        "import random as rnd\n",
        "import itertools as it\n",
        "import matplotlib.pyplot as plt"
      ],
      "execution_count": 1,
      "outputs": []
    },
    {
      "cell_type": "markdown",
      "metadata": {
        "id": "zVzSi--C5U_o",
        "colab_type": "text"
      },
      "source": [
        "# Complexity: $O(n^{m})$\n",
        "* n es la longitud del alfabeto\n",
        "* m es la longitud del password"
      ]
    },
    {
      "cell_type": "code",
      "metadata": {
        "id": "auFBMDIHtN0Z",
        "colab_type": "code",
        "colab": {
          "base_uri": "https://localhost:8080/",
          "height": 34
        },
        "outputId": "f188d881-2f03-4ed1-ff18-d65a974602b5"
      },
      "source": [
        "n = 3\n",
        "alphabet = [chr(i + 97) for i in range(n)]\n",
        "print(alphabet)\n",
        "m = 6\n",
        "savedPwd = ''"
      ],
      "execution_count": 2,
      "outputs": [
        {
          "output_type": "stream",
          "text": [
            "['a', 'b', 'c']\n"
          ],
          "name": "stdout"
        }
      ]
    },
    {
      "cell_type": "code",
      "metadata": {
        "id": "KbJ6Y9TXsPO8",
        "colab_type": "code",
        "colab": {}
      },
      "source": [
        "def crackPassword(alphabet, n):\n",
        "    savedPwd = ''.join([rnd.choice(alphabet) for _ in range(m)])\n",
        "    for pwd in it.product(alphabet, repeat=n):\n",
        "        if savedPwd == ''.join(pwd):\n",
        "            return True\n",
        "    return False"
      ],
      "execution_count": 3,
      "outputs": []
    },
    {
      "cell_type": "code",
      "metadata": {
        "id": "sjQurLBVwcJU",
        "colab_type": "code",
        "colab": {
          "base_uri": "https://localhost:8080/",
          "height": 188
        },
        "outputId": "76f4fe8a-c9a6-4032-c687-4869079df940"
      },
      "source": [
        "tiempos = []\n",
        "for i in range(2, 10):\n",
        "    t = %timeit -o crackPassword(alphabet, i)\n",
        "    tiempos.append(t.best)\n",
        "#print(tiempos)"
      ],
      "execution_count": 4,
      "outputs": [
        {
          "output_type": "stream",
          "text": [
            "The slowest run took 7.58 times longer than the fastest. This could mean that an intermediate result is being cached.\n",
            "100000 loops, best of 3: 3.09 µs per loop\n",
            "100000 loops, best of 3: 4.97 µs per loop\n",
            "100000 loops, best of 3: 9.74 µs per loop\n",
            "10000 loops, best of 3: 23.8 µs per loop\n",
            "10000 loops, best of 3: 66.5 µs per loop\n",
            "1000 loops, best of 3: 195 µs per loop\n",
            "1000 loops, best of 3: 620 µs per loop\n",
            "1000 loops, best of 3: 1.96 ms per loop\n"
          ],
          "name": "stdout"
        }
      ]
    },
    {
      "cell_type": "code",
      "metadata": {
        "id": "FobMShRkxXiP",
        "colab_type": "code",
        "colab": {
          "base_uri": "https://localhost:8080/",
          "height": 283
        },
        "outputId": "0c928d2b-4184-4e07-9d93-961fdbbafb2c"
      },
      "source": [
        "x=list(range(2, 10))\n",
        "plt.title('Ayayay vs Tiempo ()')\n",
        "plt.plot(x,tiempos)\n",
        "plt.xticks(rotation=45)\n",
        "plt.show()"
      ],
      "execution_count": 5,
      "outputs": [
        {
          "output_type": "display_data",
          "data": {
            "image/png": "[encoded data removed]",
            "text/plain": [
              "<Figure size 432x288 with 1 Axes>"
            ]
          },
          "metadata": {
            "tags": [],
            "needs_background": "light"
          }
        }
      ]
    },
    {
      "cell_type": "markdown",
      "metadata": {
        "id": "qv80Q6u-59vv",
        "colab_type": "text"
      },
      "source": [
        "## Más ejemplos / ejercicios\n",
        "\n",
        "* Burbuja\n",
        "* Búsqueda secuencial de un elemento en un arreglo\n",
        "* etc."
      ]
    },
    {
      "cell_type": "code",
      "metadata": {
        "id": "cCWx0EzK1Hw2",
        "colab_type": "code",
        "colab": {}
      },
      "source": [
        ""
      ],
      "execution_count": 5,
      "outputs": []
    }
  ]
}