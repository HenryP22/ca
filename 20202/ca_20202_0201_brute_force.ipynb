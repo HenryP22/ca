{
  "nbformat": 4,
  "nbformat_minor": 0,
  "metadata": {
    "colab": {
      "name": "ca 20202 0201 brute force.ipynb",
      "provenance": [],
      "authorship_tag": "ABX9TyPxFBJNk7kXCxCbWmy4ummQ",
      "include_colab_link": true
    },
    "kernelspec": {
      "name": "python3",
      "display_name": "Python 3"
    }
  },
  "cells": [
    {
      "cell_type": "markdown",
      "metadata": {
        "id": "view-in-github",
        "colab_type": "text"
      },
      "source": [
        "<a href=\"https://colab.research.google.com/github/pcsilcan/ca/blob/master/20202/ca_20202_0201_brute_force.ipynb\" target=\"_parent\"><img src=\"https://colab.research.google.com/assets/colab-badge.svg\" alt=\"Open In Colab\"/></a>"
      ]
    },
    {
      "cell_type": "markdown",
      "metadata": {
        "id": "UFIUColdsurb",
        "colab_type": "text"
      },
      "source": [
        "# Fuerza Bruta 💪"
      ]
    },
    {
      "cell_type": "code",
      "metadata": {
        "id": "4XnfOobLtL12",
        "colab_type": "code",
        "colab": {}
      },
      "source": [
        "import random as rnd\n",
        "import itertools as it\n",
        "import matplotlib.pyplot as plt"
      ],
      "execution_count": 1,
      "outputs": []
    },
    {
      "cell_type": "code",
      "metadata": {
        "id": "auFBMDIHtN0Z",
        "colab_type": "code",
        "colab": {
          "base_uri": "https://localhost:8080/",
          "height": 34
        },
        "outputId": "c14bc2bc-04c3-40ee-9edd-2709e341ef13"
      },
      "source": [
        "alphabet = [chr(i + 97) for i in range(3)]\n",
        "print(alphabet)\n",
        "n = 10\n",
        "savedPwd = ''"
      ],
      "execution_count": 34,
      "outputs": [
        {
          "output_type": "stream",
          "text": [
            "['a', 'b', 'c']\n"
          ],
          "name": "stdout"
        }
      ]
    },
    {
      "cell_type": "code",
      "metadata": {
        "id": "KbJ6Y9TXsPO8",
        "colab_type": "code",
        "colab": {}
      },
      "source": [
        "def crackPassword(alphabet, n):\n",
        "    savedPwd = ''.join([rnd.choice(alphabet) for _ in range(n)])\n",
        "    for pwd in it.product(alphabet, repeat=n):\n",
        "        if savedPwd == inputPwd:\n",
        "            return True\n",
        "    return False"
      ],
      "execution_count": 12,
      "outputs": []
    },
    {
      "cell_type": "code",
      "metadata": {
        "id": "sjQurLBVwcJU",
        "colab_type": "code",
        "colab": {
          "base_uri": "https://localhost:8080/",
          "height": 205
        },
        "outputId": "30003201-71f1-4203-936f-58da54d5c492"
      },
      "source": [
        "tiempos = []\n",
        "for i in range(2, 10):\n",
        "    t = %timeit -o crackPassword(alphabet, i)\n",
        "    tiempos.append(t.best)\n",
        "#print(tiempos)"
      ],
      "execution_count": 45,
      "outputs": [
        {
          "output_type": "stream",
          "text": [
            "The slowest run took 6.01 times longer than the fastest. This could mean that an intermediate result is being cached.\n",
            "100000 loops, best of 3: 2.22 µs per loop\n",
            "100000 loops, best of 3: 5.78 µs per loop\n",
            "100000 loops, best of 3: 17.3 µs per loop\n",
            "10000 loops, best of 3: 52.5 µs per loop\n",
            "10000 loops, best of 3: 164 µs per loop\n",
            "1000 loops, best of 3: 497 µs per loop\n",
            "1000 loops, best of 3: 1.66 ms per loop\n",
            "100 loops, best of 3: 5.01 ms per loop\n",
            "[2.21787329000108e-06, 5.777644079998936e-06, 1.7333303609998438e-05, 5.249937139997201e-05, 0.00016375202590002117, 0.0004970693840000422, 0.0016645503810000263, 0.005006986379999035]\n"
          ],
          "name": "stdout"
        }
      ]
    },
    {
      "cell_type": "code",
      "metadata": {
        "id": "FobMShRkxXiP",
        "colab_type": "code",
        "colab": {
          "base_uri": "https://localhost:8080/",
          "height": 283
        },
        "outputId": "5725f18a-33ae-41ac-8cb7-f9cc1108ab94"
      },
      "source": [
        "x=list(range(2, 10))\n",
        "plt.title('Ayayay vs Tiempo ()')\n",
        "plt.plot(x,tiempos)\n",
        "plt.xticks(rotation=45)\n",
        "plt.show()"
      ],
      "execution_count": 46,
      "outputs": [
        {
          "output_type": "display_data",
          "data": {
            "image/png": "[encoded data removed]",
            "text/plain": [
              "<Figure size 432x288 with 1 Axes>"
            ]
          },
          "metadata": {
            "tags": [],
            "needs_background": "light"
          }
        }
      ]
    },
    {
      "cell_type": "code",
      "metadata": {
        "id": "cCWx0EzK1Hw2",
        "colab_type": "code",
        "colab": {}
      },
      "source": [
        ""
      ],
      "execution_count": null,
      "outputs": []
    }
  ]
}