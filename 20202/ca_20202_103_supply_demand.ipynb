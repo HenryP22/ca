{
  "nbformat": 4,
  "nbformat_minor": 0,
  "metadata": {
    "colab": {
      "name": "ca 20202 103 supply demand.ipynb",
      "provenance": [],
      "authorship_tag": "ABX9TyP5aFOhkbJuTNGQiDnf6B3/",
      "include_colab_link": true
    },
    "kernelspec": {
      "name": "python3",
      "display_name": "Python 3"
    }
  },
  "cells": [
    {
      "cell_type": "markdown",
      "metadata": {
        "id": "view-in-github",
        "colab_type": "text"
      },
      "source": [
        "<a href=\"https://colab.research.google.com/github/pcsilcan/ca/blob/master/20202/ca_20202_103_supply_demand.ipynb\" target=\"_parent\"><img src=\"https://colab.research.google.com/assets/colab-badge.svg\" alt=\"Open In Colab\"/></a>"
      ]
    },
    {
      "cell_type": "code",
      "metadata": {
        "id": "TcBNLf6-UmT6",
        "outputId": "3168ed6a-4f5e-47cb-b257-7ee68217da03",
        "colab": {
          "base_uri": "https://localhost:8080/",
          "height": 34
        }
      },
      "source": [
        "def next(Ctz, ini, type):\n",
        "    factor = 1 if type == 'demand' else -1\n",
        "    for i in range(ini, len(Ctz)):\n",
        "        if Ctz[i]*factor > 0:\n",
        "            return i\n",
        "    return -1\n",
        "\n",
        "def solve(Ctz, n):\n",
        "    T = 0\n",
        "    \n",
        "    Pdemand = 0\n",
        "    Psupply = 0\n",
        "    \n",
        "    while True:\n",
        "        if Ctz[Pdemand] == 0: Pdemand = next(Ctz, Pdemand+1, 'demand')\n",
        "        if Ctz[Psupply] == 0: Psupply = next(Ctz, Psupply+1, 'supply')\n",
        "        if Pdemand == -1 or Psupply == -1:\n",
        "            break\n",
        "        tradeAmount = min(abs(Ctz[Pdemand]), abs(Ctz[Psupply]))\n",
        "        T += abs(Pdemand - Psupply)*tradeAmount\n",
        "        Ctz[Pdemand] -= tradeAmount\n",
        "        Ctz[Psupply] += tradeAmount\n",
        "\n",
        "    return T\n",
        "\n",
        "solve([0, 5, -4, 1, -3, 1], 5)\n"
      ],
      "execution_count": null,
      "outputs": [
        {
          "output_type": "execute_result",
          "data": {
            "text/plain": [
              "9"
            ]
          },
          "metadata": {
            "tags": []
          },
          "execution_count": 4
        }
      ]
    },
    {
      "cell_type": "code",
      "metadata": {
        "id": "YG0BrnNhVzs3",
        "outputId": "cd238409-714a-4c39-acab-982ecb084f1b",
        "colab": {
          "base_uri": "https://localhost:8080/",
          "height": 34
        }
      },
      "source": [
        "%%writefile 1.in\n",
        "5\n",
        "5 -4 1 -3 1\n",
        "6\n",
        "-1000 -1000 -1000 1000 1000 1000\n",
        "0"
      ],
      "execution_count": null,
      "outputs": [
        {
          "output_type": "stream",
          "text": [
            "Writing 1.in\n"
          ],
          "name": "stdout"
        }
      ]
    },
    {
      "cell_type": "code",
      "metadata": {
        "id": "mzOvOgH4V0un",
        "outputId": "6445fc3c-6c48-403b-93f7-f7409e248066",
        "colab": {
          "base_uri": "https://localhost:8080/",
          "height": 34
        }
      },
      "source": [
        "solve([0, -1000, -1000, -1000, 1000, 1000, 1000], 6)"
      ],
      "execution_count": null,
      "outputs": [
        {
          "output_type": "execute_result",
          "data": {
            "text/plain": [
              "9000"
            ]
          },
          "metadata": {
            "tags": []
          },
          "execution_count": 6
        }
      ]
    },
    {
      "cell_type": "code",
      "metadata": {
        "id": "JGKHfOOsZCyj"
      },
      "source": [
        "def solve(ctz):\n",
        "    T = abs(ctz[0])\n",
        "    for i in range(1, len(ctz)):\n",
        "        ctz[i] += ctz[i - 1]\n",
        "        T += abs(ctz[i])\n",
        "\n",
        "    return T"
      ],
      "execution_count": null,
      "outputs": []
    },
    {
      "cell_type": "code",
      "metadata": {
        "id": "FkxT1Qp7xwv7",
        "outputId": "01756a6b-35d8-4060-8b77-9ef2e7612c85",
        "colab": {
          "base_uri": "https://localhost:8080/",
          "height": 34
        }
      },
      "source": [
        "solve([5, -4, 1, -3, 1])"
      ],
      "execution_count": null,
      "outputs": [
        {
          "output_type": "execute_result",
          "data": {
            "text/plain": [
              "9"
            ]
          },
          "metadata": {
            "tags": []
          },
          "execution_count": 11
        }
      ]
    },
    {
      "cell_type": "code",
      "metadata": {
        "id": "qo4WugSRx2VR",
        "outputId": "848da191-ce8a-4555-c47c-0c2441504fc8",
        "colab": {
          "base_uri": "https://localhost:8080/",
          "height": 34
        }
      },
      "source": [
        "solve([-1000, -1000, -1000, 1000, 1000, 1000])"
      ],
      "execution_count": null,
      "outputs": [
        {
          "output_type": "execute_result",
          "data": {
            "text/plain": [
              "9000"
            ]
          },
          "metadata": {
            "tags": []
          },
          "execution_count": 12
        }
      ]
    },
    {
      "cell_type": "code",
      "metadata": {
        "id": "hF6ZQQfWx5VP"
      },
      "source": [
        ""
      ],
      "execution_count": null,
      "outputs": []
    }
  ]
}