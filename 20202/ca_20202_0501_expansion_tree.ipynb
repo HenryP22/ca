{
  "nbformat": 4,
  "nbformat_minor": 0,
  "metadata": {
    "colab": {
      "name": "ca 20202 0501 expansion tree.ipynb",
      "provenance": [],
      "authorship_tag": "ABX9TyNYGULI9W4bKBOQuor6SnN7",
      "include_colab_link": true
    },
    "kernelspec": {
      "name": "python3",
      "display_name": "Python 3"
    }
  },
  "cells": [
    {
      "cell_type": "markdown",
      "metadata": {
        "id": "view-in-github",
        "colab_type": "text"
      },
      "source": [
        "<a href=\"https://colab.research.google.com/github/pcsilcan/ca/blob/master/20202/ca_20202_0501_expansion_tree.ipynb\" target=\"_parent\"><img src=\"https://colab.research.google.com/assets/colab-badge.svg\" alt=\"Open In Colab\"/></a>"
      ]
    },
    {
      "cell_type": "code",
      "metadata": {
        "id": "WAHa2xkQzeeQ",
        "colab_type": "code",
        "colab": {}
      },
      "source": [
        "def printPath(π, s, v):\n",
        "    if s == v:\n",
        "        print(s)\n",
        "    elif π[v] == None:\n",
        "        print(\"No path de %s a %s\"%(s, v))\n",
        "    else:\n",
        "        printPath(π, s, π[v])\n",
        "        print(v)"
      ],
      "execution_count": 3,
      "outputs": []
    },
    {
      "cell_type": "code",
      "metadata": {
        "id": "vPF95Ceky2O9",
        "colab_type": "code",
        "colab": {}
      },
      "source": [
        "π = {'r': None,\n",
        "     's': None, \n",
        "     't': 's', \n",
        "     'u': 't', \n",
        "     'v': 'w', \n",
        "     'w': 'x', \n",
        "     'x': 't', \n",
        "     'y': 'u'}"
      ],
      "execution_count": 2,
      "outputs": []
    },
    {
      "cell_type": "code",
      "metadata": {
        "id": "C-lCEJ70zAWj",
        "colab_type": "code",
        "colab": {
          "base_uri": "https://localhost:8080/",
          "height": 101
        },
        "outputId": "2affa538-ded6-4b31-af2f-81f52cdcbe49"
      },
      "source": [
        "printPath(π, 's', 'v')"
      ],
      "execution_count": 4,
      "outputs": [
        {
          "output_type": "stream",
          "text": [
            "s\n",
            "t\n",
            "x\n",
            "w\n",
            "v\n"
          ],
          "name": "stdout"
        }
      ]
    },
    {
      "cell_type": "code",
      "metadata": {
        "id": "1assR_xR0GPX",
        "colab_type": "code",
        "colab": {
          "base_uri": "https://localhost:8080/",
          "height": 101
        },
        "outputId": "17a007fd-55e3-4ae6-ed92-3e1809447b73"
      },
      "source": [
        "printPath(π, 'u', 'v')"
      ],
      "execution_count": 5,
      "outputs": [
        {
          "output_type": "stream",
          "text": [
            "No path de u a s\n",
            "t\n",
            "x\n",
            "w\n",
            "v\n"
          ],
          "name": "stdout"
        }
      ]
    },
    {
      "cell_type": "code",
      "metadata": {
        "id": "F3ZzqN4b0LRY",
        "colab_type": "code",
        "colab": {
          "base_uri": "https://localhost:8080/",
          "height": 50
        },
        "outputId": "e00e6f98-7c10-4046-fe06-528e59779b4d"
      },
      "source": [
        "printPath(π, 'u', 't')"
      ],
      "execution_count": 6,
      "outputs": [
        {
          "output_type": "stream",
          "text": [
            "No path de u a s\n",
            "t\n"
          ],
          "name": "stdout"
        }
      ]
    },
    {
      "cell_type": "code",
      "metadata": {
        "id": "ZmHXHaIX0iWn",
        "colab_type": "code",
        "colab": {
          "base_uri": "https://localhost:8080/",
          "height": 50
        },
        "outputId": "913aa644-93b6-4afa-bfde-09b5ba4b7bbd"
      },
      "source": [
        "printPath(π, 't', 'u')"
      ],
      "execution_count": 7,
      "outputs": [
        {
          "output_type": "stream",
          "text": [
            "t\n",
            "u\n"
          ],
          "name": "stdout"
        }
      ]
    },
    {
      "cell_type": "code",
      "metadata": {
        "id": "dH8tBorR0lUv",
        "colab_type": "code",
        "colab": {}
      },
      "source": [
        ""
      ],
      "execution_count": null,
      "outputs": []
    }
  ]
}