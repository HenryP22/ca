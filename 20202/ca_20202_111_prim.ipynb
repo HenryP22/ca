{
  "nbformat": 4,
  "nbformat_minor": 0,
  "metadata": {
    "colab": {
      "name": "ca 20202 111 prim.ipynb",
      "provenance": [],
      "collapsed_sections": [],
      "authorship_tag": "ABX9TyOeh/IWjQeLesQG1QI4EQ5s",
      "include_colab_link": true
    },
    "kernelspec": {
      "name": "python3",
      "display_name": "Python 3"
    }
  },
  "cells": [
    {
      "cell_type": "markdown",
      "metadata": {
        "id": "view-in-github",
        "colab_type": "text"
      },
      "source": [
        "<a href=\"https://colab.research.google.com/github/pcsilcan/ca/blob/master/20202/ca_20202_111_prim.ipynb\" target=\"_parent\"><img src=\"https://colab.research.google.com/assets/colab-badge.svg\" alt=\"Open In Colab\"/></a>"
      ]
    },
    {
      "cell_type": "markdown",
      "metadata": {
        "id": "eB4r8BFMpH6t"
      },
      "source": [
        "# The mighty PRIM"
      ]
    },
    {
      "cell_type": "code",
      "metadata": {
        "id": "vPGkizusotGx"
      },
      "source": [
        "import heapq as hq\n",
        "from math import inf"
      ],
      "execution_count": 1,
      "outputs": []
    },
    {
      "cell_type": "code",
      "metadata": {
        "id": "thh4ncPfpSYe"
      },
      "source": [
        "def prim(G, s=0):\n",
        "    n = len(G)\n",
        "    visited = [False]*n\n",
        "    path = [None]*n\n",
        "    weight = [inf]*n\n",
        "    pqueue = []\n",
        "\n",
        "    weight[s] = 0\n",
        "    hq.heappush(pqueue, (0, s))\n",
        "    while len(pqueue) > 0:\n",
        "        _, u = hq.heappop(pqueue)\n",
        "        if visited[u]: continue\n",
        "        visited[u] = True\n",
        "        for v, w in G[u]:\n",
        "            if not visited[v] and w < weight[v]:\n",
        "                weight[v] = w\n",
        "                path[v] = u\n",
        "                hq.heappush(pqueue, (w, v))\n",
        "\n",
        "    return path"
      ],
      "execution_count": 25,
      "outputs": []
    },
    {
      "cell_type": "code",
      "metadata": {
        "id": "_sM6pkjoqRty",
        "outputId": "7cd48c41-2016-4a64-c65f-e4ea2beed780",
        "colab": {
          "base_uri": "https://localhost:8080/",
          "height": 33
        }
      },
      "source": [
        "%%writefile 1.al3\n",
        "a: b 4 h 8\n",
        "b: a 4 c 8 h 11\n",
        "c: b 8 d 7 f 4 i 2\n",
        "d: c 7 e 9 f 14\n",
        "e: d 9 f 10\n",
        "f: c 4 d 14 e 10 g 2\n",
        "g: f 2 h 1 i 6\n",
        "h: a 8 b 11 g 1 i 7\n",
        "i: c 2 g 6 h 7"
      ],
      "execution_count": 6,
      "outputs": [
        {
          "output_type": "stream",
          "text": [
            "Writing 1.al3\n"
          ],
          "name": "stdout"
        }
      ]
    },
    {
      "cell_type": "code",
      "metadata": {
        "id": "Sy1H0-VGuvRt"
      },
      "source": [
        "def readAL3(filename):\n",
        "    V = []\n",
        "    Vx = {}\n",
        "    with open(filename) as f:\n",
        "        lines = f.readlines()\n",
        "    u = 0\n",
        "    for line in lines:\n",
        "        V.append(line.strip().split(':')[0])\n",
        "        Vx[V[-1]] = u\n",
        "        u += 1\n",
        "    G = [None for _ in range(len(V))]\n",
        "    u = 0\n",
        "    for line in lines:\n",
        "        it = iter(line.strip().split(':')[1].strip().split())\n",
        "        G[u] = [(Vx[v], int(w)) for v, w in zip(it, it)]\n",
        "        u += 1\n",
        "\n",
        "    return V, G, Vx"
      ],
      "execution_count": 18,
      "outputs": []
    },
    {
      "cell_type": "code",
      "metadata": {
        "id": "FvGfBcl7wqba",
        "outputId": "96ba1f62-bbef-464b-9bfc-580c773032d1",
        "colab": {
          "base_uri": "https://localhost:8080/",
          "height": 87
        }
      },
      "source": [
        "V, G, Vx = readAL3(\"1.al3\")\n",
        "print(V)\n",
        "print(Vx)\n",
        "print(G)"
      ],
      "execution_count": 19,
      "outputs": [
        {
          "output_type": "stream",
          "text": [
            "['a', 'b', 'c', 'd', 'e', 'f', 'g', 'h', 'i']\n",
            "{'a': 0, 'b': 1, 'c': 2, 'd': 3, 'e': 4, 'f': 5, 'g': 6, 'h': 7, 'i': 8}\n",
            "[[(1, 4), (7, 8)], [(0, 4), (2, 8), (7, 11)], [(1, 8), (3, 7), (5, 4), (8, 2)], [(2, 7), (4, 9), (5, 14)], [(3, 9), (5, 10)], [(2, 4), (3, 14), (4, 10), (6, 2)], [(5, 2), (7, 1), (8, 6)], [(0, 8), (1, 11), (6, 1), (8, 7)], [(2, 2), (6, 6), (7, 7)]]\n"
          ],
          "name": "stdout"
        }
      ]
    },
    {
      "cell_type": "code",
      "metadata": {
        "id": "pv1LH3V0xhHc",
        "outputId": "987f4e91-6d24-4aee-ed0d-c461de8dfc5d",
        "colab": {
          "base_uri": "https://localhost:8080/",
          "height": 50
        }
      },
      "source": [
        "path = prim(G, 5)\n",
        "print(path)\n",
        "[(None if x == None else V[x]) for x in path]"
      ],
      "execution_count": 29,
      "outputs": [
        {
          "output_type": "stream",
          "text": [
            "[7, 0, 5, 2, 3, None, 5, 6, 2]\n"
          ],
          "name": "stdout"
        },
        {
          "output_type": "execute_result",
          "data": {
            "text/plain": [
              "['h', 'a', 'f', 'c', 'd', None, 'f', 'g', 'c']"
            ]
          },
          "metadata": {
            "tags": []
          },
          "execution_count": 29
        }
      ]
    },
    {
      "cell_type": "code",
      "metadata": {
        "id": "r-bI6ioSvoEl",
        "outputId": "548e392a-1cd5-4b03-9fa9-4d092ba85999",
        "colab": {
          "base_uri": "https://localhost:8080/",
          "height": 33
        }
      },
      "source": [
        "temp = ['a', '8', 'b', '11', 'g', '1', 'i', '7']\n",
        "v = []\n",
        "w = []\n",
        "for i in range(len(temp)):\n",
        "    if i % 2 == 0:\n",
        "        v.append(temp[i])\n",
        "    else:\n",
        "        w.append(temp[i])\n",
        "\n",
        "list(zip(v, w))"
      ],
      "execution_count": 13,
      "outputs": [
        {
          "output_type": "execute_result",
          "data": {
            "text/plain": [
              "[('a', '8'), ('b', '11'), ('g', '1'), ('i', '7')]"
            ]
          },
          "metadata": {
            "tags": []
          },
          "execution_count": 13
        }
      ]
    },
    {
      "cell_type": "code",
      "metadata": {
        "id": "3g2pQ-hcwEhk",
        "outputId": "0859e8b2-489e-406a-d3ee-82aaf7767bf6",
        "colab": {
          "base_uri": "https://localhost:8080/",
          "height": 33
        }
      },
      "source": [
        "it = iter(temp)\n",
        "list(zip(it, it))"
      ],
      "execution_count": 14,
      "outputs": [
        {
          "output_type": "execute_result",
          "data": {
            "text/plain": [
              "[('a', '8'), ('b', '11'), ('g', '1'), ('i', '7')]"
            ]
          },
          "metadata": {
            "tags": []
          },
          "execution_count": 14
        }
      ]
    },
    {
      "cell_type": "code",
      "metadata": {
        "id": "DzRKmP__yr61"
      },
      "source": [
        ""
      ],
      "execution_count": null,
      "outputs": []
    }
  ]
}