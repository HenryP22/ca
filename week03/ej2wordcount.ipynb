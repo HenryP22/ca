{
  "nbformat": 4,
  "nbformat_minor": 0,
  "metadata": {
    "colab": {
      "name": "ej2wordcount.ipynb",
      "provenance": [],
      "authorship_tag": "ABX9TyOPBVBiR0woFAJe52EJ67ZL",
      "include_colab_link": true
    },
    "kernelspec": {
      "name": "python3",
      "display_name": "Python 3"
    }
  },
  "cells": [
    {
      "cell_type": "markdown",
      "metadata": {
        "id": "view-in-github",
        "colab_type": "text"
      },
      "source": [
        "<a href=\"https://colab.research.google.com/github/pcsilcan/ca/blob/master/week03/ej2wordcount.ipynb\" target=\"_parent\"><img src=\"https://colab.research.google.com/assets/colab-badge.svg\" alt=\"Open In Colab\"/></a>"
      ]
    },
    {
      "cell_type": "code",
      "metadata": {
        "id": "iipx4QTKxM03",
        "colab_type": "code",
        "colab": {}
      },
      "source": [
        "def wordsInLine(line):\n",
        "  words = line.split(' ')\n",
        "\n",
        "  def counter(i, f):\n",
        "    if i == f:\n",
        "      return 1\n",
        "    else:\n",
        "      m = (f + i) // 2\n",
        "      return counter(i, m) + counter(m+1, f)\n",
        "\n",
        "  return counter(0, len(words) - 1)\n",
        "\n",
        "def wordsInText(text):\n",
        "  lines = [line for line in text.split('\\n') if line != '']\n",
        "\n",
        "  def counter(i, f):\n",
        "    if i == f:\n",
        "      return wordsInLine(lines[i])\n",
        "    else:\n",
        "      m = (f + i) // 2\n",
        "      return counter(i, m) + counter(m+1, f)\n",
        "    \n",
        "  return counter(0, len(lines) - 1)"
      ],
      "execution_count": 0,
      "outputs": []
    },
    {
      "cell_type": "code",
      "metadata": {
        "id": "zinR5OD7y74m",
        "colab_type": "code",
        "colab": {
          "base_uri": "https://localhost:8080/",
          "height": 34
        },
        "outputId": "fed0d17e-eb53-407e-86ee-64ad9a396091"
      },
      "source": [
        "text = \"\"\"\n",
        "the quick brown fox jumped over the fence\n",
        "\n",
        "my friend is awesome\n",
        "\n",
        "I like algorthmic complexity\n",
        "\"\"\"\n",
        "\n",
        "print(wordsInText(text))"
      ],
      "execution_count": 12,
      "outputs": [
        {
          "output_type": "stream",
          "text": [
            "16\n"
          ],
          "name": "stdout"
        }
      ]
    },
    {
      "cell_type": "code",
      "metadata": {
        "id": "EfE31tozzQka",
        "colab_type": "code",
        "colab": {}
      },
      "source": [
        ""
      ],
      "execution_count": 0,
      "outputs": []
    }
  ]
}