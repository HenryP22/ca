{
  "nbformat": 4,
  "nbformat_minor": 0,
  "metadata": {
    "kernelspec": {
      "display_name": "SageMath (default)",
      "language": "sagemath",
      "metadata": {
        "cocalc": {
          "description": "Open-source mathematical software system",
          "priority": 10,
          "url": "https://www.sagemath.org/"
        }
      },
      "name": "sagemath"
    },
    "language_info": {
      "codemirror_mode": {
        "name": "ipython",
        "version": 2
      },
      "file_extension": ".py",
      "mimetype": "text/x-python",
      "name": "python",
      "nbconvert_exporter": "python",
      "pygments_lexer": "ipython2",
      "version": "2.7.15"
    },
    "colab": {
      "name": "4. Skyline Problem.ipynb",
      "provenance": [],
      "include_colab_link": true
    }
  },
  "cells": [
    {
      "cell_type": "markdown",
      "metadata": {
        "id": "view-in-github",
        "colab_type": "text"
      },
      "source": [
        "<a href=\"https://colab.research.google.com/github/pcsilcan/ca/blob/master/week03/4_Skyline_Problem.ipynb\" target=\"_parent\"><img src=\"https://colab.research.google.com/assets/colab-badge.svg\" alt=\"Open In Colab\"/></a>"
      ]
    },
    {
      "cell_type": "markdown",
      "metadata": {
        "collapsed": false,
        "id": "1IvoDw-lpzXp",
        "colab_type": "text"
      },
      "source": [
        "# Skyline Problem"
      ]
    },
    {
      "cell_type": "code",
      "metadata": {
        "id": "iIGmoIYapzXq",
        "colab_type": "code",
        "colab": {}
      },
      "source": [
        "X_Izq  = 0\n",
        "H      = 1\n",
        "X_Der  = 2"
      ],
      "execution_count": 0,
      "outputs": []
    },
    {
      "cell_type": "code",
      "metadata": {
        "id": "bg9gWeQOpzX0",
        "colab_type": "code",
        "colab": {}
      },
      "source": [
        "edificios = [[3, 13, 9],[1, 11, 5],[19, 18, 22],[3, 6, 7],[16, 3, 25],[12, 7, 16]]"
      ],
      "execution_count": 0,
      "outputs": []
    },
    {
      "cell_type": "markdown",
      "metadata": {
        "collapsed": false,
        "id": "iEtsFPGhpzX3",
        "colab_type": "text"
      },
      "source": [
        "### Solución Iterativa"
      ]
    },
    {
      "cell_type": "code",
      "metadata": {
        "id": "964bxUXSpzX3",
        "colab_type": "code",
        "colab": {}
      },
      "source": [
        "def skyline_iterativo(edificios):\n",
        "    Xs = set()\n",
        "    for edificio in edificios:\n",
        "        Xs.add(edificio[X_Izq])\n",
        "        Xs.add(edificio[X_Der])\n",
        "    Xs = list(Xs)\n",
        "    res = []\n",
        "    ult_y = None\n",
        "    for idx, x in enumerate(Xs):\n",
        "      Ys = [edificio[H] for edificio in edificios if edificio[X_Izq] <= x < edificio[X_Der]]\n",
        "      y = max(Ys) if Ys else 0\n",
        "      if y != ult_y:\n",
        "            res.append([x, y])\n",
        "            ult_y = y\n",
        "    return res"
      ],
      "execution_count": 0,
      "outputs": []
    },
    {
      "cell_type": "code",
      "metadata": {
        "id": "3RnM5O5fpzX7",
        "colab_type": "code",
        "colab": {
          "base_uri": "https://localhost:8080/",
          "height": 34
        },
        "outputId": "9b4835d7-9af5-414e-b0a2-1a571cb7eac6"
      },
      "source": [
        "skyline_iterativo(edificios)"
      ],
      "execution_count": 15,
      "outputs": [
        {
          "output_type": "execute_result",
          "data": {
            "text/plain": [
              "[[1, 11], [3, 13], [9, 0], [12, 7], [16, 3], [19, 18], [22, 3], [25, 0]]"
            ]
          },
          "metadata": {
            "tags": []
          },
          "execution_count": 15
        }
      ]
    },
    {
      "cell_type": "markdown",
      "metadata": {
        "collapsed": false,
        "id": "20hvZyN5pzYD",
        "colab_type": "text"
      },
      "source": [
        "### Solución Recursiva"
      ]
    },
    {
      "cell_type": "code",
      "metadata": {
        "id": "8ZHc8fxdpzYE",
        "colab_type": "code",
        "colab": {}
      },
      "source": [
        "def agregar(strips, strip):\n",
        "    print(\"->\", strips, strip)\n",
        "    if len(strips)>0:\n",
        "        if strips[-1][H] == strip[H]:\n",
        "            return\n",
        "        if strips[-1][X_Izq] == strip[X_Izq]:\n",
        "            strips[-1][H] = max(strips[-1][H], strip[H])\n",
        "            return\n",
        "    strips.append(strip)"
      ],
      "execution_count": 0,
      "outputs": []
    },
    {
      "cell_type": "code",
      "metadata": {
        "id": "C7QoeBXSpzYH",
        "colab_type": "code",
        "colab": {}
      },
      "source": [
        "def combinar(strips_izq, strips_der):\n",
        "    print(strips_izq, strips_der)\n",
        "    res = []\n",
        "    h_izq = h_der = 0\n",
        "    i = j = 0\n",
        "    while i < len(strips_izq) and j < len(strips_der):\n",
        "        if strips_izq[i][X_Izq] < strips_der[j][X_Izq]:\n",
        "            x = strips_izq[i][X_Izq]\n",
        "            h_izq = strips_izq[i][H]\n",
        "            i+=1\n",
        "        else:\n",
        "            x = strips_der[j][X_Izq]\n",
        "            h_der = strips_der[j][H]\n",
        "            j+=1\n",
        "        max_h = max(h_izq, h_der)\n",
        "        agregar(res, [x, max_h])\n",
        "    [agregar(res, strip) for strip in strips_izq[i:]]\n",
        "    [agregar(res, strip) for strip in strips_der[j:]]\n",
        "    return res"
      ],
      "execution_count": 0,
      "outputs": []
    },
    {
      "cell_type": "code",
      "metadata": {
        "id": "9ukZv0rIpzYL",
        "colab_type": "code",
        "colab": {}
      },
      "source": [
        "def skyline_recursivo(edificios, p, r):\n",
        "    if p == r:\n",
        "        edificio = edificios[p]\n",
        "        res=[[edificio[X_Izq],edificio[H]],[edificio[X_Der],0]]\n",
        "        return res\n",
        "    q = (p + r)//2\n",
        "    strips_izq = skyline_recursivo(edificios, p, q)\n",
        "    strips_der = skyline_recursivo(edificios, q+1, r)\n",
        "    strips = combinar(strips_izq, strips_der)\n",
        "    return strips"
      ],
      "execution_count": 0,
      "outputs": []
    },
    {
      "cell_type": "code",
      "metadata": {
        "id": "c6BTSv2CpzYU",
        "colab_type": "code",
        "colab": {
          "base_uri": "https://localhost:8080/",
          "height": 605
        },
        "outputId": "d612db9c-34fe-4f9e-c605-b82bd6c29021"
      },
      "source": [
        "print(skyline_recursivo(edificios, 0, len(edificios)-1))"
      ],
      "execution_count": 22,
      "outputs": [
        {
          "output_type": "stream",
          "text": [
            "[[3, 13], [9, 0]] [[1, 11], [5, 0]]\n",
            "-> [] [1, 11]\n",
            "-> [[1, 11]] [3, 13]\n",
            "-> [[1, 11], [3, 13]] [5, 13]\n",
            "-> [[1, 11], [3, 13]] [9, 0]\n",
            "[[1, 11], [3, 13], [9, 0]] [[19, 18], [22, 0]]\n",
            "-> [] [1, 11]\n",
            "-> [[1, 11]] [3, 13]\n",
            "-> [[1, 11], [3, 13]] [9, 0]\n",
            "-> [[1, 11], [3, 13], [9, 0]] [19, 18]\n",
            "-> [[1, 11], [3, 13], [9, 0], [19, 18]] [22, 0]\n",
            "[[3, 6], [7, 0]] [[16, 3], [25, 0]]\n",
            "-> [] [3, 6]\n",
            "-> [[3, 6]] [7, 0]\n",
            "-> [[3, 6], [7, 0]] [16, 3]\n",
            "-> [[3, 6], [7, 0], [16, 3]] [25, 0]\n",
            "[[3, 6], [7, 0], [16, 3], [25, 0]] [[12, 7], [16, 0]]\n",
            "-> [] [3, 6]\n",
            "-> [[3, 6]] [7, 0]\n",
            "-> [[3, 6], [7, 0]] [12, 7]\n",
            "-> [[3, 6], [7, 0], [12, 7]] [16, 0]\n",
            "-> [[3, 6], [7, 0], [12, 7], [16, 0]] [16, 3]\n",
            "-> [[3, 6], [7, 0], [12, 7], [16, 3]] [25, 0]\n",
            "[[1, 11], [3, 13], [9, 0], [19, 18], [22, 0]] [[3, 6], [7, 0], [12, 7], [16, 3], [25, 0]]\n",
            "-> [] [1, 11]\n",
            "-> [[1, 11]] [3, 11]\n",
            "-> [[1, 11]] [3, 13]\n",
            "-> [[1, 11], [3, 13]] [7, 13]\n",
            "-> [[1, 11], [3, 13]] [9, 0]\n",
            "-> [[1, 11], [3, 13], [9, 0]] [12, 7]\n",
            "-> [[1, 11], [3, 13], [9, 0], [12, 7]] [16, 3]\n",
            "-> [[1, 11], [3, 13], [9, 0], [12, 7], [16, 3]] [19, 18]\n",
            "-> [[1, 11], [3, 13], [9, 0], [12, 7], [16, 3], [19, 18]] [22, 3]\n",
            "-> [[1, 11], [3, 13], [9, 0], [12, 7], [16, 3], [19, 18], [22, 3]] [25, 0]\n",
            "[[1, 11], [3, 13], [9, 0], [12, 7], [16, 3], [19, 18], [22, 3], [25, 0]]\n"
          ],
          "name": "stdout"
        }
      ]
    },
    {
      "cell_type": "code",
      "metadata": {
        "id": "TudX930i0fgf",
        "colab_type": "code",
        "colab": {}
      },
      "source": [
        ""
      ],
      "execution_count": 0,
      "outputs": []
    },
    {
      "cell_type": "markdown",
      "metadata": {
        "id": "DzvZLxDu7Afl",
        "colab_type": "text"
      },
      "source": [
        "Credito: Ricardo Go(d)nzalez Valenzuela\n"
      ]
    },
    {
      "cell_type": "code",
      "metadata": {
        "id": "hEu_SzbK7F04",
        "colab_type": "code",
        "colab": {}
      },
      "source": [
        ""
      ],
      "execution_count": 0,
      "outputs": []
    }
  ]
}