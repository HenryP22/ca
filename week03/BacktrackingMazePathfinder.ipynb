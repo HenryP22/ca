{
  "nbformat": 4,
  "nbformat_minor": 0,
  "metadata": {
    "colab": {
      "name": "BacktrackingMazePathfinder.ipynb",
      "provenance": [],
      "collapsed_sections": [],
      "authorship_tag": "ABX9TyPyUISwnAsQ3duru6nZMfbX",
      "include_colab_link": true
    },
    "kernelspec": {
      "name": "python3",
      "display_name": "Python 3"
    }
  },
  "cells": [
    {
      "cell_type": "markdown",
      "metadata": {
        "id": "view-in-github",
        "colab_type": "text"
      },
      "source": [
        "<a href=\"https://colab.research.google.com/github/pcsilcan/ca/blob/master/week03/BacktrackingMazePathfinder.ipynb\" target=\"_parent\"><img src=\"https://colab.research.google.com/assets/colab-badge.svg\" alt=\"Open In Colab\"/></a>"
      ]
    },
    {
      "cell_type": "code",
      "metadata": {
        "id": "5gxtSMsY9jj-",
        "colab_type": "code",
        "colab": {}
      },
      "source": [
        "def newMaze():\n",
        "  return [[0,0,0,0,0,0,0,0,0,0,0,0,0,0,0,0,0,0,0],\n",
        "          [0,0,0,0,1,1,1,1,1,1,1,0,1,1,1,1,1,1,1],\n",
        "          [0,0,0,0,1,0,0,0,1,0,0,0,1,0,1,0,0,0,0],\n",
        "          [0,0,0,0,1,1,1,0,1,1,1,0,1,0,1,1,1,1,0],\n",
        "          [0,0,0,0,0,0,1,0,0,0,0,0,1,0,0,1,0,0,0],\n",
        "          [0,0,0,0,0,0,1,1,1,1,1,1,1,0,0,1,0,1,0],\n",
        "          [0,0,0,0,0,0,1,0,0,0,0,0,0,0,0,1,0,1,0],\n",
        "          [0,0,0,0,0,0,1,0,1,1,1,1,1,1,0,1,1,1,0],\n",
        "          [0,0,0,0,0,0,1,0,0,0,0,0,0,1,0,1,0,0,0],\n",
        "          [0,0,0,0,0,0,1,0,1,1,1,1,0,1,0,1,0,1,0],\n",
        "          [0,0,0,0,0,0,1,0,1,0,1,0,0,1,0,1,0,1,0],\n",
        "          [0,0,0,0,0,0,1,0,1,0,1,0,0,1,0,0,0,1,0],\n",
        "          [0,0,0,0,0,0,1,0,1,1,1,0,0,1,1,1,1,1,0],\n",
        "          [0,0,0,0,0,0,1,0,1,0,1,0,0,0,0,0,0,1,0],\n",
        "          [0,0,0,0,0,0,1,0,1,0,1,1,1,1,1,1,1,1,0],\n",
        "          [0,0,0,0,0,0,1,0,0,0,0,0,0,0,0,0,0,1,0],\n",
        "          [1,1,1,1,1,1,1,1,1,1,1,1,1,1,1,1,1,1,0],\n",
        "          [0,0,0,0,0,0,0,0,0,0,0,0,0,0,0,0,0,0,0]]"
      ],
      "execution_count": 0,
      "outputs": []
    },
    {
      "cell_type": "code",
      "metadata": {
        "id": "RPl04crq-Pe2",
        "colab_type": "code",
        "colab": {}
      },
      "source": [
        "import matplotlib.pyplot as plt"
      ],
      "execution_count": 0,
      "outputs": []
    },
    {
      "cell_type": "code",
      "metadata": {
        "id": "8CBi0HQ4-bmr",
        "colab_type": "code",
        "colab": {}
      },
      "source": [
        "def backtracking(lab, i, j):\n",
        "  def valido(x, y):\n",
        "    rows = len(lab)\n",
        "    cols = len(lab[0])\n",
        "    if x < 0 or x >= rows or y < 0 or y >= cols:\n",
        "      return False\n",
        "\n",
        "    return lab[x][y] == 1\n",
        "    \n",
        "\n",
        "  if i == 1 and j == len(lab[0]) - 1:\n",
        "    print(\"We got out\")\n",
        "    plt.imshow(lab)\n",
        "    plt.show()\n",
        "    return True\n",
        "  else:\n",
        "    # movimientos arriba, abajo, izquierda, derecha\n",
        "    if valido(i - 1, j):\n",
        "      lab[i-1][j] = 2\n",
        "      if backtracking(lab, i - 1, j):\n",
        "        return True\n",
        "      else:\n",
        "        lab[i-1][j] = 3\n",
        "\n",
        "    if valido(i + 1, j):\n",
        "      lab[i+1][j] = 2\n",
        "      if backtracking(lab, i + 1, j):\n",
        "        return True\n",
        "      else:\n",
        "        lab[i+1][j] = 3\n",
        "\n",
        "    if valido(i, j - 1):\n",
        "      lab[i][j-1] = 2\n",
        "      if backtracking(lab, i, j - 1):\n",
        "        return True\n",
        "      else:\n",
        "        lab[i][j-1] = 3\n",
        "    \n",
        "    if valido(i, j + 1):\n",
        "      lab[i][j+1] = 2\n",
        "      if backtracking(lab, i, j + 1):\n",
        "        return True\n",
        "      else:\n",
        "        lab[i][j+1] = 3\n",
        "\n",
        "\n",
        "    return False"
      ],
      "execution_count": 0,
      "outputs": []
    },
    {
      "cell_type": "code",
      "metadata": {
        "id": "PkWtg55LAQN2",
        "colab_type": "code",
        "outputId": "131ca46f-f71c-48f4-b10f-2f5d4e34176a",
        "colab": {
          "base_uri": "https://localhost:8080/",
          "height": 265
        }
      },
      "source": [
        "laberinto = newMaze()\n",
        "plt.imshow(laberinto)\n",
        "plt.show()"
      ],
      "execution_count": 6,
      "outputs": [
        {
          "output_type": "display_data",
          "data": {
            "image/png": "[encoded data removed]",
            "text/plain": [
              "<Figure size 432x288 with 1 Axes>"
            ]
          },
          "metadata": {
            "tags": [],
            "needs_background": "light"
          }
        }
      ]
    },
    {
      "cell_type": "code",
      "metadata": {
        "id": "2dvA32wHx_m_",
        "colab_type": "code",
        "colab": {
          "base_uri": "https://localhost:8080/",
          "height": 298
        },
        "outputId": "6fb46d47-6d7f-4886-fcf1-aff54b9121e0"
      },
      "source": [
        "backtracking(laberinto, len(laberinto) - 2, -1)"
      ],
      "execution_count": 7,
      "outputs": [
        {
          "output_type": "stream",
          "text": [
            "We got out\n"
          ],
          "name": "stdout"
        },
        {
          "output_type": "display_data",
          "data": {
            "image/png": "[encoded data removed]",
            "text/plain": [
              "<Figure size 432x288 with 1 Axes>"
            ]
          },
          "metadata": {
            "tags": [],
            "needs_background": "light"
          }
        },
        {
          "output_type": "execute_result",
          "data": {
            "text/plain": [
              "True"
            ]
          },
          "metadata": {
            "tags": []
          },
          "execution_count": 7
        }
      ]
    },
    {
      "cell_type": "code",
      "metadata": {
        "id": "iUziVoTyAsJ3",
        "colab_type": "code",
        "outputId": "ec05467b-2034-46bf-995d-6af398b15015",
        "colab": {
          "base_uri": "https://localhost:8080/",
          "height": 319
        }
      },
      "source": [
        "for row in laberinto:\n",
        "  print(row)"
      ],
      "execution_count": 8,
      "outputs": [
        {
          "output_type": "stream",
          "text": [
            "[0, 0, 0, 0, 0, 0, 0, 0, 0, 0, 0, 0, 0, 0, 0, 0, 0, 0, 0]\n",
            "[0, 0, 0, 0, 3, 3, 3, 3, 3, 3, 3, 0, 2, 2, 2, 2, 2, 2, 2]\n",
            "[0, 0, 0, 0, 3, 0, 0, 0, 3, 0, 0, 0, 2, 0, 3, 0, 0, 0, 0]\n",
            "[0, 0, 0, 0, 3, 3, 3, 0, 3, 3, 3, 0, 2, 0, 3, 3, 3, 3, 0]\n",
            "[0, 0, 0, 0, 0, 0, 3, 0, 0, 0, 0, 0, 2, 0, 0, 3, 0, 0, 0]\n",
            "[0, 0, 0, 0, 0, 0, 2, 2, 2, 2, 2, 2, 2, 0, 0, 3, 0, 3, 0]\n",
            "[0, 0, 0, 0, 0, 0, 2, 0, 0, 0, 0, 0, 0, 0, 0, 3, 0, 3, 0]\n",
            "[0, 0, 0, 0, 0, 0, 2, 0, 1, 1, 1, 1, 1, 1, 0, 3, 3, 3, 0]\n",
            "[0, 0, 0, 0, 0, 0, 2, 0, 0, 0, 0, 0, 0, 1, 0, 3, 0, 0, 0]\n",
            "[0, 0, 0, 0, 0, 0, 2, 0, 1, 1, 1, 1, 0, 1, 0, 3, 0, 1, 0]\n",
            "[0, 0, 0, 0, 0, 0, 2, 0, 1, 0, 1, 0, 0, 1, 0, 3, 0, 1, 0]\n",
            "[0, 0, 0, 0, 0, 0, 2, 0, 1, 0, 1, 0, 0, 1, 0, 0, 0, 1, 0]\n",
            "[0, 0, 0, 0, 0, 0, 2, 0, 1, 1, 1, 0, 0, 1, 1, 1, 1, 1, 0]\n",
            "[0, 0, 0, 0, 0, 0, 2, 0, 1, 0, 1, 0, 0, 0, 0, 0, 0, 1, 0]\n",
            "[0, 0, 0, 0, 0, 0, 2, 0, 1, 0, 1, 1, 1, 1, 1, 1, 1, 1, 0]\n",
            "[0, 0, 0, 0, 0, 0, 2, 0, 0, 0, 0, 0, 0, 0, 0, 0, 0, 1, 0]\n",
            "[2, 2, 2, 2, 2, 2, 2, 1, 1, 1, 1, 1, 1, 1, 1, 1, 1, 1, 0]\n",
            "[0, 0, 0, 0, 0, 0, 0, 0, 0, 0, 0, 0, 0, 0, 0, 0, 0, 0, 0]\n"
          ],
          "name": "stdout"
        }
      ]
    },
    {
      "cell_type": "code",
      "metadata": {
        "id": "M7EMFTtxD8kn",
        "colab_type": "code",
        "colab": {}
      },
      "source": [
        ""
      ],
      "execution_count": 0,
      "outputs": []
    }
  ]
}