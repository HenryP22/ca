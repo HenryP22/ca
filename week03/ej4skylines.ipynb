{
  "nbformat": 4,
  "nbformat_minor": 0,
  "metadata": {
    "colab": {
      "name": "ej4skylines.ipynb",
      "provenance": [],
      "authorship_tag": "ABX9TyPpoWLjUaRpw3fGuW42qJOD",
      "include_colab_link": true
    },
    "kernelspec": {
      "name": "python3",
      "display_name": "Python 3"
    }
  },
  "cells": [
    {
      "cell_type": "markdown",
      "metadata": {
        "id": "view-in-github",
        "colab_type": "text"
      },
      "source": [
        "<a href=\"https://colab.research.google.com/github/pcsilcan/ca/blob/master/week03/ej4skylines.ipynb\" target=\"_parent\"><img src=\"https://colab.research.google.com/assets/colab-badge.svg\" alt=\"Open In Colab\"/></a>"
      ]
    },
    {
      "cell_type": "markdown",
      "metadata": {
        "id": "a_sSVSB5CpRV",
        "colab_type": "text"
      },
      "source": [
        "# Skylines"
      ]
    },
    {
      "cell_type": "code",
      "metadata": {
        "id": "1L3J3OxVCimU",
        "colab_type": "code",
        "colab": {}
      },
      "source": [
        "def skylines(buildings):\n",
        "  def getPoliline(i):\n",
        "    g, h, d = buildings[i]\n",
        "    return [(g, h), (d, 0)]\n",
        "\n",
        "  def merge(pl1, pl2):\n",
        "    return\n",
        "\n",
        "  def dc(i, f):\n",
        "    if i == f:\n",
        "      print(getPoliline(i))\n",
        "      return getPoliline(i)\n",
        "    else:\n",
        "      m = (i + f) // 2\n",
        "      pl1 = dc(i, m)\n",
        "      pl2 = dc(m + 1, f)\n",
        "      return merge(pl1, pl2)\n",
        "\n",
        "  dc(0, len(buildings) - 1)"
      ],
      "execution_count": 0,
      "outputs": []
    },
    {
      "cell_type": "code",
      "metadata": {
        "id": "KZuT_89vERcG",
        "colab_type": "code",
        "colab": {
          "base_uri": "https://localhost:8080/",
          "height": 118
        },
        "outputId": "10c90fa9-757d-46cd-e0c0-c01ef328f1ef"
      },
      "source": [
        "skylines([ (3, 13, 9), (1, 11, 5), (19, 18, 22), (3, 6, 7), (16, 3, 25), (12, 7, 16) ])"
      ],
      "execution_count": 10,
      "outputs": [
        {
          "output_type": "stream",
          "text": [
            "[(3, 13), (9, 0)]\n",
            "[(1, 11), (5, 0)]\n",
            "[(19, 18), (22, 0)]\n",
            "[(3, 6), (7, 0)]\n",
            "[(16, 3), (25, 0)]\n",
            "[(12, 7), (16, 0)]\n"
          ],
          "name": "stdout"
        }
      ]
    },
    {
      "cell_type": "code",
      "metadata": {
        "id": "0OAre4jzEYn0",
        "colab_type": "code",
        "colab": {}
      },
      "source": [
        ""
      ],
      "execution_count": 0,
      "outputs": []
    }
  ]
}