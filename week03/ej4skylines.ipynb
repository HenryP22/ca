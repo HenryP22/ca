{
  "nbformat": 4,
  "nbformat_minor": 0,
  "metadata": {
    "colab": {
      "name": "ej4skylines.ipynb",
      "provenance": [],
      "authorship_tag": "ABX9TyM/0WNE7qPBM1kDmhBoZc0h",
      "include_colab_link": true
    },
    "kernelspec": {
      "name": "python3",
      "display_name": "Python 3"
    }
  },
  "cells": [
    {
      "cell_type": "markdown",
      "metadata": {
        "id": "view-in-github",
        "colab_type": "text"
      },
      "source": [
        "<a href=\"https://colab.research.google.com/github/pcsilcan/ca/blob/master/week03/ej4skylines.ipynb\" target=\"_parent\"><img src=\"https://colab.research.google.com/assets/colab-badge.svg\" alt=\"Open In Colab\"/></a>"
      ]
    },
    {
      "cell_type": "markdown",
      "metadata": {
        "id": "a_sSVSB5CpRV",
        "colab_type": "text"
      },
      "source": [
        "# Skylines"
      ]
    },
    {
      "cell_type": "code",
      "metadata": {
        "id": "1L3J3OxVCimU",
        "colab_type": "code",
        "colab": {}
      },
      "source": [
        "def skylines(buildings):\n",
        "    def getPoliline(i):\n",
        "        g, h, d = buildings[i]\n",
        "        return [(g, h), (d, 0)]\n",
        "\n",
        "    def add(res, tpl):\n",
        "        if len(res)>0:\n",
        "            if res[-1][1] == tpl[1]:\n",
        "                return\n",
        "            if res[-1][0] == tpl[0]:\n",
        "                res[-1] = (res[-1][0], max(res[-1][1], tpl[1]))\n",
        "                return\n",
        "        res.append(tpl)\n",
        "\n",
        "    def merge(pl1, pl2):\n",
        "        # print(pl1, pl2)\n",
        "        res = []\n",
        "        i, j = 0, 0\n",
        "        n, m = len(pl1), len(pl2)\n",
        "        hleft, hright = 0, 0\n",
        "        while i < n or j < m:\n",
        "            if j >= m or i < n and pl1[i][0] < pl2[j][0]:\n",
        "                x, hleft = pl1[i]\n",
        "                i += 1\n",
        "            else:\n",
        "                x, hright = pl2[j]\n",
        "                j += 1\n",
        "            hmax = max(hleft, hright)\n",
        "            add(res, (x, hmax))\n",
        "        # print(res)\n",
        "        return res\n",
        "\n",
        "    def dc(i, f):\n",
        "        if i == f:\n",
        "            return getPoliline(i)\n",
        "        else:\n",
        "            m = (i + f) // 2\n",
        "            return merge(dc(i, m), dc(m + 1, f))\n",
        "\n",
        "    return dc(0, len(buildings) - 1)"
      ],
      "execution_count": 0,
      "outputs": []
    },
    {
      "cell_type": "code",
      "metadata": {
        "id": "KZuT_89vERcG",
        "colab_type": "code",
        "outputId": "1387cdf6-619c-46e0-8479-089e9fd814a5",
        "colab": {
          "base_uri": "https://localhost:8080/",
          "height": 34
        }
      },
      "source": [
        "polyline = skylines([(3, 13, 9), (1, 11, 5), (19, 18, 22),\n",
        "                     (3, 6, 7), (16, 3, 25), (12, 7, 16)])\n",
        "print(polyline)"
      ],
      "execution_count": 42,
      "outputs": [
        {
          "output_type": "stream",
          "text": [
            "[(1, 11), (3, 13), (9, 0), (12, 7), (16, 3), (19, 18), (22, 3), (25, 0)]\n"
          ],
          "name": "stdout"
        }
      ]
    },
    {
      "cell_type": "markdown",
      "metadata": {
        "id": "X-itQwFc8WNj",
        "colab_type": "text"
      },
      "source": [
        "Resultado esperado:\n",
        "```\n",
        "[(1, 11), (3, 13), (9, 0), (12, 7), (16, 3), (19, 18), (22, 3), (25, 0)]\n",
        "```"
      ]
    },
    {
      "cell_type": "code",
      "metadata": {
        "id": "LCdRXMtY-c5E",
        "colab_type": "code",
        "colab": {
          "base_uri": "https://localhost:8080/",
          "height": 269
        },
        "outputId": "72ac5ac8-cb13-4110-ff27-a04497e88889"
      },
      "source": [
        "import matplotlib.pyplot as plt\n",
        "from matplotlib.path import Path\n",
        "import matplotlib.patches as patches\n",
        "\n",
        "points = [(0, 0)]\n",
        "for i in range(len(polyline)):\n",
        "    points.append((polyline[i][0], points[-1][1]))\n",
        "    points.append(polyline[i])\n",
        "\n",
        "\n",
        "n = len(points)\n",
        "codes = [Path.LINETO]*n\n",
        "codes[0] = Path.MOVETO\n",
        "#codes[-1] = Path.CLOSEPOLY\n",
        "\n",
        "path = Path(points, codes)\n",
        "\n",
        "fig = plt.figure()\n",
        "ax = fig.add_subplot(111)\n",
        "patch = patches.PathPatch(path, facecolor='white', lw=1)\n",
        "ax.add_patch(patch)\n",
        "#plt.axis('off')\n",
        "ax.set_xlim(0,26)\n",
        "ax.set_ylim(0,20)\n",
        "plt.show()"
      ],
      "execution_count": 47,
      "outputs": [
        {
          "output_type": "display_data",
          "data": {
            "image/png": "[encoded data removed]",
            "text/plain": [
              "<Figure size 432x288 with 1 Axes>"
            ]
          },
          "metadata": {
            "tags": [],
            "needs_background": "light"
          }
        }
      ]
    },
    {
      "cell_type": "code",
      "metadata": {
        "id": "869o-Wb8-_F5",
        "colab_type": "code",
        "colab": {}
      },
      "source": [
        ""
      ],
      "execution_count": 0,
      "outputs": []
    }
  ]
}